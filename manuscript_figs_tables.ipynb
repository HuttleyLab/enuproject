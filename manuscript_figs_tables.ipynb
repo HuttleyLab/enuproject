{
  "cells": [
    {
      "cell_type": "markdown",
      "source": [
        "# Generating figures, tables and supplementary material\n",
        "\n",
        "**Authored by:** Yicheng Zhu, Cheng Soon Ong and Gavin Huttley\n",
        "\n",
        "This notebook produces the figures and tables for the main manuscript and the supplementary material. It assumes the directory containing the manuscript latex is named `mutation_classifier_manuscript` and is a sister directory to the one containing this file.\n",
        "\nThe notebook further assumes installation of numerous python libraries. Those are defined in the top level imports below."
      ],
      "metadata": {}
    },
    {
      "cell_type": "code",
      "source": [
        "%matplotlib inline\n",
        "from warnings import filterwarnings\n",
        "\n",
        "# suppressing the multitude of future and user warnings from the graphics libraries\n",
        "filterwarnings(\"ignore\", category=Warning)\n",
        "\n",
        "import os, itertools, glob, json, shutil, operator\n",
        "from itertools import permutations, combinations\n",
        "from collections import defaultdict, OrderedDict\n",
        "import numpy as np\n",
        "import pandas as pd\n",
        "\n",
        "from cogent3 import LoadTable, DNA\n",
        "\n",
        "from plotnine import *\n",
        "import matplotlib.pyplot as plt\n",
        "import matplotlib.gridspec as gridspec\n",
        "from matplotlib.ticker import FuncFormatter, MultipleLocator\n",
        "from mutation_motif import util, logo\n",
        "from mutation_motif.mutation_analysis import get_single_position_fig, single_position_effects, get_selected_indices\n",
        "from mutation_motif.height import get_re_char_heights\n",
        "from mutation_motif.draw import get_plot_data, format_float, draw_spectrum_grid"
      ],
      "outputs": [],
      "execution_count": 1,
      "metadata": {
        "collapsed": true
      }
    },
    {
      "cell_type": "code",
      "source": [
        "def get_auc(directory, sample_aucs, clf):\n",
        "    \"\"\"return the average classification auROC score in specified directory\"\"\"\n",
        "    data_files = glob.glob(os.path.join(directory + 'sample_*/%s/classification_report.json' % clf))\n",
        "    train_size = int(directory.split('/')[-2].split('_')[-1])\n",
        "    dimension = int(directory.split('/')[-3].split('_')[0])\n",
        "    \n",
        "    for file in data_files:\n",
        "        json_data=open(file).read()\n",
        "        data = json.loads(json_data)\n",
        "        #sample_idx = file.split('/')[7]\n",
        "        auc_score = data[\"auROC\"]\n",
        "        sample_aucs.append([dimension, train_size, auc_score, clf])\n",
        "     \n",
        "    return sample_aucs\n",
        "\n",
        "def format_positions(positions):\n",
        "    positions = positions.split(\":\")\n",
        "    old_new = {\"0\": \"-2\", \"1\": \"-1\", \"2\": \"+1\", \"3\": \"+2\"}\n",
        "    redone = [old_new[p[-1]] for p in positions]\n",
        "    if len(redone) == 1:\n",
        "        template = \"%s\"\n",
        "    else:\n",
        "        template = \"(%s)\"\n",
        "    \n",
        "    return template % \", \".join(redone)\n",
        "\n",
        "def format_direction(direction):\n",
        "    direction = direction.replace('to', r'$\\rightarrow$')\n",
        "    return direction\n",
        "\n",
        "def format_group(group):\n",
        "    group_dict = {'ENU_variants':'ENU', 'germline_variants':'Spontaneous'}\n",
        "    group = group.split('/')[7]\n",
        "    return group_dict[group]\n",
        "\n",
        "def format_pvalue(value):\n",
        "    \"\"\"0.0 if 0, float if <= 0.0001, scientific otherwise\"\"\"\n",
        "    epsilon = 1e-6\n",
        "    if value <= 1e-100:\n",
        "        result = \"0.0\"\n",
        "    elif 1-epsilon <= value <= 1.0+epsilon:\n",
        "        result = \"1.0\"\n",
        "    elif 1e-4 <= value:\n",
        "        result = \"%.4f\" % value\n",
        "    elif 0 < value < 1e-4:\n",
        "        result = latex_format_numbers(value)\n",
        "    else:\n",
        "        raise ValueError(value)\n",
        "    return result\n",
        "\n",
        "def latex_format_numbers(value):\n",
        "    try:\n",
        "        value = float(value)\n",
        "    except ValueError:\n",
        "        return value\n",
        "    \n",
        "    if value == 0:\n",
        "        return \"0\"\n",
        "    v = \"%.1e\" % value\n",
        "    v = v.split(\"e\")\n",
        "    v[1] = str(int(v[1]))\n",
        "    v = r\"$%s\\times 10^{%s}$\" % tuple(v)\n",
        "    return v\n",
        "\n",
        "table_template = \"\\\\begin{table}[htp]\\n\\\\centering\\n%s\\n\\end{table}\\n\"\n",
        "\n",
        "def format_latex_table(table, justify, label=None):\n",
        "    caption = table.title or \"\"\n",
        "    table.title = \"\"\n",
        "    label = label or \"\"\n",
        "    result = table_template % table.tostring(format=\"latex\", justify=justify)\n",
        "    result = result.replace(\"longtable\", \"tabular\").replace(\"[htp!]\", \"\")\n",
        "    \n",
        "    if caption:\n",
        "        caption = r\"\\caption{%s}\" % caption\n",
        "    \n",
        "    if label:\n",
        "        caption += r\"\\label{%s}\" % label\n",
        "    \n",
        "    if caption:\n",
        "        result = result.splitlines()\n",
        "        result.insert(-1, caption)\n",
        "        result = \"\\n\".join(result)\n",
        "    \n",
        "    return result\n",
        "\nmodel_nm_dict = {0:\"M\", 1:\"M+I\", 2:\"M+I+2D\", 3:\"M+I+3D\", 4:\"M+I+4D\", 5:\"M+I+5D\", 6:\"FS\"}"
      ],
      "outputs": [],
      "execution_count": 2,
      "metadata": {
        "collapsed": true
      }
    },
    {
      "cell_type": "markdown",
      "source": [
        "#### Create a directory `figs_n_tabs`"
      ],
      "metadata": {}
    },
    {
      "cell_type": "code",
      "source": [
        "!mkdir -p figs_n_tabs"
      ],
      "outputs": [],
      "execution_count": 3,
      "metadata": {
        "collapsed": true
      }
    },
    {
      "cell_type": "markdown",
      "source": [
        "# Manuscript figures and tables"
      ],
      "metadata": {}
    },
    {
      "cell_type": "code",
      "source": [
        "all_ms_tables = []\n",
        "all_ms_tab_dict = {}\n",
        "all_supp_dict = {}"
      ],
      "outputs": [],
      "execution_count": 4,
      "metadata": {}
    },
    {
      "cell_type": "markdown",
      "source": [
        "## Figures "
      ],
      "metadata": {}
    },
    {
      "cell_type": "markdown",
      "source": [
        "### Figure: mutation motif analysis of neighbourhood effects, figure showing ENU, spontaneous "
      ],
      "metadata": {}
    },
    {
      "cell_type": "code",
      "source": [
        "!mutation_draw grid --fig_config loglin/scripts/logo_grid_draw.cfg --figpath figs_n_tabs/mm_ENU_v_germline.pdf --format pdf\n",
        "!rm figs_n_tabs/mm_ENU_v_germline.log\n",
        "print(\"figs_n_tabs/mm_ENU_v_germline.pdf is saved.\")"
      ],
      "outputs": [
        {
          "output_type": "stream",
          "name": "stdout",
          "text": [
            "/bin/sh: mutation_draw: command not found\n",
            "rm: figs_n_tabs/mm_ENU_v_germline.log: No such file or directory\n",
            "figs_n_tabs/mm_ENU_v_germline.pdf is saved.\n"
          ]
        }
      ],
      "execution_count": 5,
      "metadata": {}
    },
    {
      "cell_type": "markdown",
      "source": [
        "## Table: summary of hypotheses testing comparing the two groups"
      ],
      "metadata": {}
    },
    {
      "cell_type": "code",
      "source": [
        "fns = !ls loglin/results/ENU_vs_germline/autosomes/directions/AtoG/summary.txt\n",
        "tab_enu_v_sp = LoadTable(fns[0], sep=\"\\t\")\n",
        "tab_enu_v_sp = tab_enu_v_sp.with_new_column(\"Position(s)\", format_positions, columns=[\"Position\"])\n",
        "tab_enu_v_sp = tab_enu_v_sp.get_columns([\"Position(s)\", \"Deviance\", \"df\", \"prob\"])\n",
        "tab_enu_v_sp = tab_enu_v_sp.with_new_header(\"prob\", \"p-value\")\n",
        "tab_enu_v_sp.format_column(\"p-value\", format_pvalue)\n",
        "tab_enu_v_sp.format_column(\"Deviance\", \"%.1f\")\n",
        "tab_enu_v_sp = tab_enu_v_sp.sorted(columns=[\"df\", \"Deviance\"])\n",
        "\n",
        "tab_enu_v_sp.title = r\"Log-linear analysis of mutation motif comparison between mouse germline and ENU-induced \"\\\n",
        "+r\"A$\\rightarrow$G mutations. Deviance is from the log-linear model, with df degrees-of-freedom \"\\\n",
        "+r\"and corresponding $p$-value obtained from the $\\chi^2$ distribution.\"\n",
        "\n",
        "label = \"table:enu_v_germline:a-g\"\n",
        "all_ms_tables.append(format_latex_table(tab_enu_v_sp, justify=\"rrrl\", label=label))\n",
        "all_ms_tab_dict[label] = tab_enu_v_sp\n",
        "tab_enu_v_sp"
      ],
      "outputs": [
        {
          "output_type": "execute_result",
          "execution_count": 6,
          "data": {
            "text/plain": [
              "Table(numrows=15, numcols=4, header=['Position(s)', 'Deviance', 'df',..], rows=[['+2', 88.5789, 3,..],..])"
            ],
            "text/html": [
              "<table>\n",
              "<thead>\n",
              "<th>Position(s)</th>\n",
              "<th>Deviance</th>\n",
              "<th>df</th>\n",
              "<th>p-value</th>\n",
              "</thead>\n",
              "<tbody>\n",
              "<tr>\n",
              "<td>+2</td>\n",
              "<td>88.6</td>\n",
              "<td>3</td>\n",
              "<td>$4.4\\times 10^{-19}$</td>\n",
              "</tr>\n",
              "<tr>\n",
              "<td>-2</td>\n",
              "<td>1105.6</td>\n",
              "<td>3</td>\n",
              "<td>0.0</td>\n",
              "</tr>\n",
              "<tr>\n",
              "<td>+1</td>\n",
              "<td>1393.7</td>\n",
              "<td>3</td>\n",
              "<td>0.0</td>\n",
              "</tr>\n",
              "<tr>\n",
              "<td>-1</td>\n",
              "<td>5693.3</td>\n",
              "<td>3</td>\n",
              "<td>0.0</td>\n",
              "</tr>\n",
              "<tr>\n",
              "<td>(-2, +2)</td>\n",
              "<td>12.0</td>\n",
              "<td>9</td>\n",
              "<td>0.2145</td>\n",
              "</tr>\n",
              "<tr>\n",
              "<td>(-1, +2)</td>\n",
              "<td>50.3</td>\n",
              "<td>9</td>\n",
              "<td>$9.4\\times 10^{-8}$</td>\n",
              "</tr>\n",
              "<tr>\n",
              "<td>(+1, +2)</td>\n",
              "<td>96.1</td>\n",
              "<td>9</td>\n",
              "<td>$9.5\\times 10^{-17}$</td>\n",
              "</tr>\n",
              "<tr>\n",
              "<td>(-2, +1)</td>\n",
              "<td>123.0</td>\n",
              "<td>9</td>\n",
              "<td>$3.3\\times 10^{-22}$</td>\n",
              "</tr>\n",
              "<tr>\n",
              "<td>(-2, -1)</td>\n",
              "<td>284.1</td>\n",
              "<td>9</td>\n",
              "<td>$6.2\\times 10^{-56}$</td>\n",
              "</tr>\n",
              "<tr>\n",
              "<td>(-1, +1)</td>\n",
              "<td>353.1</td>\n",
              "<td>9</td>\n",
              "<td>$1.3\\times 10^{-70}$</td>\n",
              "</tr>\n",
              "<tr>\n",
              "<td>(-2, -1, +2)</td>\n",
              "<td>41.2</td>\n",
              "<td>27</td>\n",
              "<td>0.0396</td>\n",
              "</tr>\n",
              "<tr>\n",
              "<td>(-1, +1, +2)</td>\n",
              "<td>46.9</td>\n",
              "<td>27</td>\n",
              "<td>0.0100</td>\n",
              "</tr>\n",
              "<tr>\n",
              "<td>(-2, +1, +2)</td>\n",
              "<td>55.1</td>\n",
              "<td>27</td>\n",
              "<td>0.0011</td>\n",
              "</tr>\n",
              "<tr>\n",
              "<td>(-2, -1, +1)</td>\n",
              "<td>62.2</td>\n",
              "<td>27</td>\n",
              "<td>0.0001</td>\n",
              "</tr>\n",
              "<tr>\n",
              "<td>(-2, -1, +1, +2)</td>\n",
              "<td>118.6</td>\n",
              "<td>81</td>\n",
              "<td>0.0042</td>\n",
              "</tr>\n",
              "</tbody>\n",
              "</table><p>15 rows x 4 columns</p>"
            ]
          },
          "metadata": {}
        }
      ],
      "execution_count": 6,
      "metadata": {}
    },
    {
      "cell_type": "markdown",
      "source": [
        "## Figure: 7-mer learning curve indicates M+I+2D is sufficient"
      ],
      "metadata": {}
    },
    {
      "cell_type": "code",
      "source": [
        "lc_aucs_7mer = []\n",
        "dims = [0,1,2,6]    \n",
        "\n",
        "for dim in dims:\n",
        "    data_dirs = glob.glob(\"classifier/results/chrom1/7-mer/data_ratio_1/direction_All/%s_way_samples/train_size_*/\" % dim)\n",
        "    \n",
        "    sample_aucs = []\n",
        "    for directory in data_dirs:\n",
        "        aucs = get_auc(directory, sample_aucs, 'LR')\n",
        "    sort_aucs = sorted(sample_aucs, key = lambda x: int(x[1]))\n",
        "    for r in sort_aucs:\n",
        "        dim = r[0]\n",
        "        train_size = r[1]\n",
        "        auc = float(r[2])\n",
        "        lc_aucs_7mer.append([model_nm_dict[dim], train_size, auc])\n",
        "\n",
        "models = set(r[0] for r in lc_aucs_7mer)\n",
        "train_sizes = set(r[1] for r in lc_aucs_7mer)\n",
        "n = 5\n",
        "\n",
        "lc_auc_records = []\n",
        "for model in models:\n",
        "    for train_size in train_sizes:\n",
        "        auc_list = []\n",
        "        for r in lc_aucs_7mer:\n",
        "            if model not in r:\n",
        "                continue\n",
        "            if train_size not in r:\n",
        "                continue\n",
        "            auc_list.append(r[2])\n",
        "            \n",
        "        auc_mean = np.array(auc_list).mean()\n",
        "        auc_se = np.array(auc_list).std(ddof=1)\n",
        "        \n",
        "        lc_auc_records.append([model, train_size, auc_mean, auc_se]) \n",
        "\n",
        "h = ['Classifier', 'Training_size', 'Mean_AUC', 'Std_error']\n",
        "lc_tab = LoadTable(header=h, rows=lc_auc_records).to_pandas_df()\n",
        "lc_fig = (ggplot(lc_tab) +\n",
        "     aes(x=\"Training_size\", y=\"Mean_AUC\", colour=\"Classifier\") +\n",
        "     geom_errorbar(aes(ymin=\"Mean_AUC-Std_error\", ymax=\"Mean_AUC+Std_error\"), width=.1, size=1) +\n",
        "     geom_line(size=1) +\n",
        "     geom_point(size=2) +\n",
        "     labs(x=\"Training size\", y=\"$\\overline{\\mathrm{AUC}}$\")\n",
        "       )\n",
        "\n",
        "outname = \"figs_n_tabs/7mer_learning_curve.pdf\"\n",
        "lc_fig.save(outname, units=\"cm\", width=20, height=16)\n",
        "print (\"%s is saved!\" % outname)\n",
        "print (lc_fig)       "
      ],
      "outputs": [
        {
          "output_type": "stream",
          "name": "stdout",
          "text": [
            "figs_n_tabs/7mer_learning_curve.pdf is saved!\n"
          ]
        },
        {
          "output_type": "display_data",
          "data": {
            "text/plain": [
              "<Figure size 640x480 with 1 Axes>"
            ],
            "image/png": "[encoded data removed]"
          },
          "metadata": {}
        },
        {
          "output_type": "stream",
          "name": "stdout",
          "text": [
            "<ggplot: (-9223372036569210564)>\n"
          ]
        }
      ],
      "execution_count": 7,
      "metadata": {}
    },
    {
      "cell_type": "markdown",
      "source": [
        "## Figure: faceted plot comparing mean AUC between k-mer samples"
      ],
      "metadata": {}
    },
    {
      "cell_type": "code",
      "source": [
        "window_sizes = [3, 5, 7]\n",
        "dims = [0, 1, 2]\n",
        "train_sizes = [1009, 2050, 4101, 10255, 16408]\n",
        "\n",
        "plot_rows = []\n",
        "for dim in dims:\n",
        "    for ws in window_sizes:\n",
        "        for ts in train_sizes:\n",
        "            data_dirs = glob.glob(\"classifier/results/chrom1/%s-mer/data_ratio_1/direction_All/%s_way_samples/train_size_%s/\" % (ws, dim, ts))\n",
        "            for directory in data_dirs:\n",
        "                aucs = get_auc(directory, [], 'LR')\n",
        "                auc_list = [r[2] for r in aucs]\n",
        "                auc_mean = np.array(auc_list).mean()\n",
        "                auc_se = np.array(auc_list).std(ddof=1)\n",
        "                model_name = model_nm_dict[dim]\n",
        "                if model_name == \"M\":\n",
        "                    continue  # we ignore this since the results are identical for all k\n",
        "                plot_rows.append([model_name, '%s' % ws, ts, auc_mean, auc_se])\n",
        "\n",
        "plot_header = ['Classifier_design', 'k', 'Train_size', 'Mean_AUC', 'Std_error']\n",
        "faceted_tab = LoadTable(header=plot_header, rows=plot_rows).to_pandas_df()\n",
        "faceted_plot = (ggplot(faceted_tab) +\n",
        "                aes(x='Train_size', y='Mean_AUC', colour='k', group='k') + \n",
        "                geom_errorbar(aes(ymin=\"Mean_AUC-Std_error\", ymax=\"Mean_AUC+Std_error\"), width=.1, size=1) +\n",
        "                geom_line() + \n",
        "                labs(x=\"Training size\", y=\"$\\overline{\\mathrm{AUC}}$\") +\n",
        "                facet_wrap(' ~ Classifier_design')\n",
        "               )\n",
        "\n",
        "outname = \"figs_n_tabs/kmer_comparison.pdf\"\n",
        "faceted_plot.save(outname, units=\"cm\", width=20, height=9)\n",
        "print (\"%s is saved!\" % outname)\n",
        "print (faceted_plot)"
      ],
      "outputs": [
        {
          "output_type": "stream",
          "name": "stdout",
          "text": [
            "figs_n_tabs/kmer_comparison.pdf is saved!\n"
          ]
        },
        {
          "output_type": "display_data",
          "data": {
            "text/plain": [
              "<Figure size 640x480 with 2 Axes>"
            ],
            "image/png": "[encoded data removed]"
          },
          "metadata": {}
        },
        {
          "output_type": "stream",
          "name": "stdout",
          "text": [
            "<ggplot: (-9223372036566999471)>\n"
          ]
        }
      ],
      "execution_count": 8,
      "metadata": {}
    },
    {
      "cell_type": "markdown",
      "source": [
        "## Figure: Bar chart showing distributions of LR AUC from all chromosomes using M+I+2D with window size of 7 bp"
      ],
      "metadata": {}
    },
    {
      "cell_type": "code",
      "source": [
        "all_chroms = [1, 2, 3, 4, 5, 6, 7, 8, 9,10, 11, 12, 13, 14, 15, 16, 17, 18, 19, 'XY']\n",
        "\n",
        "bar_chart_records = []\n",
        "for chrom in all_chroms:\n",
        "    if chrom is 1:\n",
        "        data_dirs = glob.glob(\"classifier/results/chrom1/7-mer/data_ratio_1/direction_All/2_way_samples/train_size_10255/\")\n",
        "        trained = 'Y'\n",
        "    else:\n",
        "        data_dirs = glob.glob(\"classifier/results/chrom%s/7-mer/data_ratio_1/direction_All/2_way_samples/train_size_0/\" % chrom)\n",
        "        trained = 'N'\n",
        "    sample_aucs = []\n",
        "    for directory in data_dirs:\n",
        "        aucs = get_auc(directory, sample_aucs, 'LR')\n",
        "    auc_list = [r[2] for r in aucs]\n",
        "    auc_mean = np.array(auc_list).mean()\n",
        "    #auc_se = np.array(auc_list).std(ddof=1)\n",
        "    bar_chart_records.append([auc_mean, chrom, trained, 'LR'])\n",
        "\n",
        "bar_chart_header = ['AUC_mean', 'Chromosome', 'Trained', 'Classifier']\n",
        "lr_bar_chart_tab = LoadTable(header=bar_chart_header, rows=bar_chart_records).to_pandas_df().sort_values('AUC_mean')\n",
        "lr_bar_chart = (ggplot(aes(x='Chromosome', y=\"AUC_mean\", fill=\"Trained\"), data=lr_bar_chart_tab) + \\\n",
        "                labs(x=\"Chromosome\", y=\"AUC\") + \\\n",
        "                geom_bar(stat=\"identity\") + coord_cartesian(ylim=(0.78, 0.82)) + \\\n",
        "                scale_x_discrete(limit='AUC_mean'))\n",
        "outname = \"figs_n_tabs/all_lr_aucs_bars.pdf\"\n",
        "lr_bar_chart.save(outname, units=\"cm\", width=20, height=16)\n",
        "print (\"%s is saved!\" % outname)\n",
        "print (lr_bar_chart)\n",
        "print(\"mean(AUC)=%.3f  std(AUC)=%.3f\" % (lr_bar_chart_tab['AUC_mean'].mean(), lr_bar_chart_tab['AUC_mean'].std(ddof=1)))"
      ],
      "outputs": [
        {
          "output_type": "stream",
          "name": "stdout",
          "text": [
            "figs_n_tabs/all_lr_aucs_bars.pdf is saved!\n"
          ]
        },
        {
          "output_type": "display_data",
          "data": {
            "text/plain": [
              "<Figure size 640x480 with 1 Axes>"
            ],
            "image/png": "[encoded data removed]"
          },
          "metadata": {}
        },
        {
          "output_type": "stream",
          "name": "stdout",
          "text": [
            "<ggplot: (-9223372036566819040)>\n",
            "mean(AUC)=0.801  std(AUC)=0.009\n"
          ]
        }
      ],
      "execution_count": 9,
      "metadata": {}
    },
    {
      "cell_type": "markdown",
      "source": [
        "## Figure: Bar chart showing one-class classification AUC for all chromosomes using M+I+2D with window size of 7 bp"
      ],
      "metadata": {}
    },
    {
      "cell_type": "code",
      "source": [
        "all_chroms = [1, 2, 3, 4, 5, 6, 7, 8, 9,10, 11, 12, 13, 14, 15, 16, 17, 18, 19, 'XY']\n",
        "\n",
        "bar_chart_records = []\n",
        "for chrom in all_chroms:\n",
        "    if chrom is 1:\n",
        "        data_dirs = glob.glob(\"classifier/results/chrom1/7-mer/data_ratio_1/direction_All/2_way_samples/train_size_10255/\")\n",
        "        trained = 'Y'\n",
        "    else:\n",
        "        data_dirs = glob.glob(\"classifier/results/chrom%s/7-mer/data_ratio_1/direction_All/2_way_samples/train_size_0/\" % chrom)\n",
        "        trained = 'N'\n",
        "    sample_aucs = []\n",
        "    for directory in data_dirs:\n",
        "        aucs = get_auc(directory, sample_aucs, 'OCS')\n",
        "    \n",
        "    auc_list = [r[2] for r in aucs]\n",
        "    auc_mean = np.array(auc_list).mean()\n",
        "    #auc_se = np.array(auc_list).std(ddof=1)\n",
        "    bar_chart_records.append([auc_mean, chrom, trained, 'OC'])\n",
        "\n\n",
        "bar_chart_header = ['AUC_mean', 'Chromosome', 'trained', 'Classifier']\n",
        "ocs_bar_chart_tab = LoadTable(header=bar_chart_header, rows=bar_chart_records).to_pandas_df()\n",
        "ocs_bar_chart = (ggplot(aes(x='Chromosome', y=\"AUC_mean\", fill=\"trained\"), data=ocs_bar_chart_tab) + \\\n",
        "             labs(x=\"Chromosome\", y=\"AUC\") + \\\n",
        "             geom_bar(stat=\"identity\") + coord_cartesian(ylim=(0.65, 0.68))) \n",
        "\n",
        "outname = \"figs_n_tabs/all_ocs_aucs_bars.pdf\"\n",
        "ocs_bar_chart.save(outname, units=\"cm\", width=20, height=16)\n",
        "print (\"%s is saved!\" % outname)\n",
        "print (ocs_bar_chart)\n",
        "print(\"mean(AUC)=%.3f  std(AUC)=%.3f\" % (ocs_bar_chart_tab['AUC_mean'].mean(), ocs_bar_chart_tab['AUC_mean'].std(ddof=1)))"
      ],
      "outputs": [
        {
          "output_type": "stream",
          "name": "stdout",
          "text": [
            "figs_n_tabs/all_ocs_aucs_bars.pdf is saved!\n"
          ]
        },
        {
          "output_type": "display_data",
          "data": {
            "text/plain": [
              "<Figure size 640x480 with 1 Axes>"
            ],
            "image/png": "[encoded data removed]"
          },
          "metadata": {}
        },
        {
          "output_type": "stream",
          "name": "stdout",
          "text": [
            "<ggplot: (287325767)>\n",
            "mean(AUC)=0.670  std(AUC)=0.008\n"
          ]
        }
      ],
      "execution_count": 10,
      "metadata": {}
    },
    {
      "cell_type": "code",
      "source": [
        "merged_bar_chart_tab = pd.concat([lr_bar_chart_tab, ocs_bar_chart_tab])\n",
        "lvo_bar_chart = (ggplot(aes(x='Chromosome', y=\"AUC_mean\", fill=\"Classifier\"), data=merged_bar_chart_tab) + \\\n",
        "             labs(x=\"Chromosome\", y=\"AUC\") + \\\n",
        "             geom_bar(stat=\"identity\", position = \"dodge\") + coord_cartesian(ylim=(0.64, 0.83)))\n",
        "\n",
        "outname = \"figs_n_tabs/all_lr_vs_ocs_aucs.pdf\"\n",
        "lvo_bar_chart.save(outname, units=\"cm\", width=20, height=16)\n",
        "print (\"%s is saved!\" % outname)\n",
        "print (lvo_bar_chart)"
      ],
      "outputs": [
        {
          "output_type": "stream",
          "name": "stdout",
          "text": [
            "figs_n_tabs/all_lr_vs_ocs_aucs.pdf is saved!\n"
          ]
        },
        {
          "output_type": "display_data",
          "data": {
            "text/plain": [
              "<Figure size 640x480 with 1 Axes>"
            ],
            "image/png": "[encoded data removed]"
          },
          "metadata": {}
        },
        {
          "output_type": "stream",
          "name": "stdout",
          "text": [
            "<ggplot: (-9223372036567446668)>\n"
          ]
        }
      ],
      "execution_count": 11,
      "metadata": {}
    },
    {
      "cell_type": "markdown",
      "source": [
        "## Figure: One class classification results summary for 7-mer experiments"
      ],
      "metadata": {}
    },
    {
      "cell_type": "code",
      "source": [
        "ocs_aucs_7mer = []\n",
        "dims = [0,1,2,6]    \n",
        "\n",
        "for dim in dims:\n",
        "    data_dirs = glob.glob(\"classifier/results/chrom1/7-mer/data_ratio_1/direction_All/%s_way_samples/train_size_*/\" % dim)\n",
        "    \n",
        "    sample_aucs = []\n",
        "    for directory in data_dirs:\n",
        "        aucs = get_auc(directory, sample_aucs, 'OCS')\n",
        "    sort_aucs = sorted(sample_aucs, key = lambda x: int(x[1]))\n",
        "    for r in sort_aucs:\n",
        "        dim = r[0]\n",
        "        train_size = r[1]\n",
        "        auc = float(r[2])\n",
        "        ocs_aucs_7mer.append(['OC : %s' % model_nm_dict[dim], train_size, auc])\n",
        "\n",
        "lr_dirs = glob.glob(\"classifier/results/chrom1/7-mer/data_ratio_1/direction_All/0_way_samples/train_size_*/\")\n",
        "sample_aucs = []\n",
        "for lr_dir in lr_dirs:\n",
        "    lr_aucs = get_auc(lr_dir, sample_aucs, 'LR')\n",
        "sort_lr_aucs = sorted(sample_aucs, key = lambda x: int(x[1]))\n",
        "for r in sort_lr_aucs:\n",
        "    dim = r[0]\n",
        "    train_size = r[1]\n",
        "    auc = float(r[2])\n",
        "    ocs_aucs_7mer.append(['LR : %s' % model_nm_dict[dim], train_size, auc])\n",
        "\n",
        "models = set(r[0] for r in ocs_aucs_7mer)\n",
        "train_sizes = set(r[1] for r in ocs_aucs_7mer)\n",
        "n = 5\n",
        "\n",
        "lc_auc_records = []\n",
        "for model in models:\n",
        "    for train_size in train_sizes:\n",
        "        auc_list = []\n",
        "        for r in ocs_aucs_7mer:\n",
        "            if model not in r:\n",
        "                continue\n",
        "            if train_size not in r:\n",
        "                continue\n",
        "            auc_list.append(r[2])\n",
        "            \n",
        "        auc_mean = np.array(auc_list).mean()\n",
        "        auc_se = np.array(auc_list).std(ddof=1)\n",
        "        \n",
        "        lc_auc_records.append([model, train_size, auc_mean, auc_se]) \n",
        "\n",
        "h = ['Classifier', 'Training_size', 'Mean_AUC', 'Std_error']\n",
        "oc_lc_tab = LoadTable(header=h, rows=lc_auc_records).to_pandas_df()\n",
        "lc_fig = (ggplot(oc_lc_tab) +\n",
        "     aes(x=\"Training_size\", y=\"Mean_AUC\", colour=\"Classifier\") +\n",
        "     geom_errorbar(aes(ymin=\"Mean_AUC-Std_error\", ymax=\"Mean_AUC+Std_error\"), width=.1, size=1) +\n",
        "     geom_line(size=1) +\n",
        "     geom_point(size=2) +\n",
        "     labs(x=\"Training size\", y=\"$\\overline{\\mathrm{AUC}}$\")\n",
        "       )\n",
        "\n",
        "outname = \"figs_n_tabs/oc_learning_curve.pdf\"\n",
        "lc_fig.save(outname, units=\"cm\", width=20, height=16)\n",
        "print (\"%s is saved!\" % outname)\n",
        "lc_fig"
      ],
      "outputs": [
        {
          "output_type": "stream",
          "name": "stdout",
          "text": [
            "figs_n_tabs/oc_learning_curve.pdf is saved!\n"
          ]
        },
        {
          "output_type": "display_data",
          "data": {
            "text/plain": [
              "<Figure size 640x480 with 1 Axes>"
            ],
            "image/png": "[encoded data removed]"
          },
          "metadata": {}
        },
        {
          "output_type": "execute_result",
          "execution_count": 12,
          "data": {
            "text/plain": [
              "<ggplot: (288320502)>"
            ]
          },
          "metadata": {}
        }
      ],
      "execution_count": 12,
      "metadata": {}
    },
    {
      "cell_type": "markdown",
      "source": [
        "#### Save all manuscript tables into a .tex file"
      ],
      "metadata": {}
    },
    {
      "cell_type": "code",
      "source": [
        "with open(\"figs_n_tabs/ms_tables.tex\", \"w\") as out:\n",
        "    out.write(\"\\n\\n\".join(all_ms_tables))"
      ],
      "outputs": [],
      "execution_count": 13,
      "metadata": {
        "collapsed": true
      }
    },
    {
      "cell_type": "markdown",
      "source": [
        "# Supplementary figures and tables"
      ],
      "metadata": {}
    },
    {
      "cell_type": "markdown",
      "source": [
        "## Supp. table: mutation sample counts summary"
      ],
      "metadata": {}
    },
    {
      "cell_type": "code",
      "source": [
        "chroms = [1, 2, 3, 4, 5, 6, 7, 8, 9,10, 11, 12, 13, 14, 15, 16, 17, 18, 19, 'XY']\n",
        "enu_size_dict = {1: 16977, 2: 21100, 3: 11228, 4: 13973, 5: 14509, 6: 13039, 7: 20864, 8: 11232, \n",
        "                 9: 14010, 10: 11315, 11: 17101, 12: 8022, 13: 9085, 14: 8395, 15: 9342, 16: 7266, \n",
        "                 17: 11981, 18: 6356, 19: 7529, 'XY': 853}\n",
        "sp_sizes_dict = {1: 17848, 2: 20051, 3: 11713, 4: 16936, 5: 16028, 6: 12097, 7: 19161, 8: 13465, \n",
        "                 9: 15662, 10: 12641, 11: 19626, 12: 8817, 13: 8939, 14: 8868, 15: 11079, 16: 8117, \n",
        "                 17: 12168, 18: 7732, 19: 8635, 'XY': 5097}\n",
        "\n",
        "rows = []\n",
        "for chrom in chroms:\n",
        "    num_enu = enu_size_dict[chrom]\n",
        "    num_sp = sp_sizes_dict[chrom]\n",
        "    rows.append([chrom, num_enu, num_sp])\n",
        "\n",
        "header = ['Chromosome', 'ENU-induced', 'Spontaneous']\n",
        "all_size_table = LoadTable(header=header, rows=rows, column_templates={\"ENU-induced\": \"{:,}\".format, \"Spontaneous\": \"{:,}\".format})\n",
        "all_size_table.title = r\"By-chromosome sample sizes of genetic variants from the ENU induced and spontaneous \"\\\n",
        "+r\"germline mutations.\"\n",
        "\n",
        "label = \"suptab:sample-sizes\"\n",
        "all_supp_dict[label] = format_latex_table(all_size_table, justify=\"rrrl\", label=label)\n",
        "all_size_table"
      ],
      "outputs": [
        {
          "output_type": "execute_result",
          "execution_count": 14,
          "data": {
            "text/plain": [
              "Table(numrows=20, numcols=3, header=['Chromosome', 'ENU-induced', 'Spontaneous'], rows=[[1, 16977, 17848],..])"
            ],
            "text/html": [
              "<table>\n",
              "<thead>\n",
              "<th>Chromosome</th>\n",
              "<th>ENU-induced</th>\n",
              "<th>Spontaneous</th>\n",
              "</thead>\n",
              "<tbody>\n",
              "<tr>\n",
              "<td>1</td>\n",
              "<td>16,977</td>\n",
              "<td>17,848</td>\n",
              "</tr>\n",
              "<tr>\n",
              "<td>2</td>\n",
              "<td>21,100</td>\n",
              "<td>20,051</td>\n",
              "</tr>\n",
              "<tr>\n",
              "<td>3</td>\n",
              "<td>11,228</td>\n",
              "<td>11,713</td>\n",
              "</tr>\n",
              "<tr>\n",
              "<td>4</td>\n",
              "<td>13,973</td>\n",
              "<td>16,936</td>\n",
              "</tr>\n",
              "<tr>\n",
              "<td>5</td>\n",
              "<td>14,509</td>\n",
              "<td>16,028</td>\n",
              "</tr>\n",
              "<tr>\n",
              "<td>6</td>\n",
              "<td>13,039</td>\n",
              "<td>12,097</td>\n",
              "</tr>\n",
              "<tr>\n",
              "<td>7</td>\n",
              "<td>20,864</td>\n",
              "<td>19,161</td>\n",
              "</tr>\n",
              "<tr>\n",
              "<td>8</td>\n",
              "<td>11,232</td>\n",
              "<td>13,465</td>\n",
              "</tr>\n",
              "<tr>\n",
              "<td>9</td>\n",
              "<td>14,010</td>\n",
              "<td>15,662</td>\n",
              "</tr>\n",
              "<tr>\n",
              "<td>10</td>\n",
              "<td>11,315</td>\n",
              "<td>12,641</td>\n",
              "</tr>\n",
              "<tr>\n",
              "<td>11</td>\n",
              "<td>17,101</td>\n",
              "<td>19,626</td>\n",
              "</tr>\n",
              "<tr>\n",
              "<td>12</td>\n",
              "<td>8,022</td>\n",
              "<td>8,817</td>\n",
              "</tr>\n",
              "<tr>\n",
              "<td>13</td>\n",
              "<td>9,085</td>\n",
              "<td>8,939</td>\n",
              "</tr>\n",
              "<tr>\n",
              "<td>14</td>\n",
              "<td>8,395</td>\n",
              "<td>8,868</td>\n",
              "</tr>\n",
              "<tr>\n",
              "<td>15</td>\n",
              "<td>9,342</td>\n",
              "<td>11,079</td>\n",
              "</tr>\n",
              "<tr>\n",
              "<td>16</td>\n",
              "<td>7,266</td>\n",
              "<td>8,117</td>\n",
              "</tr>\n",
              "<tr>\n",
              "<td>17</td>\n",
              "<td>11,981</td>\n",
              "<td>12,168</td>\n",
              "</tr>\n",
              "<tr>\n",
              "<td>18</td>\n",
              "<td>6,356</td>\n",
              "<td>7,732</td>\n",
              "</tr>\n",
              "<tr>\n",
              "<td>19</td>\n",
              "<td>7,529</td>\n",
              "<td>8,635</td>\n",
              "</tr>\n",
              "<tr>\n",
              "<td>XY</td>\n",
              "<td>853</td>\n",
              "<td>5,097</td>\n",
              "</tr>\n",
              "</tbody>\n",
              "</table><p>20 rows x 3 columns</p>"
            ]
          },
          "metadata": {}
        }
      ],
      "execution_count": 14,
      "metadata": {}
    },
    {
      "cell_type": "code",
      "source": [
        "header = ['Chromosome', 'ENU-induced', 'Spontaneous']\n",
        "all_size_table = LoadTable(header=header, rows=rows)"
      ],
      "outputs": [],
      "execution_count": 15,
      "metadata": {}
    },
    {
      "cell_type": "markdown",
      "source": [
        "## Supp. table: ENU spectra analysis of $p$-values"
      ],
      "metadata": {}
    },
    {
      "cell_type": "code",
      "source": [
        "fns = !ls loglin/results/ENU_variants/autosomes/directions/AtoG/*.txt\n",
        "tab_enu = LoadTable(fns[0], sep=\"\\t\")\n",
        "tab_enu = tab_enu.with_new_column(\"Position(s)\", format_positions, columns=[\"Position\"])\n",
        "tab_enu = tab_enu.get_columns([\"Position(s)\", \"Deviance\", \"df\", \"prob\"])\n",
        "tab_enu = tab_enu.with_new_header(\"prob\", \"p-value\")\n",
        "tab_enu.format_column(\"p-value\", format_pvalue)\n",
        "tab_enu.format_column(\"Deviance\", \"%.1f\")\n",
        "tab_enu = tab_enu.sorted(columns=[\"df\", \"Deviance\"])\n",
        "\n",
        "tab_enu.title = r\"Log-linear analysis of ENU-induced A$\\rightarrow$G mutation. \"\\\n",
        "+r\"Position(s) are relative to the index position. Deviance is from the log-linear model, \"\\\n",
        "+r\"with df degrees-of-freedom and corresponding $p$-value obtained from the $\\chi^2$ \"\\\n",
        "+r\"distribution. $p$-values listed as 0.0 are below the limit of detection. \"\\\n",
        "+r\"See \\citet{zhu2017statistical} for a more detailed description of the log-linear models.\"\n",
        "\n",
        "label = \"suptable:a-g:enu\"\n",
        "all_supp_dict[label] = format_latex_table(tab_enu, justify=\"rrrl\", label=label)\n",
        "tab_enu"
      ],
      "outputs": [
        {
          "output_type": "execute_result",
          "execution_count": 16,
          "data": {
            "text/plain": [
              "Table(numrows=15, numcols=4, header=['Position(s)', 'Deviance', 'df',..], rows=[['+2', 654.6269, 3,..],..])"
            ],
            "text/html": [
              "<table>\n",
              "<thead>\n",
              "<th>Position(s)</th>\n",
              "<th>Deviance</th>\n",
              "<th>df</th>\n",
              "<th>p-value</th>\n",
              "</thead>\n",
              "<tbody>\n",
              "<tr>\n",
              "<td>+2</td>\n",
              "<td>654.6</td>\n",
              "<td>3</td>\n",
              "<td>0.0</td>\n",
              "</tr>\n",
              "<tr>\n",
              "<td>-2</td>\n",
              "<td>858.8</td>\n",
              "<td>3</td>\n",
              "<td>0.0</td>\n",
              "</tr>\n",
              "<tr>\n",
              "<td>-1</td>\n",
              "<td>6221.4</td>\n",
              "<td>3</td>\n",
              "<td>0.0</td>\n",
              "</tr>\n",
              "<tr>\n",
              "<td>+1</td>\n",
              "<td>7911.6</td>\n",
              "<td>3</td>\n",
              "<td>0.0</td>\n",
              "</tr>\n",
              "<tr>\n",
              "<td>(-1, +2)</td>\n",
              "<td>39.6</td>\n",
              "<td>9</td>\n",
              "<td>$9.1\\times 10^{-6}$</td>\n",
              "</tr>\n",
              "<tr>\n",
              "<td>(-2, +2)</td>\n",
              "<td>58.9</td>\n",
              "<td>9</td>\n",
              "<td>$2.2\\times 10^{-9}$</td>\n",
              "</tr>\n",
              "<tr>\n",
              "<td>(+1, +2)</td>\n",
              "<td>137.1</td>\n",
              "<td>9</td>\n",
              "<td>$4.1\\times 10^{-25}$</td>\n",
              "</tr>\n",
              "<tr>\n",
              "<td>(-2, +1)</td>\n",
              "<td>154.0</td>\n",
              "<td>9</td>\n",
              "<td>$1.3\\times 10^{-28}$</td>\n",
              "</tr>\n",
              "<tr>\n",
              "<td>(-2, -1)</td>\n",
              "<td>232.4</td>\n",
              "<td>9</td>\n",
              "<td>$5.3\\times 10^{-45}$</td>\n",
              "</tr>\n",
              "<tr>\n",
              "<td>(-1, +1)</td>\n",
              "<td>757.2</td>\n",
              "<td>9</td>\n",
              "<td>0.0</td>\n",
              "</tr>\n",
              "<tr>\n",
              "<td>(-2, -1, +2)</td>\n",
              "<td>36.0</td>\n",
              "<td>27</td>\n",
              "<td>0.1164</td>\n",
              "</tr>\n",
              "<tr>\n",
              "<td>(-2, +1, +2)</td>\n",
              "<td>51.9</td>\n",
              "<td>27</td>\n",
              "<td>0.0027</td>\n",
              "</tr>\n",
              "<tr>\n",
              "<td>(-1, +1, +2)</td>\n",
              "<td>95.0</td>\n",
              "<td>27</td>\n",
              "<td>$1.7\\times 10^{-9}$</td>\n",
              "</tr>\n",
              "<tr>\n",
              "<td>(-2, -1, +1)</td>\n",
              "<td>108.5</td>\n",
              "<td>27</td>\n",
              "<td>$1.0\\times 10^{-11}$</td>\n",
              "</tr>\n",
              "<tr>\n",
              "<td>(-2, -1, +1, +2)</td>\n",
              "<td>133.6</td>\n",
              "<td>81</td>\n",
              "<td>0.0002</td>\n",
              "</tr>\n",
              "</tbody>\n",
              "</table><p>15 rows x 4 columns</p>"
            ]
          },
          "metadata": {}
        }
      ],
      "execution_count": 16,
      "metadata": {}
    },
    {
      "cell_type": "markdown",
      "source": [
        "## Supp. table: Neighbourhood effect analysis for spontaneous mutations"
      ],
      "metadata": {}
    },
    {
      "cell_type": "code",
      "source": [
        "fns = !ls loglin/results/germline_variants/autosomes/directions/AtoG/*.txt\n",
        "tab_spontaneous = LoadTable(fns[0], sep=\"\\t\")\n",
        "tab_spontaneous = tab_spontaneous.with_new_column(\"Position(s)\", format_positions, columns=[\"Position\"])\n",
        "tab_spontaneous = tab_spontaneous.get_columns([\"Position(s)\", \"Deviance\", \"df\", \"prob\"])\n",
        "tab_spontaneous = tab_spontaneous.with_new_header(\"prob\", \"p-value\")\n",
        "tab_spontaneous.format_column(\"p-value\", format_pvalue)\n",
        "tab_spontaneous.format_column(\"Deviance\", \"%.1f\")\n",
        "tab_spontaneous = tab_spontaneous.sorted(columns=[\"df\", \"Deviance\"])\n",
        "\n",
        "tab_spontaneous.title = r\"Log-linear analysis of germline spontaneous A$\\rightarrow$G mutation. \"\\\n",
        "+r\"Position(s) are relative to the index position. Deviance is from the log-linear model, \"\\\n",
        "+r\"with df degrees-of-freedom and corresponding $p$-value obtained from the $\\chi^2$ \"\\\n",
        "+r\"distribution. $p$-values listed as 0.0 are below the limit of detection. \"\\\n",
        "+r\"See \\citet{zhu2017statistical} for a more detailed description of the log-linear models.\"\n",
        "\n",
        "label = \"suptable:a-g:germline\"\n",
        "all_supp_dict[label] = format_latex_table(tab_spontaneous, justify=\"rrrl\", label=label)\n",
        "tab_spontaneous"
      ],
      "outputs": [
        {
          "output_type": "execute_result",
          "execution_count": 17,
          "data": {
            "text/plain": [
              "Table(numrows=15, numcols=4, header=['Position(s)', 'Deviance', 'df',..], rows=[['+2', 130.8265, 3,..],..])"
            ],
            "text/html": [
              "<table>\n",
              "<thead>\n",
              "<th>Position(s)</th>\n",
              "<th>Deviance</th>\n",
              "<th>df</th>\n",
              "<th>p-value</th>\n",
              "</thead>\n",
              "<tbody>\n",
              "<tr>\n",
              "<td>+2</td>\n",
              "<td>130.8</td>\n",
              "<td>3</td>\n",
              "<td>$3.6\\times 10^{-28}$</td>\n",
              "</tr>\n",
              "<tr>\n",
              "<td>-2</td>\n",
              "<td>553.2</td>\n",
              "<td>3</td>\n",
              "<td>0.0</td>\n",
              "</tr>\n",
              "<tr>\n",
              "<td>+1</td>\n",
              "<td>1140.0</td>\n",
              "<td>3</td>\n",
              "<td>0.0</td>\n",
              "</tr>\n",
              "<tr>\n",
              "<td>-1</td>\n",
              "<td>1447.4</td>\n",
              "<td>3</td>\n",
              "<td>0.0</td>\n",
              "</tr>\n",
              "<tr>\n",
              "<td>(+1, +2)</td>\n",
              "<td>49.9</td>\n",
              "<td>9</td>\n",
              "<td>$1.1\\times 10^{-7}$</td>\n",
              "</tr>\n",
              "<tr>\n",
              "<td>(-2, +2)</td>\n",
              "<td>60.4</td>\n",
              "<td>9</td>\n",
              "<td>$1.1\\times 10^{-9}$</td>\n",
              "</tr>\n",
              "<tr>\n",
              "<td>(-1, +2)</td>\n",
              "<td>72.9</td>\n",
              "<td>9</td>\n",
              "<td>$4.0\\times 10^{-12}$</td>\n",
              "</tr>\n",
              "<tr>\n",
              "<td>(-2, +1)</td>\n",
              "<td>123.2</td>\n",
              "<td>9</td>\n",
              "<td>$3.0\\times 10^{-22}$</td>\n",
              "</tr>\n",
              "<tr>\n",
              "<td>(-2, -1)</td>\n",
              "<td>330.3</td>\n",
              "<td>9</td>\n",
              "<td>$9.6\\times 10^{-66}$</td>\n",
              "</tr>\n",
              "<tr>\n",
              "<td>(-1, +1)</td>\n",
              "<td>341.5</td>\n",
              "<td>9</td>\n",
              "<td>$4.0\\times 10^{-68}$</td>\n",
              "</tr>\n",
              "<tr>\n",
              "<td>(-2, +1, +2)</td>\n",
              "<td>59.5</td>\n",
              "<td>27</td>\n",
              "<td>0.0003</td>\n",
              "</tr>\n",
              "<tr>\n",
              "<td>(-2, -1, +2)</td>\n",
              "<td>60.2</td>\n",
              "<td>27</td>\n",
              "<td>0.0002</td>\n",
              "</tr>\n",
              "<tr>\n",
              "<td>(-1, +1, +2)</td>\n",
              "<td>60.6</td>\n",
              "<td>27</td>\n",
              "<td>0.0002</td>\n",
              "</tr>\n",
              "<tr>\n",
              "<td>(-2, -1, +1)</td>\n",
              "<td>125.6</td>\n",
              "<td>27</td>\n",
              "<td>$1.2\\times 10^{-14}$</td>\n",
              "</tr>\n",
              "<tr>\n",
              "<td>(-2, -1, +1, +2)</td>\n",
              "<td>110.8</td>\n",
              "<td>81</td>\n",
              "<td>0.0155</td>\n",
              "</tr>\n",
              "</tbody>\n",
              "</table><p>15 rows x 4 columns</p>"
            ]
          },
          "metadata": {}
        }
      ],
      "execution_count": 17,
      "metadata": {}
    },
    {
      "cell_type": "markdown",
      "source": [
        "## Supp. table: Number of positions showing significant differences between ENU and Spontaneous"
      ],
      "metadata": {}
    },
    {
      "cell_type": "code",
      "source": [
        "fns = !ls loglin/results/ENU_vs_germline/autosomes/directions/*/summary.txt\n",
        "\n",
        "p_sum_rows = []\n",
        "for fn in fns:\n",
        "    start, end = fn.split('/')[-2].split('to')\n",
        "    mut_dir = start + r'$\\rightarrow$' + end\n",
        "    \n",
        "    summary_tab = LoadTable(fn, sep=\"\\t\")\n",
        "    p_vals = summary_tab.get_columns([\"Position\", \"prob\"]).tolist()\n",
        "    \n",
        "    first_p_vals = []\n",
        "    second_p_vals = []\n",
        "    third_p_vals = []\n",
        "    forth_p_vals = []\n",
        "    for record in p_vals:\n",
        "        poses = record[0]\n",
        "        order = poses.count(':') + 1\n",
        "        if order == 1:\n",
        "            first_p_vals.append(record[1])\n",
        "        if order == 2:\n",
        "            second_p_vals.append(record[1])\n",
        "        if order == 3:\n",
        "            third_p_vals.append(record[1])\n",
        "        if order == 4:\n",
        "            forth_p_vals.append(record[1])\n",
        "    \n",
        "    first_p_num = sum(p < 0.05 for p in first_p_vals)\n",
        "    second_p_num = sum(p < 0.05 for p in second_p_vals)\n",
        "    third_p_num = sum(p < 0.05 for p in third_p_vals)\n",
        "    forth_p_num = sum(p < 0.05 for p in forth_p_vals)\n",
        "    p_sum_rows.append([mut_dir, first_p_num, second_p_num, third_p_num, forth_p_num])\n",
        "\n",
        "p_sum_header = [\"Mutation direction\", \"1st-order\", \"2nd-order\", \"3rd-order\", \"4th-order\"]\n",
        "p_sum_tab = LoadTable(header=p_sum_header, rows=p_sum_rows, sep='\\t')\n",
        "p_sum_tab.title = r\"Number of positions showing significant differences between ENU-induced and \"\\\n",
        "+r\"spontaneous germline point mutations from analysis of 5-mers. A $p$-value $\\le 0.05$ was classified as significant. \"\\\n",
        "+r\"$p$-values were from the log-linear analysis.\"\n",
        "\n",
        "label = \"suptable:p_sum_tab\"\n",
        "all_supp_dict[label] = format_latex_table(p_sum_tab, justify=\"ccccc\", label=label)\n",
        "p_sum_tab"
      ],
      "outputs": [
        {
          "output_type": "execute_result",
          "execution_count": 18,
          "data": {
            "text/plain": [
              "Table(numrows=10, numcols=5, header=['Mutation direction', '1st-order', '2nd-order',..], rows=[['A$\\\\rightarrow$C', 4, 5,..],..])"
            ],
            "text/html": [
              "<table>\n",
              "<thead>\n",
              "<th>Mutation direction</th>\n",
              "<th>1st-order</th>\n",
              "<th>2nd-order</th>\n",
              "<th>3rd-order</th>\n",
              "<th>4th-order</th>\n",
              "</thead>\n",
              "<tbody>\n",
              "<tr>\n",
              "<td>A$\\rightarrow$C</td>\n",
              "<td>4</td>\n",
              "<td>5</td>\n",
              "<td>3</td>\n",
              "<td>0</td>\n",
              "</tr>\n",
              "<tr>\n",
              "<td>A$\\rightarrow$G</td>\n",
              "<td>4</td>\n",
              "<td>5</td>\n",
              "<td>4</td>\n",
              "<td>1</td>\n",
              "</tr>\n",
              "<tr>\n",
              "<td>A$\\rightarrow$T</td>\n",
              "<td>4</td>\n",
              "<td>5</td>\n",
              "<td>2</td>\n",
              "<td>1</td>\n",
              "</tr>\n",
              "<tr>\n",
              "<td>C$\\rightarrow$A</td>\n",
              "<td>4</td>\n",
              "<td>6</td>\n",
              "<td>4</td>\n",
              "<td>1</td>\n",
              "</tr>\n",
              "<tr>\n",
              "<td>C$\\rightarrow$T</td>\n",
              "<td>4</td>\n",
              "<td>5</td>\n",
              "<td>4</td>\n",
              "<td>1</td>\n",
              "</tr>\n",
              "<tr>\n",
              "<td>G$\\rightarrow$A</td>\n",
              "<td>4</td>\n",
              "<td>5</td>\n",
              "<td>4</td>\n",
              "<td>1</td>\n",
              "</tr>\n",
              "<tr>\n",
              "<td>G$\\rightarrow$T</td>\n",
              "<td>4</td>\n",
              "<td>5</td>\n",
              "<td>2</td>\n",
              "<td>1</td>\n",
              "</tr>\n",
              "<tr>\n",
              "<td>T$\\rightarrow$A</td>\n",
              "<td>4</td>\n",
              "<td>6</td>\n",
              "<td>2</td>\n",
              "<td>0</td>\n",
              "</tr>\n",
              "<tr>\n",
              "<td>T$\\rightarrow$C</td>\n",
              "<td>4</td>\n",
              "<td>6</td>\n",
              "<td>4</td>\n",
              "<td>0</td>\n",
              "</tr>\n",
              "<tr>\n",
              "<td>T$\\rightarrow$G</td>\n",
              "<td>4</td>\n",
              "<td>5</td>\n",
              "<td>3</td>\n",
              "<td>1</td>\n",
              "</tr>\n",
              "</tbody>\n",
              "</table><p>10 rows x 5 columns</p>"
            ]
          },
          "metadata": {}
        }
      ],
      "execution_count": 18,
      "metadata": {}
    },
    {
      "cell_type": "markdown",
      "source": [
        "## Supp. table: mutation motif analysis of spectra difference"
      ],
      "metadata": {}
    },
    {
      "cell_type": "code",
      "source": [
        "fns = !ls loglin/results/ENU_vs_germline/autosomes/combined/spectra_summary.txt\n",
        "\n",
        "tab_spectra = LoadTable(fns[0], sep=\"\\t\")\n",
        "tab_spectra = tab_spectra.get_columns([\"direction\", \"group\", \"ret\"])\n",
        "tab_spectra = tab_spectra.with_new_header(\"direction\", \"Direction\")\n",
        "tab_spectra = tab_spectra.with_new_header(\"group\", \"Class\")\n",
        "tab_spectra = tab_spectra.with_new_header(\"ret\", \"RET\")\n",
        "tab_spectra.format_column(\"Direction\", format_direction)\n",
        "tab_spectra.format_column(\"Class\", format_group)\n",
        "tab_spectra.format_column(\"RET\", \"%.3f\")\n",
        "tab_spectra = tab_spectra.sorted(columns=[\"RET\"])\n",
        "\n",
        "tab_spectra.title = r\"Comparison of mutation spectra between Spontaneous and ENU-induced \"\\\n",
        "+r\"germline point mutations. RET values are proportional to deviance generated from the log-linear model \\citep{zhu2017statistical}, and \"\\\n",
        "+r\"$p$-value are obtained from the $\\chi^2$ distribution. All $p$-values were below the limit of detection.\"\n",
        "\n",
        "label = \"suptable:spectra:enu_spontaneous\"\n",
        "all_supp_dict[label] = format_latex_table(tab_spectra, justify=\"rrrl\", label=label)\n",
        "tab_spectra"
      ],
      "outputs": [
        {
          "output_type": "execute_result",
          "execution_count": 19,
          "data": {
            "text/plain": [
              "Table(numrows=24, numcols=3, header=['Direction', 'Class', 'RET'], rows=[['TtoC', '/Users/yichengzhu/Desktop/Yicheng_Zhu/ENU_Project/data/ENU_variants/counts/autosomes/combined/combined_total_count.txt', -0.0467],..])"
            ],
            "text/html": [
              "<table>\n",
              "<thead>\n",
              "<th>Direction</th>\n",
              "<th>Class</th>\n",
              "<th>RET</th>\n",
              "</thead>\n",
              "<tbody>\n",
              "<tr>\n",
              "<td>T$\\rightarrow$C</td>\n",
              "<td>ENU</td>\n",
              "<td>-0.047</td>\n",
              "</tr>\n",
              "<tr>\n",
              "<td>A$\\rightarrow$T</td>\n",
              "<td>Spontaneous</td>\n",
              "<td>-0.036</td>\n",
              "</tr>\n",
              "<tr>\n",
              "<td>G$\\rightarrow$T</td>\n",
              "<td>Spontaneous</td>\n",
              "<td>-0.036</td>\n",
              "</tr>\n",
              "<tr>\n",
              "<td>T$\\rightarrow$A</td>\n",
              "<td>Spontaneous</td>\n",
              "<td>-0.035</td>\n",
              "</tr>\n",
              "<tr>\n",
              "<td>A$\\rightarrow$G</td>\n",
              "<td>ENU</td>\n",
              "<td>-0.035</td>\n",
              "</tr>\n",
              "<tr>\n",
              "<td>C$\\rightarrow$A</td>\n",
              "<td>Spontaneous</td>\n",
              "<td>-0.034</td>\n",
              "</tr>\n",
              "<tr>\n",
              "<td>G$\\rightarrow$A</td>\n",
              "<td>ENU</td>\n",
              "<td>-0.025</td>\n",
              "</tr>\n",
              "<tr>\n",
              "<td>C$\\rightarrow$T</td>\n",
              "<td>ENU</td>\n",
              "<td>-0.021</td>\n",
              "</tr>\n",
              "<tr>\n",
              "<td>A$\\rightarrow$C</td>\n",
              "<td>ENU</td>\n",
              "<td>-0.018</td>\n",
              "</tr>\n",
              "<tr>\n",
              "<td>T$\\rightarrow$G</td>\n",
              "<td>ENU</td>\n",
              "<td>-0.007</td>\n",
              "</tr>\n",
              "<tr>\n",
              "<td>G$\\rightarrow$C</td>\n",
              "<td>ENU</td>\n",
              "<td>-0.001</td>\n",
              "</tr>\n",
              "<tr>\n",
              "<td>C$\\rightarrow$G</td>\n",
              "<td>ENU</td>\n",
              "<td>-0.001</td>\n",
              "</tr>\n",
              "<tr>\n",
              "<td>T$\\rightarrow$G</td>\n",
              "<td>Spontaneous</td>\n",
              "<td>0.009</td>\n",
              "</tr>\n",
              "<tr>\n",
              "<td>C$\\rightarrow$G</td>\n",
              "<td>Spontaneous</td>\n",
              "<td>0.022</td>\n",
              "</tr>\n",
              "<tr>\n",
              "<td>C$\\rightarrow$T</td>\n",
              "<td>Spontaneous</td>\n",
              "<td>0.022</td>\n",
              "</tr>\n",
              "<tr>\n",
              "<td>G$\\rightarrow$C</td>\n",
              "<td>Spontaneous</td>\n",
              "<td>0.023</td>\n",
              "</tr>\n",
              "<tr>\n",
              "<td>G$\\rightarrow$A</td>\n",
              "<td>Spontaneous</td>\n",
              "<td>0.027</td>\n",
              "</tr>\n",
              "<tr>\n",
              "<td>A$\\rightarrow$C</td>\n",
              "<td>Spontaneous</td>\n",
              "<td>0.027</td>\n",
              "</tr>\n",
              "<tr>\n",
              "<td>A$\\rightarrow$G</td>\n",
              "<td>Spontaneous</td>\n",
              "<td>0.039</td>\n",
              "</tr>\n",
              "<tr>\n",
              "<td>C$\\rightarrow$A</td>\n",
              "<td>ENU</td>\n",
              "<td>0.052</td>\n",
              "</tr>\n",
              "<tr>\n",
              "<td>T$\\rightarrow$C</td>\n",
              "<td>Spontaneous</td>\n",
              "<td>0.055</td>\n",
              "</tr>\n",
              "<tr>\n",
              "<td>G$\\rightarrow$T</td>\n",
              "<td>ENU</td>\n",
              "<td>0.063</td>\n",
              "</tr>\n",
              "<tr>\n",
              "<td>T$\\rightarrow$A</td>\n",
              "<td>ENU</td>\n",
              "<td>0.066</td>\n",
              "</tr>\n",
              "<tr>\n",
              "<td>A$\\rightarrow$T</td>\n",
              "<td>ENU</td>\n",
              "<td>0.067</td>\n",
              "</tr>\n",
              "</tbody>\n",
              "</table><p>24 rows x 3 columns</p>"
            ]
          },
          "metadata": {}
        }
      ],
      "execution_count": 19,
      "metadata": {}
    },
    {
      "cell_type": "markdown",
      "source": [
        "# Supp. table: long-flank analyses, subtables"
      ],
      "metadata": {}
    },
    {
      "cell_type": "code",
      "source": [
        "header = ['Direction', 'RE$_{max}(1)$', 'RE Dist.', 'p-val Dist.']\n",
        "rows =[['A$\\\\rightarrow$C', '0.0374', '6', '10'],\n",
        " ['A$\\\\rightarrow$G', '0.0402', '4', '10'],\n",
        " ['A$\\\\rightarrow$T', '0.0638', '2', '10'],\n",
        " ['C$\\\\rightarrow$A', '0.0632', '2', '10'],\n",
        " ['C$\\\\rightarrow$T', '0.0703', '2', '10'],\n",
        " ['G$\\\\rightarrow$A', '0.0710', '2', '10'],\n",
        " ['G$\\\\rightarrow$T', '0.0624', '2', '10'],\n",
        " ['T$\\\\rightarrow$A', '0.0606', '2', '10'],\n",
        " ['T$\\\\rightarrow$C', '0.0395', '4', '10'],\n",
        " ['T$\\\\rightarrow$G', '0.0373', '6', '10']]\n",
        "lflank_enu = LoadTable(header=header, rows=rows, title=\"ENU-induced\")\n",
        "lflank_enu = format_latex_table(lflank_enu, \"rrrc\", label=\"suptable:long-flank-nbrsize:enu\")\n",
        "lflank_enu = lflank_enu.replace(r\"\\begin{table}[htp]\", r\"\\begin{subtable}[t]{1.0\\textwidth}\").\\\n",
        "                replace(r\"\\end{table}\", r\"\\end{subtable}\")\n",
        "\n",
        "d = r\"\"\"Direction,RE$_{max}(1)$,RE Dist.,p-val Dist.\n",
        "A$\\rightarrow$C,0.0047,8,10\n",
        "A$\\rightarrow$G,0.0118,3,10\n",
        "A$\\rightarrow$T,0.0194,3,10\n",
        "C$\\rightarrow$A,0.0332,4,10\n",
        "C$\\rightarrow$T,0.0505,1,10\n",
        "G$\\rightarrow$A,0.0508,1,10\n",
        "G$\\rightarrow$T,0.0351,3,10\n",
        "T$\\rightarrow$A,0.0117,2,10\n",
        "T$\\rightarrow$C,0.0152,2,10\n",
        "T$\\rightarrow$G,0.0148,2,10\"\"\".splitlines()\n",
        "header = d.pop(0).split(\",\")\n",
        "rows = [r.split(\",\") for r in d]\n",
        "lflank_spontab = LoadTable(header=header, rows=rows, title=\"Spontaneous\")\n",
        "lflank_spon = format_latex_table(lflank_spontab, \"rrrc\")\n",
        "lflank_spon = lflank_spon.replace(r\"\\begin{table}[htp]\", r\"\\begin{subtable}[t]{1.0\\textwidth}\").\\\n",
        "                replace(r\"\\end{table}\", r\"\\end{subtable}\")\n",
        "\n",
        "lflank_tmp = r\"\"\"\\begin{table}\n",
        "\\centering\n",
        "%s\n",
        "\n",
        "%s\n",
        "\n",
        "\\caption{Longer range neighbourhood effect log-linear analyses results of (a) ENU-induced mutations and (b) germline spontaneous mutations.\n",
        "For both subtables, the most distant positions from the mutation with RE$(1)\\ge10\\%%$ of RE$_{max}(1)$. \n",
        "RE$(1)$ is the first order RE for the position, and RE$_{max}(1)$ the largest RE from a first order effect \n",
        "for the surveyed positions. RE Dist. is the furthest position with an RE value $\\ge 0.1\\times\\mathrm{RE}_{max}$. \n",
        "p-val Dist. is the corresponding distance based on the $p$-value$\\le 0.05$. As the analysis was limited to a flank \n",
        "size of 10bp either side of the mutating base, the maximum possible distance is 10.}\n",
        "\\label{%s}\n",
        "\\end{table}\n",
        "\"\"\"\n",
        "label = \"suptable:long-flank\"\n",
        "all_supp_dict[label] = lflank_tmp % (lflank_enu, lflank_spon, label)\n",
        "lflank_spontab"
      ],
      "outputs": [
        {
          "output_type": "execute_result",
          "execution_count": 20,
          "data": {
            "text/plain": [
              "Table(numrows=10, numcols=4, header=['Direction', 'RE$_{max}(1)$', 'RE Dist.',..], rows=[['A$\\\\rightarrow$C', '0.0047', '8',..],..])"
            ],
            "text/html": [
              "<table>\n",
              "<thead>\n",
              "<th>Direction</th>\n",
              "<th>RE$_{max}(1)$</th>\n",
              "<th>RE Dist.</th>\n",
              "<th>p-val Dist.</th>\n",
              "</thead>\n",
              "<tbody>\n",
              "<tr>\n",
              "<td>A$\\rightarrow$C</td>\n",
              "<td>0.0047</td>\n",
              "<td>8</td>\n",
              "<td>10</td>\n",
              "</tr>\n",
              "<tr>\n",
              "<td>A$\\rightarrow$G</td>\n",
              "<td>0.0118</td>\n",
              "<td>3</td>\n",
              "<td>10</td>\n",
              "</tr>\n",
              "<tr>\n",
              "<td>A$\\rightarrow$T</td>\n",
              "<td>0.0194</td>\n",
              "<td>3</td>\n",
              "<td>10</td>\n",
              "</tr>\n",
              "<tr>\n",
              "<td>C$\\rightarrow$A</td>\n",
              "<td>0.0332</td>\n",
              "<td>4</td>\n",
              "<td>10</td>\n",
              "</tr>\n",
              "<tr>\n",
              "<td>C$\\rightarrow$T</td>\n",
              "<td>0.0505</td>\n",
              "<td>1</td>\n",
              "<td>10</td>\n",
              "</tr>\n",
              "<tr>\n",
              "<td>G$\\rightarrow$A</td>\n",
              "<td>0.0508</td>\n",
              "<td>1</td>\n",
              "<td>10</td>\n",
              "</tr>\n",
              "<tr>\n",
              "<td>G$\\rightarrow$T</td>\n",
              "<td>0.0351</td>\n",
              "<td>3</td>\n",
              "<td>10</td>\n",
              "</tr>\n",
              "<tr>\n",
              "<td>T$\\rightarrow$A</td>\n",
              "<td>0.0117</td>\n",
              "<td>2</td>\n",
              "<td>10</td>\n",
              "</tr>\n",
              "<tr>\n",
              "<td>T$\\rightarrow$C</td>\n",
              "<td>0.0152</td>\n",
              "<td>2</td>\n",
              "<td>10</td>\n",
              "</tr>\n",
              "<tr>\n",
              "<td>T$\\rightarrow$G</td>\n",
              "<td>0.0148</td>\n",
              "<td>2</td>\n",
              "<td>10</td>\n",
              "</tr>\n",
              "</tbody>\n",
              "</table><p>10 rows x 4 columns</p>"
            ]
          },
          "metadata": {}
        }
      ],
      "execution_count": 20,
      "metadata": {}
    },
    {
      "cell_type": "markdown",
      "source": [
        "## Supp. table: Summarized 3-mer AUC results of different classifiers"
      ],
      "metadata": {}
    },
    {
      "cell_type": "code",
      "source": [
        "lc_aucs_3mer = []\n",
        "dims = [0,1,2]\n",
        "train_sizes = [1009, 2050, 4101, 10255, 16408]\n",
        "\n\n",
        "for dim in dims:\n",
        "    for ts in train_sizes:\n",
        "        data_dirs = glob.glob(\"classifier/results/chrom1/3-mer/data_ratio_1/direction_All/%s_way_samples/train_size_%s/\" % (dim, ts))\n",
        "        sample_aucs = []\n",
        "        for directory in data_dirs:\n",
        "            get_auc(directory, sample_aucs, 'LR')\n",
        "        sort_aucs = sorted(sample_aucs, key = lambda x: int(x[1]))\n",
        "        \n",
        "        aucs = [r[2] for r in sort_aucs]\n",
        "        max_auc = max(aucs)\n",
        "        min_auc = min(aucs)\n",
        "        \n",
        "        lc_aucs_3mer.append([model_nm_dict[dim], ts, max_auc, min_auc])\n",
        "    \n",
        "lc_headers_3mer = [\"Classifier design\", \"Training size\", \"max AUC\", \"min AUC\"]\n",
        "lc_3mer = LoadTable(header=lc_headers_3mer, rows=lc_aucs_3mer, digits=3,\n",
        "                  column_templates={'Training size': \"{:,}\".format},\n",
        "                  title=\"Summary of AUC scores from LR classifiers using 3-mers.\")\n",
        "\n",
        "label = \"suptable:LR_aucs_3mer\"\n",
        "all_supp_dict[label] = format_latex_table(lc_3mer, \"rrrc\", label=label)\n",
        "lc_3mer"
      ],
      "outputs": [
        {
          "output_type": "execute_result",
          "execution_count": 21,
          "data": {
            "text/plain": [
              "Table(numrows=15, numcols=4, header=['Classifier design', 'Training size', 'max AUC',..], rows=[['M', 1009, 0.7379,..],..])"
            ],
            "text/html": [
              "<table>\n",
              "<thead>\n",
              "<th>Classifier design</th>\n",
              "<th>Training size</th>\n",
              "<th>max AUC</th>\n",
              "<th>min AUC</th>\n",
              "</thead>\n",
              "<tbody>\n",
              "<tr>\n",
              "<td>M</td>\n",
              "<td>1,009</td>\n",
              "<td>0.738</td>\n",
              "<td>0.711</td>\n",
              "</tr>\n",
              "<tr>\n",
              "<td>M</td>\n",
              "<td>2,050</td>\n",
              "<td>0.735</td>\n",
              "<td>0.723</td>\n",
              "</tr>\n",
              "<tr>\n",
              "<td>M</td>\n",
              "<td>4,101</td>\n",
              "<td>0.730</td>\n",
              "<td>0.720</td>\n",
              "</tr>\n",
              "<tr>\n",
              "<td>M</td>\n",
              "<td>10,255</td>\n",
              "<td>0.735</td>\n",
              "<td>0.725</td>\n",
              "</tr>\n",
              "<tr>\n",
              "<td>M</td>\n",
              "<td>16,408</td>\n",
              "<td>0.731</td>\n",
              "<td>0.727</td>\n",
              "</tr>\n",
              "<tr>\n",
              "<td>M+I</td>\n",
              "<td>1,009</td>\n",
              "<td>0.777</td>\n",
              "<td>0.737</td>\n",
              "</tr>\n",
              "<tr>\n",
              "<td>M+I</td>\n",
              "<td>2,050</td>\n",
              "<td>0.772</td>\n",
              "<td>0.763</td>\n",
              "</tr>\n",
              "<tr>\n",
              "<td>M+I</td>\n",
              "<td>4,101</td>\n",
              "<td>0.777</td>\n",
              "<td>0.762</td>\n",
              "</tr>\n",
              "<tr>\n",
              "<td>M+I</td>\n",
              "<td>10,255</td>\n",
              "<td>0.775</td>\n",
              "<td>0.764</td>\n",
              "</tr>\n",
              "<tr>\n",
              "<td>M+I</td>\n",
              "<td>16,408</td>\n",
              "<td>0.773</td>\n",
              "<td>0.766</td>\n",
              "</tr>\n",
              "<tr>\n",
              "<td>M+I+2D</td>\n",
              "<td>1,009</td>\n",
              "<td>0.777</td>\n",
              "<td>0.736</td>\n",
              "</tr>\n",
              "<tr>\n",
              "<td>M+I+2D</td>\n",
              "<td>2,050</td>\n",
              "<td>0.767</td>\n",
              "<td>0.755</td>\n",
              "</tr>\n",
              "<tr>\n",
              "<td>M+I+2D</td>\n",
              "<td>4,101</td>\n",
              "<td>0.776</td>\n",
              "<td>0.763</td>\n",
              "</tr>\n",
              "<tr>\n",
              "<td>M+I+2D</td>\n",
              "<td>10,255</td>\n",
              "<td>0.775</td>\n",
              "<td>0.766</td>\n",
              "</tr>\n",
              "<tr>\n",
              "<td>M+I+2D</td>\n",
              "<td>16,408</td>\n",
              "<td>0.774</td>\n",
              "<td>0.769</td>\n",
              "</tr>\n",
              "</tbody>\n",
              "</table><p>15 rows x 4 columns</p>"
            ]
          },
          "metadata": {}
        }
      ],
      "execution_count": 21,
      "metadata": {}
    },
    {
      "cell_type": "markdown",
      "source": [
        "## Supp. table: Summarized 5-mer AUC results of different classifiers"
      ],
      "metadata": {}
    },
    {
      "cell_type": "code",
      "source": [
        "lc_aucs_5mer = []\n",
        "dims = [0,1,2,4]    \n",
        "train_sizes = [1009, 2050, 4101, 10255, 16408]\n",
        "\n",
        "for dim in dims:\n",
        "    for ts in train_sizes:\n",
        "        data_dirs = glob.glob(\"classifier/results/chrom1/5-mer/data_ratio_1/direction_All/%s_way_samples/train_size_%s/\" % (dim, ts))\n",
        "    \n",
        "        sample_aucs = []\n",
        "        for directory in data_dirs:\n",
        "            aucs = get_auc(directory, sample_aucs, 'LR')\n",
        "        sort_aucs = sorted(sample_aucs, key = lambda x: int(x[1]))\n",
        "    \n",
        "        aucs = [r[2] for r in sort_aucs]\n",
        "        max_auc = max(aucs)\n",
        "        min_auc = min(aucs)\n",
        "        \n",
        "        lc_aucs_5mer.append([model_nm_dict[dim], ts, max_auc, min_auc])\n",
        "\n",
        "lc_headers_5mer = [\"Classifier design\", \"Training size\", \"max AUC\", \"min AUC\"]\n",
        "lc_5mer = LoadTable(header=lc_headers_5mer, rows=lc_aucs_5mer, digits=3,\n",
        "                  column_templates={'Training size': \"{:,}\".format},\n",
        "                  title=\"Summary of AUC scores from LR classifiers using 5-mers.\")\n",
        "\n",
        "label = \"suptable:LR_aucs_5mer\"\n",
        "all_supp_dict[label] = format_latex_table(lc_5mer, justify=\"rrrc\", label=label)\n",
        "lc_5mer"
      ],
      "outputs": [
        {
          "output_type": "execute_result",
          "execution_count": 22,
          "data": {
            "text/plain": [
              "Table(numrows=20, numcols=4, header=['Classifier design', 'Training size', 'max AUC',..], rows=[['M', 1009, 0.7379,..],..])"
            ],
            "text/html": [
              "<table>\n",
              "<thead>\n",
              "<th>Classifier design</th>\n",
              "<th>Training size</th>\n",
              "<th>max AUC</th>\n",
              "<th>min AUC</th>\n",
              "</thead>\n",
              "<tbody>\n",
              "<tr>\n",
              "<td>M</td>\n",
              "<td>1,009</td>\n",
              "<td>0.738</td>\n",
              "<td>0.711</td>\n",
              "</tr>\n",
              "<tr>\n",
              "<td>M</td>\n",
              "<td>2,050</td>\n",
              "<td>0.735</td>\n",
              "<td>0.723</td>\n",
              "</tr>\n",
              "<tr>\n",
              "<td>M</td>\n",
              "<td>4,101</td>\n",
              "<td>0.730</td>\n",
              "<td>0.720</td>\n",
              "</tr>\n",
              "<tr>\n",
              "<td>M</td>\n",
              "<td>10,255</td>\n",
              "<td>0.735</td>\n",
              "<td>0.725</td>\n",
              "</tr>\n",
              "<tr>\n",
              "<td>M</td>\n",
              "<td>16,408</td>\n",
              "<td>0.731</td>\n",
              "<td>0.727</td>\n",
              "</tr>\n",
              "<tr>\n",
              "<td>M+I</td>\n",
              "<td>1,009</td>\n",
              "<td>0.771</td>\n",
              "<td>0.736</td>\n",
              "</tr>\n",
              "<tr>\n",
              "<td>M+I</td>\n",
              "<td>2,050</td>\n",
              "<td>0.775</td>\n",
              "<td>0.758</td>\n",
              "</tr>\n",
              "<tr>\n",
              "<td>M+I</td>\n",
              "<td>4,101</td>\n",
              "<td>0.779</td>\n",
              "<td>0.764</td>\n",
              "</tr>\n",
              "<tr>\n",
              "<td>M+I</td>\n",
              "<td>10,255</td>\n",
              "<td>0.778</td>\n",
              "<td>0.768</td>\n",
              "</tr>\n",
              "<tr>\n",
              "<td>M+I</td>\n",
              "<td>16,408</td>\n",
              "<td>0.775</td>\n",
              "<td>0.769</td>\n",
              "</tr>\n",
              "<tr>\n",
              "<td>M+I+2D</td>\n",
              "<td>1,009</td>\n",
              "<td>0.774</td>\n",
              "<td>0.735</td>\n",
              "</tr>\n",
              "<tr>\n",
              "<td>M+I+2D</td>\n",
              "<td>2,050</td>\n",
              "<td>0.765</td>\n",
              "<td>0.755</td>\n",
              "</tr>\n",
              "<tr>\n",
              "<td>M+I+2D</td>\n",
              "<td>4,101</td>\n",
              "<td>0.779</td>\n",
              "<td>0.769</td>\n",
              "</tr>\n",
              "<tr>\n",
              "<td>M+I+2D</td>\n",
              "<td>10,255</td>\n",
              "<td>0.781</td>\n",
              "<td>0.772</td>\n",
              "</tr>\n",
              "<tr>\n",
              "<td>M+I+2D</td>\n",
              "<td>16,408</td>\n",
              "<td>0.781</td>\n",
              "<td>0.775</td>\n",
              "</tr>\n",
              "<tr>\n",
              "<td>M+I+4D</td>\n",
              "<td>1,009</td>\n",
              "<td>0.774</td>\n",
              "<td>0.734</td>\n",
              "</tr>\n",
              "<tr>\n",
              "<td>M+I+4D</td>\n",
              "<td>2,050</td>\n",
              "<td>0.771</td>\n",
              "<td>0.756</td>\n",
              "</tr>\n",
              "<tr>\n",
              "<td>M+I+4D</td>\n",
              "<td>4,101</td>\n",
              "<td>0.779</td>\n",
              "<td>0.770</td>\n",
              "</tr>\n",
              "<tr>\n",
              "<td>M+I+4D</td>\n",
              "<td>10,255</td>\n",
              "<td>0.782</td>\n",
              "<td>0.773</td>\n",
              "</tr>\n",
              "<tr>\n",
              "<td>M+I+4D</td>\n",
              "<td>16,408</td>\n",
              "<td>0.782</td>\n",
              "<td>0.776</td>\n",
              "</tr>\n",
              "</tbody>\n",
              "</table><p>20 rows x 4 columns</p>"
            ]
          },
          "metadata": {}
        }
      ],
      "execution_count": 22,
      "metadata": {}
    },
    {
      "cell_type": "markdown",
      "source": [
        "## Supp. table: Summarized 7-mer AUC results of different classifiers"
      ],
      "metadata": {}
    },
    {
      "cell_type": "code",
      "source": [
        "lc_aucs_7mer = []\n",
        "dims = [0,1,2,6]    \n",
        "train_sizes = [1009, 2050, 4101, 10255, 16408]\n",
        "\n",
        "for dim in dims:\n",
        "    for ts in train_sizes:\n",
        "        data_dirs = glob.glob(\"classifier/results/chrom1/7-mer/data_ratio_1/direction_All/%s_way_samples/train_size_%s/\" % (dim, ts))\n",
        "    \n",
        "        sample_aucs = []\n",
        "        for directory in data_dirs:\n",
        "            aucs = get_auc(directory, sample_aucs, 'LR')\n",
        "        sort_aucs = sorted(sample_aucs, key = lambda x: int(x[1]))\n",
        "    \n",
        "        aucs = [r[2] for r in sort_aucs]\n",
        "        max_auc = max(aucs)\n",
        "        min_auc = min(aucs)\n",
        "        lc_aucs_7mer.append([model_nm_dict[dim], ts, max_auc, min_auc])\n",
        "\n\n",
        "lc_headers_7mer = [\"Classifier design\", \"Training size\", \"max AUC\", \"min AUC\"]\n",
        "lc_7mer = LoadTable(header=lc_headers_7mer, rows=lc_aucs_7mer, digits=3,\n",
        "                  column_templates={'Training size': \"{:,}\".format},\n",
        "                  title=\"Summary of AUC scores from LR classifiers using 7-mers.\")\n",
        "\n",
        "label = \"suptable:LR_aucs_7mer\"\n",
        "all_supp_dict[label] = format_latex_table(lc_7mer, justify=\"rrrc\", label=label)\n",
        "lc_7mer"
      ],
      "outputs": [
        {
          "output_type": "execute_result",
          "execution_count": 23,
          "data": {
            "text/plain": [
              "Table(numrows=20, numcols=4, header=['Classifier design', 'Training size', 'max AUC',..], rows=[['M', 1009, 0.7379,..],..])"
            ],
            "text/html": [
              "<table>\n",
              "<thead>\n",
              "<th>Classifier design</th>\n",
              "<th>Training size</th>\n",
              "<th>max AUC</th>\n",
              "<th>min AUC</th>\n",
              "</thead>\n",
              "<tbody>\n",
              "<tr>\n",
              "<td>M</td>\n",
              "<td>1,009</td>\n",
              "<td>0.738</td>\n",
              "<td>0.711</td>\n",
              "</tr>\n",
              "<tr>\n",
              "<td>M</td>\n",
              "<td>2,050</td>\n",
              "<td>0.735</td>\n",
              "<td>0.723</td>\n",
              "</tr>\n",
              "<tr>\n",
              "<td>M</td>\n",
              "<td>4,101</td>\n",
              "<td>0.730</td>\n",
              "<td>0.720</td>\n",
              "</tr>\n",
              "<tr>\n",
              "<td>M</td>\n",
              "<td>10,255</td>\n",
              "<td>0.735</td>\n",
              "<td>0.725</td>\n",
              "</tr>\n",
              "<tr>\n",
              "<td>M</td>\n",
              "<td>16,408</td>\n",
              "<td>0.731</td>\n",
              "<td>0.727</td>\n",
              "</tr>\n",
              "<tr>\n",
              "<td>M+I</td>\n",
              "<td>1,009</td>\n",
              "<td>0.781</td>\n",
              "<td>0.737</td>\n",
              "</tr>\n",
              "<tr>\n",
              "<td>M+I</td>\n",
              "<td>2,050</td>\n",
              "<td>0.778</td>\n",
              "<td>0.755</td>\n",
              "</tr>\n",
              "<tr>\n",
              "<td>M+I</td>\n",
              "<td>4,101</td>\n",
              "<td>0.785</td>\n",
              "<td>0.771</td>\n",
              "</tr>\n",
              "<tr>\n",
              "<td>M+I</td>\n",
              "<td>10,255</td>\n",
              "<td>0.784</td>\n",
              "<td>0.774</td>\n",
              "</tr>\n",
              "<tr>\n",
              "<td>M+I</td>\n",
              "<td>16,408</td>\n",
              "<td>0.780</td>\n",
              "<td>0.774</td>\n",
              "</tr>\n",
              "<tr>\n",
              "<td>M+I+2D</td>\n",
              "<td>1,009</td>\n",
              "<td>0.777</td>\n",
              "<td>0.734</td>\n",
              "</tr>\n",
              "<tr>\n",
              "<td>M+I+2D</td>\n",
              "<td>2,050</td>\n",
              "<td>0.771</td>\n",
              "<td>0.755</td>\n",
              "</tr>\n",
              "<tr>\n",
              "<td>M+I+2D</td>\n",
              "<td>4,101</td>\n",
              "<td>0.788</td>\n",
              "<td>0.775</td>\n",
              "</tr>\n",
              "<tr>\n",
              "<td>M+I+2D</td>\n",
              "<td>10,255</td>\n",
              "<td>0.788</td>\n",
              "<td>0.778</td>\n",
              "</tr>\n",
              "<tr>\n",
              "<td>M+I+2D</td>\n",
              "<td>16,408</td>\n",
              "<td>0.787</td>\n",
              "<td>0.783</td>\n",
              "</tr>\n",
              "<tr>\n",
              "<td>FS</td>\n",
              "<td>1,009</td>\n",
              "<td>0.777</td>\n",
              "<td>0.733</td>\n",
              "</tr>\n",
              "<tr>\n",
              "<td>FS</td>\n",
              "<td>2,050</td>\n",
              "<td>0.773</td>\n",
              "<td>0.757</td>\n",
              "</tr>\n",
              "<tr>\n",
              "<td>FS</td>\n",
              "<td>4,101</td>\n",
              "<td>0.784</td>\n",
              "<td>0.773</td>\n",
              "</tr>\n",
              "<tr>\n",
              "<td>FS</td>\n",
              "<td>10,255</td>\n",
              "<td>0.787</td>\n",
              "<td>0.780</td>\n",
              "</tr>\n",
              "<tr>\n",
              "<td>FS</td>\n",
              "<td>16,408</td>\n",
              "<td>0.790</td>\n",
              "<td>0.784</td>\n",
              "</tr>\n",
              "</tbody>\n",
              "</table><p>20 rows x 4 columns</p>"
            ]
          },
          "metadata": {}
        }
      ],
      "execution_count": 23,
      "metadata": {}
    },
    {
      "cell_type": "markdown",
      "source": [
        "## Supp. table: Summarized 7-mer AUC results of different NB classifiers"
      ],
      "metadata": {}
    },
    {
      "cell_type": "markdown",
      "source": [
        "## Making compound A->G supp figure\n",
        "\nCopy the 1,2,3 plots and the summary and place them into `../compound_figures/`. They will be combined into a single multi-panel plot separately."
      ],
      "metadata": {}
    },
    {
      "cell_type": "code",
      "source": [
        "fns = !ls loglin/results/ENU_variants/autosomes/directions/AtoG/*.pdf\n",
        "for fn in fns:\n",
        "    if fn.endswith(\"4.pdf\"):\n",
        "        continue\n",
        "    bn = os.path.basename(fn)\n",
        "    bn = \"ENU-AtoG_%s\" % bn\n",
        "    ofn = os.path.join(\"compound_figures/\", bn)\n",
        "    shutil.copy(fn, ofn)"
      ],
      "outputs": [],
      "execution_count": 24,
      "metadata": {
        "collapsed": true
      }
    },
    {
      "cell_type": "markdown",
      "source": [
        "## Make compound figures and copy into place"
      ],
      "metadata": {}
    },
    {
      "cell_type": "code",
      "source": [
        "!cd compound_figures/; pdflatex suppfig_enu_AtoG.tex > /dev/null 2>&1\n",
        "!mv compound_figures/suppfig_enu_AtoG.pdf figs_n_tabs/.\n",
        "!find compound_figures/ -name \"*.log\" -delete\n",
        "!find compound_figures/ -name \"*.aux\" -delete\n",
        "!find compound_figures/ -name \"*.pdf\" -delete"
      ],
      "outputs": [],
      "execution_count": 25,
      "metadata": {}
    },
    {
      "cell_type": "code",
      "source": [
        "all_supp_dict[\"supfig:ENU-order-effects\"] = r\"\"\"\\begin{figure}\n",
        "    \\centering\n",
        "    \\includegraphics{figs/suppfig_enu_AtoG}\n",
        "    \\caption{Independent and second-order position effects dominate ENU-induced A$\\rightarrow$G point mutations. Note also that RE is largest for dependent effects among positions that are positions physically contiguous and overlap the mutated position at index 0. (a) Summary of the strength of associations by effect order. RE$_{max}$ is the maximum RE from any analysis for the indicated order. (b) The independent, or first-order, effects. (c) Second-order effects. (d) third-order effects.}\n",
        "    \\label{supfig:ENU-order-effects}\n",
        "\\end{figure}\n",
        "\"\"\""
      ],
      "outputs": [],
      "execution_count": 26,
      "metadata": {}
    },
    {
      "cell_type": "markdown",
      "source": [
        "## Supp. figure: large neighbourhood effect analysis on ENU-induced A->G mutations"
      ],
      "metadata": {}
    },
    {
      "cell_type": "code",
      "source": [
        "fn = \"loglin/results/ENU_variants/long_flanks/autosomes/directions/AtoG/1.pdf\"\n",
        "bn = \"long_flank_AtoG_enu.pdf\"\n",
        "ofn = os.path.join(\"figs_n_tabs/\", bn)\n",
        "shutil.copy(fn, ofn)\n",
        "print (\"%s is saved!\" % ofn)"
      ],
      "outputs": [
        {
          "output_type": "stream",
          "name": "stdout",
          "text": [
            "figs_n_tabs/long_flank_AtoG_enu.pdf is saved!\n"
          ]
        }
      ],
      "execution_count": 27,
      "metadata": {}
    },
    {
      "cell_type": "markdown",
      "source": [
        "## Supp. figure: large neighbourhood effect analysis on spontaneous A->G mutations"
      ],
      "metadata": {}
    },
    {
      "cell_type": "code",
      "source": [
        "fn = \"loglin/results/germline_variants/long_flanks/autosomes/directions/AtoG/1.pdf\"\n",
        "bn = \"long_flank_AtoG_germline.pdf\"\n",
        "ofn = os.path.join(\"figs_n_tabs/\", bn)\n",
        "shutil.copy(fn, ofn)\n",
        "print (\"%s is saved!\" % ofn)"
      ],
      "outputs": [
        {
          "output_type": "stream",
          "name": "stdout",
          "text": [
            "figs_n_tabs/long_flank_AtoG_germline.pdf is saved!\n"
          ]
        }
      ],
      "execution_count": 28,
      "metadata": {}
    },
    {
      "cell_type": "code",
      "source": [
        "all_supp_dict[\"supfig:long-flank\"] = r\"\"\"\\begin{figure}[!ht]\n",
        "  \\centering\n",
        "  \\begin{subfigure}[b]{1.0\\textwidth}\n",
        "    \\centering\n",
        "    \\includegraphics[width=0.6\\textwidth]{figs/long_flank_AtoG_enu}\n",
        "    \\caption{ENU-induced}\n",
        "    \\label{supfig:long-flank:enu}\n",
        "  \\end{subfigure}\n",
        "  \n",
        "  \\begin{subfigure}[b]{1.0\\textwidth}\n",
        "    \\centering\n",
        "    \\includegraphics[width=0.6\\textwidth]{figs/long_flank_AtoG_germline}\n",
        "    \\caption{Spontaneous}\n",
        "    \\label{supfig:long-flank:germline}\n",
        "  \\end{subfigure}\n",
        "  \n",
        "  \\caption{The physical extent of neighbourhood effects in the mouse. Mutation motifs are drawn from the results of the log-linear \n",
        "  analysis of first-order effects (summarised in Table \\ref{suptable:long-flank}). (a) ENU-induced germline mutations and (b) Spontaneous germline mutations.}\n",
        "  \\label{supfig:long-flank}\n",
        "\\end{figure}\"\"\""
      ],
      "outputs": [],
      "execution_count": 29,
      "metadata": {}
    },
    {
      "cell_type": "markdown",
      "source": [
        "## Supp. figure: mutation motif analysis of spectra difference"
      ],
      "metadata": {}
    },
    {
      "cell_type": "code",
      "source": [
        "paths = !find loglin/results/ENU_vs_germline/autosomes/combined/spectra_analysis.json\n",
        "assert len(paths) == 1, paths\n",
        "path = paths[0]\n",
        "figpath = \"loglin/results/ENU_vs_germline/autosomes/combined/spectra_grid.pdf\"\n",
        "\n",
        "!mutation_draw spectra_grid --figpath=$figpath --json_path=$path --group_label=group\n",
        "\n",
        "###### Copy spectra_grid figure to figs_n_tabs/\n",
        "fns = !ls loglin/results/ENU_vs_germline/autosomes/combined/*.pdf\n",
        "for fn in fns:\n",
        "    bn = os.path.basename(fn)\n",
        "    bn = \"ENU_v_spontaneous_spectra_grid.pdf\"\n",
        "    ofn = os.path.join(\"figs_n_tabs/\", bn)\n",
        "    shutil.copy(fn, ofn)\n",
        "    print (\"%s is saved!\" % ofn)\n",
        "\n",
        "all_supp_dict[\"supfig:spectra:grid\"] = r\"\"\"\\begin{figure}[ht]\n",
        "  \\centering\n",
        "  \\includegraphics[width=1.0\\textwidth]{figs/ENU_v_spontaneous_spectra_grid.pdf}\n",
        "  \\caption{Confirmation of the mutation spectra difference between the ENU-induced and spontaneous germline mutations. Starting and Ending Base correspond to X, Y respectively in X$\\rightarrow$Y. The y-axis is RE from the spectra hypothesis test and letter heights are as for the mutation motif logo. Letters in the normal orientation indicate an excess of that mutation direction in ENU-induced mutations relative to the spontaneous mutations. Inverted letters indicate a deficit in ENU-induced mutations relative to the spontaneous mutations. See \\citet{zhu2017statistical} for a more detailed description of the log-linear models.}\n",
        "  \\label{supfig:spectra:grid}\n",
        "\\end{figure}\n",
        "\"\"\""
      ],
      "outputs": [
        {
          "output_type": "stream",
          "name": "stdout",
          "text": [
            "/bin/sh: mutation_draw: command not found\n",
            "figs_n_tabs/ENU_v_spontaneous_spectra_grid.pdf is saved!\n"
          ]
        }
      ],
      "execution_count": 30,
      "metadata": {}
    },
    {
      "cell_type": "markdown",
      "source": [
        "## Supp. figures: GC% does not improve classifier - chrom1"
      ],
      "metadata": {}
    },
    {
      "cell_type": "code",
      "source": [
        "clfs = {'LR':'N', 'LR_GC':'Y'}\n",
        "dims = [0, 1, 2, 6]\n",
        "\n",
        "gc_lc_aucs = []\n",
        "for dim in dims:\n",
        "    data_dirs = glob.glob(\"classifier/results/chrom1/7-mer/data_ratio_1/direction_All/%s_way_samples/train_size_*/\" % dim)\n",
        "    for clf in clfs:\n",
        "        sample_aucs = []\n",
        "        for directory in data_dirs:\n",
        "            aucs = get_auc(directory, sample_aucs, clf)\n",
        "        sort_aucs = sorted(sample_aucs, key = lambda x: int(x[1]))\n",
        "        \n",
        "        for r in sort_aucs:\n",
        "            dim = r[0]\n",
        "            train_size = r[1]\n",
        "            auc = float(r[2])\n",
        "            gc = r[3]\n",
        "            \n",
        "            gc_lc_aucs.append([model_nm_dict[dim], train_size, auc, clfs[gc]])\n",
        "\n",
        "models = set(r[0] for r in gc_lc_aucs)\n",
        "train_sizes = set(r[1] for r in gc_lc_aucs)\n",
        "gc_groups = set(r[3] for r in gc_lc_aucs)\n",
        "n = 5\n",
        "records = []\n",
        "for model in models:\n",
        "    for train_size in train_sizes:\n",
        "        for gc in gc_groups:\n",
        "            auc_list = []\n",
        "            for r in gc_lc_aucs:\n",
        "                if model not in r:\n",
        "                    continue\n",
        "                if train_size not in r:\n",
        "                    continue\n",
        "                if gc != r[3]:\n",
        "                    continue\n",
        "                auc_list.append(r[2])\n",
        "            \n",
        "            auc_mean = np.array(auc_list).mean()\n",
        "            auc_se = np.array(auc_list).std(ddof=1)\n",
        "            records.append([model, train_size, gc, auc_mean, auc_se])\n",
        "    \n",
        "h = ['Classifier', 'Training_size', '+GC%', 'Mean_AUC', 'Std_error']\n",
        "gc_lc_tab = LoadTable(header=h, rows=records)\n",
        "gc_lc_df = gc_lc_tab.to_pandas_df()\n",
        "faceted_gc_lc = (ggplot(gc_lc_df) +\n",
        "                aes(x=\"Training_size\", y=\"Mean_AUC\", colour='+GC%', group='+GC%') +\n",
        "                geom_errorbar(aes(ymin=\"Mean_AUC-Std_error\", ymax=\"Mean_AUC+Std_error\"), width=.1, size=1) +\n",
        "                geom_line(size=1) +\n",
        "                geom_point(size=2) +\n",
        "                labs(x=\"Training size\", y=\"$\\overline{\\mathrm{AUC}}$\") +\n",
        "                facet_wrap(' ~ Classifier'))\n",
        "\n",
        "outfig_name = \"gc_vs_nogc_curve.pdf\"\n",
        "faceted_gc_lc.save(\"figs_n_tabs/%s\" % outfig_name, units=\"cm\", width=20, height=16)\n",
        "print (\"%s is saved!\" % outfig_name)\n",
        "print (faceted_gc_lc)\n",
        "all_supp_dict[\"supfig:gc_vs_nogc_curve\"] = r\"\"\"\\begin{figure}[ht]\n",
        "  \\centering\n",
        "  \\includegraphics[width=1.0\\textwidth]{figs/gc_vs_nogc_curve.pdf}\n",
        "  \\caption{Inclusion of GC\\% reduced performance when categorical neighbourhood features were included. The classifier including the GC\\% feature is indicated by a +GC\\% value of Y. The value N corresponds to the classifier with the strictly categorical feature set.}\n",
        "  \\label{supfig:gc_vs_nogc_curve}\n",
        "\\end{figure}\n",
        "\"\"\""
      ],
      "outputs": [
        {
          "output_type": "stream",
          "name": "stdout",
          "text": [
            "gc_vs_nogc_curve.pdf is saved!\n"
          ]
        },
        {
          "output_type": "display_data",
          "data": {
            "text/plain": [
              "<Figure size 640x480 with 4 Axes>"
            ],
            "image/png": "[encoded data removed]"
          },
          "metadata": {}
        },
        {
          "output_type": "stream",
          "name": "stdout",
          "text": [
            "<ggplot: (7547534193)>\n"
          ]
        }
      ],
      "execution_count": 31,
      "metadata": {}
    },
    {
      "cell_type": "markdown",
      "source": [
        "## Supp. figures: AUC scores comparison between the logistic regression classifier and the NB classifier - chrom1"
      ],
      "metadata": {}
    },
    {
      "cell_type": "code",
      "source": [
        "clfs = {'LR', 'NB'}\n",
        "\n",
        "lr_v_nb_rows = []\n",
        "data_dirs = glob.glob(\"classifier/results/chrom1/7-mer/data_ratio_1/direction_All/2_way_samples/train_size_*/\")\n",
        "    \n",
        "for clf in clfs:\n",
        "    sample_aucs = []\n",
        "    for directory in data_dirs:\n",
        "        aucs = get_auc(directory, sample_aucs, clf)\n",
        "    sort_aucs = sorted(sample_aucs, key = lambda x: int(x[1]))\n",
        "    for r in sort_aucs:\n",
        "        dim = r[0]\n",
        "        train_size = r[1]\n",
        "        auc = float(r[2])\n",
        "        classifier = r[3]\n",
        "            \n",
        "        lr_v_nb_rows.append([model_nm_dict[dim], train_size, auc, classifier])\n",
        "\n",
        "models = set(r[0] for r in lr_v_nb_rows)\n",
        "train_sizes = set(r[1] for r in lr_v_nb_rows)\n",
        "clf_groups = set(r[3] for r in lr_v_nb_rows)\n",
        "n = 5\n",
        "\n",
        "chrom1_nb_dict = {}\n",
        "for model in models:\n",
        "    lr_v_nb_records = []\n",
        "    for train_size in train_sizes:\n",
        "        for clf in clf_groups:\n",
        "            auc_list = []\n",
        "            for r in lr_v_nb_rows:\n",
        "                if model not in r:\n",
        "                    continue\n",
        "                if train_size not in r:\n",
        "                    continue\n",
        "                if clf not in r:\n",
        "                    continue\n",
        "                auc_list.append(r[2])\n",
        "    \n",
        "            auc_mean = np.array(auc_list).mean()\n",
        "            auc_se = np.array(auc_list).std(ddof=1)\n",
        "            clf_nm = '%s : %s'%(clf, model)\n",
        "            \n",
        "            chrom1_nb_dict[model] = auc_mean\n",
        "            lr_v_nb_records.append([clf_nm, train_size, auc_mean, auc_se])\n",
        "    \n",
        "    lr_v_nb_h = ['Classifier', 'Training_size', 'Mean_AUC', 'Std_error']\n",
        "    lr_v_nb_tab = LoadTable(header=lr_v_nb_h, rows=lr_v_nb_records)\n",
        "    lr_v_nb_df = lr_v_nb_tab.to_pandas_df()\n",
        "    fig_lr_v_nb = (ggplot(lr_v_nb_df) + \n",
        "                   aes(x=\"Training_size\", y=\"Mean_AUC\", colour=\"Classifier\") +\n",
        "                   geom_errorbar(aes(ymin=\"Mean_AUC-Std_error\", ymax=\"Mean_AUC+Std_error\"), width=.1, size=1) +\n",
        "                   geom_line(size=0.5) +\n",
        "                   geom_point(size=2) +\n",
        "                   labs(x=\"Training size\", y=\"$\\overline{\\mathrm{AUC}}$\"))\n",
        "    \n",
        "    outfig_name = \"%s_lr_v_nb_curve.pdf\" % model\n",
        "    fig_lr_v_nb.save(\"figs_n_tabs/%s\" % outfig_name, units=\"cm\", width=20, height=16)\n",
        "    print (\"%s is saved!\" % outfig_name)\n",
        "    print (fig_lr_v_nb)\n",
        "\n",
        "all_supp_dict[\"supfig:M+I+2D_lr_v_nb_curve\"] = r\"\"\"\\begin{figure}[!ht]\n",
        "  \\centering\n",
        "  \\includegraphics[width=1.0\\textwidth]{figs/M+I+2D_lr_v_nb_curve.pdf}\n",
        "  \\caption{The Logistic Regression classifier performed better than the Na\\\"ive Bayes classifier. x-axis is the size of \n",
        "  the training sample, y-axis is the mean AUC and error bars were calculated from the 5 chromosome 1 training samples.}\n",
        "  \\label{supfig:M+I+2D_lr_v_nb_curve}\n",
        "\\end{figure}\n",
        "\"\"\""
      ],
      "outputs": [
        {
          "output_type": "stream",
          "name": "stdout",
          "text": [
            "M+I+2D_lr_v_nb_curve.pdf is saved!\n"
          ]
        },
        {
          "output_type": "display_data",
          "data": {
            "text/plain": [
              "<Figure size 640x480 with 1 Axes>"
            ],
            "image/png": "[encoded data removed]"
          },
          "metadata": {}
        },
        {
          "output_type": "stream",
          "name": "stdout",
          "text": [
            "<ggplot: (-9223372036566970701)>\n"
          ]
        }
      ],
      "execution_count": 32,
      "metadata": {}
    },
    {
      "cell_type": "markdown",
      "source": [
        "## Supp. figure: 61-mer learning curve indicates a larger neighbourhood improve the classification results."
      ],
      "metadata": {}
    },
    {
      "cell_type": "code",
      "source": [
        "lf_lc_aucs = []    \n",
        "k_sizes = [7, 61]\n",
        "\n",
        "for k_sz in k_sizes:\n",
        "    data_dirs = glob.glob(\"classifier/results/chrom1/%s-mer/data_ratio_1/direction_All/1_way_samples/train_size_*/\" % k_sz)\n",
        "    \n",
        "    sample_aucs = []\n",
        "\n",
        "    for directory in data_dirs:\n",
        "        aucs = get_auc(directory, sample_aucs, 'LR')\n",
        "    sort_aucs = sorted(sample_aucs, key = lambda x: int(x[1]))\n",
        "    for r in sort_aucs:\n",
        "        dim = r[0]\n",
        "        train_size = r[1]\n",
        "        auc = float(r[2])\n",
        "        lf_lc_aucs.append([k_sz, train_size, auc])\n",
        "\n",
        "train_sizes = set(r[1] for r in lf_lc_aucs)\n",
        "n = 5\n",
        "\n",
        "lf_auc_records = []\n",
        "for k_sz in k_sizes:\n",
        "    for train_size in train_sizes:\n",
        "        auc_list = []\n",
        "        for r in lf_lc_aucs:\n",
        "            if k_sz not in r:\n",
        "                continue\n",
        "            if train_size not in r:\n",
        "                continue\n",
        "            auc_list.append(r[2])\n",
        "        auc_mean = np.array(auc_list).mean()\n",
        "        auc_se = np.array(auc_list).std(ddof=1)\n",
        "        \n",
        "        lf_auc_records.append(['%s'%k_sz, train_size, auc_mean, auc_se]) \n",
        "\n",
        "h = ['k', 'Training_size', 'Mean_AUC', 'Std_error']\n",
        "lf_tab = LoadTable(header=h, rows=lf_auc_records).to_pandas_df()\n",
        "print (lf_tab)\n",
        "lf_fig = (ggplot(lf_tab) +\n",
        "     aes(x=\"Training_size\", y=\"Mean_AUC\", colour=\"k\") +\n",
        "     geom_errorbar(aes(ymin=\"Mean_AUC-Std_error\", ymax=\"Mean_AUC+Std_error\"), width=.1, size=1) +\n",
        "     geom_line(size=1) +\n",
        "     geom_point(size=2) +\n",
        "     labs(x=\"Training size\", y=\"$\\overline{\\mathrm{AUC}}$\")\n",
        "       )\n",
        "\n",
        "outname = \"figs_n_tabs/lf_learning_curve.pdf\"\n",
        "lf_fig.save(outname, units=\"cm\", width=20, height=16)\n",
        "print (\"%s is saved!\" % outname)\n",
        "print (lf_fig)\n",
        "\n",
        "all_supp_dict[\"supfig:lc_61mer_vs_7mer\"] = r\"\"\"\\begin{figure}[ht]\n",
        "  \\centering\n",
        "  \\includegraphics[width=1.0\\textwidth]{figs/lf_learning_curve.pdf}\n",
        "  \\caption{The LR classifiers for 61-mer performed better than the 7-mer. x-axis is the size of the training sample, y-axis is the mean AUC obtained from implementing the M+I model, and error bars were calculated from the 5 chromosome 1 training samples.}\n",
        "  \\label{supfig:lc_61mer_vs_7mer}\n",
        "\\end{figure}\n",
        "\"\"\""
      ],
      "outputs": [
        {
          "output_type": "stream",
          "name": "stdout",
          "text": [
            "    k  Training_size  Mean_AUC  Std_error\n",
            "0   7           2050  0.767597   0.009677\n",
            "1   7           4101  0.777101   0.005645\n",
            "2   7          10255  0.777899   0.004066\n",
            "3   7           1009  0.759204   0.019283\n",
            "4   7          16408  0.777219   0.002822\n",
            "5  61           2050  0.788494   0.003340\n",
            "6  61           4101  0.802480   0.001739\n",
            "7  61          10255  0.811159   0.001442\n",
            "8  61           1009  0.764965   0.002136\n",
            "9  61          16408  0.813576   0.001783\n",
            "figs_n_tabs/lf_learning_curve.pdf is saved!\n"
          ]
        },
        {
          "output_type": "display_data",
          "data": {
            "text/plain": [
              "<Figure size 640x480 with 1 Axes>"
            ],
            "image/png": "[encoded data removed]"
          },
          "metadata": {}
        },
        {
          "output_type": "stream",
          "name": "stdout",
          "text": [
            "<ggplot: (7547515291)>\n"
          ]
        }
      ],
      "execution_count": 33,
      "metadata": {}
    },
    {
      "cell_type": "markdown",
      "source": [
        "# Save all supplementary figs and tables into a .tex file\n",
        "\nDefine some utility functions first."
      ],
      "metadata": {}
    },
    {
      "cell_type": "code",
      "source": [
        "from collections import OrderedDict\n",
        "import os\n",
        "import re\n",
        "\n",
        "ref = re.compile(r\"\\\\ref\\{[^\\}]+\\}\")\n",
        "label = re.compile(r\"\\\\label{\\S+}\")\n",
        "\n",
        "def get_tags(filepath, tag):\n",
        "    \"\"\"returns the set of tags from a latex file.\n",
        "    \n",
        "    tag can be either label or ref\"\"\"\n",
        "    pattern = {\"label\": label, \"ref\": ref}[tag]\n",
        "    with open(filepath) as infile:\n",
        "        data = \"\".join(infile.readlines())\n",
        "    \n",
        "    all_tags = pattern.findall(data)\n",
        "    all_tags = [t.split('{')[-1][:-1] for t in all_tags]\n",
        "    #  we ignore equation tags\n",
        "    all_tags = [(t, filepath) for t in all_tags if not t.startswith('eq:')]\n",
        "    return OrderedDict(all_tags)\n",
        "\n",
        "def split_main_supp_tags(tags):\n",
        "    \"\"\"splits the labels into those for the main manuscript and for the supplementary\"\"\"\n",
        "    supp_tags = OrderedDict()\n",
        "    main_tags = OrderedDict()\n",
        "    for tag in tags:\n",
        "        store = supp_tags if tag.startswith(\"sup\") else main_tags\n",
        "        store[tag] = tags[tag]\n",
        "    return main_tags, supp_tags"
      ],
      "outputs": [],
      "execution_count": 34,
      "metadata": {}
    },
    {
      "cell_type": "markdown",
      "source": [
        "load the supp material latex template file"
      ],
      "metadata": {}
    },
    {
      "cell_type": "code",
      "source": [
        "with open(\"../mutation_classifier_manuscript/supp_template.tex\") as infile:\n",
        "    supp_text = infile.readlines()\n",
        "    insert_index = [i for i, t in enumerate(supp_text) if \"BODY\" in t][0]"
      ],
      "outputs": [],
      "execution_count": 35,
      "metadata": {}
    },
    {
      "cell_type": "markdown",
      "source": [
        "get all the latex files from the maunscript directory, which we assume is a sister directory to this ENUProject"
      ],
      "metadata": {}
    },
    {
      "cell_type": "code",
      "source": [
        "# hardcoding these, in the manuscript order of the sections\n",
        "texdir = \"../mutation_classifier_manuscript\"\n",
        "texfns = [os.path.join(texdir, tfn) for tfn in (\"introduction.tex\", \"results.tex\", \"discussion.tex\", \"methods.tex\")]\n",
        "alllabels = None\n",
        "for tfn in texfns:\n",
        "    tags = get_tags(tfn, \"label\")\n",
        "    if alllabels is None:\n",
        "        alllabels = tags\n",
        "    else:\n",
        "        alllabels.update(tags)\n",
        "\n",
        "allrefs = None\n",
        "for tfn in texfns:\n",
        "    tags = get_tags(tfn, \"ref\")\n",
        "    if allrefs is None:\n",
        "        allrefs = tags\n",
        "    else:\n",
        "        allrefs.update(tags)\n",
        "\nmainrefs, suprefs = split_main_supp_tags(allrefs)"
      ],
      "outputs": [],
      "execution_count": 36,
      "metadata": {}
    },
    {
      "cell_type": "code",
      "source": [
        "missing = set(alllabels) - set(mainrefs)\n",
        "for missed in missing:\n",
        "    print(\"## The following labels are not referenced (possibly subtable/fig?)\", missed, alllabels[missed])"
      ],
      "outputs": [
        {
          "output_type": "stream",
          "name": "stdout",
          "text": [
            "## The following labels are not referenced (possibly subtable/fig?) tab:one-hot ../mutation_classifier_manuscript/methods.tex\n",
            "## The following labels are not referenced (possibly subtable/fig?) tab:mutation-seq-example ../mutation_classifier_manuscript/methods.tex\n",
            "## The following labels are not referenced (possibly subtable/fig?) fig:flow_chart-two-class ../mutation_classifier_manuscript/methods.tex\n",
            "## The following labels are not referenced (possibly subtable/fig?) fig:flow_chart-one-class ../mutation_classifier_manuscript/methods.tex\n"
          ]
        }
      ],
      "execution_count": 37,
      "metadata": {}
    },
    {
      "cell_type": "code",
      "source": [
        "body = []\n",
        "for tag in suprefs:\n",
        "    if tag not in all_supp_dict:\n",
        "        print(\"## Missing\", tag, suprefs[tag])\n",
        "        continue\n",
        "    body.append(all_supp_dict[tag])"
      ],
      "outputs": [],
      "execution_count": 38,
      "metadata": {}
    },
    {
      "cell_type": "markdown",
      "source": [
        "## Adding the Naive Bayes comparison to LR at the end, as this is not directly referenced from the main manuscript"
      ],
      "metadata": {}
    },
    {
      "cell_type": "code",
      "source": [
        "body.extend([all_supp_dict['supfig:M+I+2D_lr_v_nb_curve']])"
      ],
      "outputs": [],
      "execution_count": 39,
      "metadata": {
        "collapsed": false,
        "outputHidden": false,
        "inputHidden": false
      }
    },
    {
      "cell_type": "markdown",
      "source": [
        "## Writing all supp contents\n",
        "\nCopy the contents of `../mutation_classifier_manuscript/supp_material_generated.tex` to the Supplementary_material.tex file on ShareLatex."
      ],
      "metadata": {}
    },
    {
      "cell_type": "code",
      "source": [
        "supp_text[insert_index] = \"\\n\".join(body)\n",
        "with open(\"../mutation_classifier_manuscript/supp_material_generated.tex\", \"w\") as out:\n",
        "    out.write(\"\".join(supp_text))"
      ],
      "outputs": [],
      "execution_count": 40,
      "metadata": {
        "collapsed": false,
        "outputHidden": false,
        "inputHidden": false
      }
    }
  ],
  "metadata": {
    "anaconda-cloud": {},
    "kernelspec": {
      "name": "py36",
      "language": "python",
      "display_name": "Python (py36)"
    },
    "language_info": {
      "name": "python",
      "version": "3.6.5",
      "mimetype": "text/x-python",
      "codemirror_mode": {
        "name": "ipython",
        "version": 3
      },
      "pygments_lexer": "ipython3",
      "nbconvert_exporter": "python",
      "file_extension": ".py"
    },
    "kernel_info": {
      "name": "py36"
    },
    "nteract": {
      "version": "0.8.4"
    }
  },
  "nbformat": 4,
  "nbformat_minor": 2
}