{
 "cells": [
  {
   "cell_type": "code",
   "execution_count": 1,
   "metadata": {},
   "outputs": [],
   "source": [
    "%matplotlib inline\n",
    "from warnings import filterwarnings\n",
    "\n",
    "# suppressing the multitude of future and user warnings from the graphics libraries\n",
    "filterwarnings(\"ignore\", category=Warning)\n",
    "\n",
    "import os, itertools, glob, json, shutil, operator\n",
    "from itertools import permutations, combinations\n",
    "import pandas as pd\n",
    "from plotnine import *\n",
    "import numpy as np\n",
    "from cogent3 import LoadTable, DNA\n",
    "from collections import defaultdict, OrderedDict\n",
    "#from matplotlib import pyplot\n",
    "import matplotlib.pyplot as plt\n",
    "import matplotlib.gridspec as gridspec\n",
    "from matplotlib.ticker import FuncFormatter, MultipleLocator\n",
    "from mutation_motif import util, logo\n",
    "from mutation_motif.mutation_analysis import get_single_position_fig, single_position_effects, get_selected_indices\n",
    "from mutation_motif.height import get_re_char_heights\n",
    "from mutation_motif.draw import get_plot_data, format_float, draw_spectrum_grid"
   ]
  },
  {
   "cell_type": "code",
   "execution_count": 2,
   "metadata": {},
   "outputs": [],
   "source": [
    "def get_auc(directory, sample_aucs, clf):\n",
    "    \"\"\"return the average classification auROC score in specified directory\"\"\"\n",
    "    data_files = glob.glob(os.path.join(directory + 'sample_*/%s/classification_report.json' % clf))\n",
    "    train_size = int(directory.split('/')[-2].split('_')[-1])\n",
    "    dimension = int(directory.split('/')[-3].split('_')[0])\n",
    "    \n",
    "    for file in data_files:\n",
    "        json_data=open(file).read()\n",
    "        data = json.loads(json_data)\n",
    "        #sample_idx = file.split('/')[7]\n",
    "        auc_score = data[\"auROC\"]\n",
    "        sample_aucs.append([dimension, train_size, auc_score, clf])\n",
    "     \n",
    "    return sample_aucs\n",
    "\n",
    "def format_positions(positions):\n",
    "    positions = positions.split(\":\")\n",
    "    old_new = {\"0\": \"-2\", \"1\": \"-1\", \"2\": \"+1\", \"3\": \"+2\"}\n",
    "    redone = [old_new[p[-1]] for p in positions]\n",
    "    if len(redone) == 1:\n",
    "        template = \"%s\"\n",
    "    else:\n",
    "        template = \"(%s)\"\n",
    "    \n",
    "    return template % \", \".join(redone)\n",
    "\n",
    "def format_direction(direction):\n",
    "    direction = direction.replace('to', r'$\\rightarrow$')\n",
    "    return direction\n",
    "\n",
    "def format_group(group):\n",
    "    group_dict = {'ENU_variants':'ENU', 'germline_variants':'Spontaneous'}\n",
    "    group = group.split('/')[7]\n",
    "    return group_dict[group]\n",
    "\n",
    "def format_pvalue(value):\n",
    "    \"\"\"0.0 if 0, float if <= 0.0001, scientific otherwise\"\"\"\n",
    "    epsilon = 1e-6\n",
    "    if value <= 1e-100:\n",
    "        result = \"0.0\"\n",
    "    elif 1-epsilon <= value <= 1.0+epsilon:\n",
    "        result = \"1.0\"\n",
    "    elif 1e-4 <= value:\n",
    "        result = \"%.4f\" % value\n",
    "    elif 0 < value < 1e-4:\n",
    "        result = latex_format_numbers(value)\n",
    "    else:\n",
    "        raise ValueError(value)\n",
    "    return result\n",
    "\n",
    "def latex_format_numbers(value):\n",
    "    try:\n",
    "        value = float(value)\n",
    "    except ValueError:\n",
    "        return value\n",
    "    \n",
    "    if value == 0:\n",
    "        return \"0\"\n",
    "    v = \"%.1e\" % value\n",
    "    v = v.split(\"e\")\n",
    "    v[1] = str(int(v[1]))\n",
    "    v = r\"$%s\\times 10^{%s}$\" % tuple(v)\n",
    "    return v\n",
    "\n",
    "table_template = \"\\\\begin{table}[htp]\\n\\\\centering\\n%s\\n\\end{table}\\n\"\n",
    "\n",
    "def format_latex_table(table, justify, label=None):\n",
    "    caption = table.title or \"\"\n",
    "    label = label or \"\"\n",
    "    table.Title = \"\"\n",
    "    result = table_template % table.tostring(format=\"latex\", justify=justify)\n",
    "    result = result.replace(\"longtable\", \"tabular\").replace(\"[htp!]\", \"\")\n",
    "    \n",
    "    if caption:\n",
    "        caption = r\"\\caption{%s}\" % caption\n",
    "    \n",
    "    if label:\n",
    "        caption += r\"\\label{%s}\" % label\n",
    "    \n",
    "    if caption:\n",
    "        result = result.splitlines()\n",
    "        result.insert(-1, caption)\n",
    "        result = \"\\n\".join(result)\n",
    "    \n",
    "    return result\n",
    "\n",
    "model_nm_dict = {0:\"M\", 1:\"M+I\", 2:\"M+I+2D\", 3:\"M+I+3D\", 4:\"M+I+4D\", 5:\"M+I+5D\", 6:\"FS\"}"
   ]
  },
  {
   "cell_type": "markdown",
   "metadata": {},
   "source": [
    "#### Create a directory `mutation_classifier/figs_n_tabs/`\n",
    "\n",
    "Assumes this notebook is in the sister directory, `mutation_classifier/scripts`"
   ]
  },
  {
   "cell_type": "code",
   "execution_count": 3,
   "metadata": {
    "collapsed": true
   },
   "outputs": [],
   "source": [
    "!mkdir -p figs_n_tabs"
   ]
  },
  {
   "cell_type": "markdown",
   "metadata": {},
   "source": [
    "# Manuscript figures and tables"
   ]
  },
  {
   "cell_type": "code",
   "execution_count": 4,
   "metadata": {
    "collapsed": true
   },
   "outputs": [],
   "source": [
    "all_ms_tables = []"
   ]
  },
  {
   "cell_type": "markdown",
   "metadata": {},
   "source": [
    "## Figures "
   ]
  },
  {
   "cell_type": "markdown",
   "metadata": {},
   "source": [
    "### Figure: mutation motif analysis of neighbourhood effects, figure showing ENU, spontaneous "
   ]
  },
  {
   "cell_type": "code",
   "execution_count": 5,
   "metadata": {},
   "outputs": [
    {
     "name": "stdout",
     "output_type": "stream",
     "text": [
      "2 1\n",
      "\u001b[32mWrote /Users/gavin/repos/ENUProject/figs_n_tabs/mm_ENU_v_germline.pdf\u001b[0m\n",
      "figs_n_tabs/mm_ENU_v_germline.pdf is saved.\n"
     ]
    }
   ],
   "source": [
    "!mutation_draw grid --fig_config loglin/scripts/logo_grid_draw.cfg --figpath figs_n_tabs/mm_ENU_v_germline.pdf --format pdf\n",
    "!rm figs_n_tabs/mm_ENU_v_germline.log\n",
    "print(\"figs_n_tabs/mm_ENU_v_germline.pdf is saved.\")"
   ]
  },
  {
   "cell_type": "markdown",
   "metadata": {},
   "source": [
    "## Table: summary of hypotheses testing comparing the two groups"
   ]
  },
  {
   "cell_type": "code",
   "execution_count": 6,
   "metadata": {},
   "outputs": [
    {
     "name": "stdout",
     "output_type": "stream",
     "text": [
      "==========================================================\n",
      "     Position(s)    Deviance    df                 p-value\n",
      "----------------------------------------------------------\n",
      "              +2        88.6     3    $4.4\\times 10^{-19}$\n",
      "              -2      1105.6     3                     0.0\n",
      "              +1      1393.7     3                     0.0\n",
      "              -1      5693.3     3                     0.0\n",
      "        (-2, +2)        12.0     9                  0.2145\n",
      "        (-1, +2)        50.3     9     $9.4\\times 10^{-8}$\n",
      "        (+1, +2)        96.1     9    $9.5\\times 10^{-17}$\n",
      "        (-2, +1)       123.0     9    $3.3\\times 10^{-22}$\n",
      "        (-2, -1)       284.1     9    $6.2\\times 10^{-56}$\n",
      "        (-1, +1)       353.1     9    $1.3\\times 10^{-70}$\n",
      "    (-2, -1, +2)        41.2    27                  0.0396\n",
      "    (-1, +1, +2)        46.9    27                  0.0100\n",
      "    (-2, +1, +2)        55.1    27                  0.0011\n",
      "    (-2, -1, +1)        62.2    27                  0.0001\n",
      "(-2, -1, +1, +2)       118.6    81                  0.0042\n",
      "----------------------------------------------------------\n",
      "Log-linear analysis of mutation motif comparison between mouse germline and ENU-induced A$\\rightarrow$G mutations. Deviance is from the log-linear model, with df degrees-of-freedomand corresponding p-value obtained from the $\\chi^2$ distribution. p-values below 0.025 are determined to be significant.\n"
     ]
    }
   ],
   "source": [
    "fns = !ls loglin/results/ENU_vs_germline/autosomes/directions/AtoG/summary.txt\n",
    "tab_enu_v_sp = LoadTable(fns[0], sep=\"\\t\")\n",
    "tab_enu_v_sp = tab_enu_v_sp.with_new_column(\"Position(s)\", format_positions, columns=[\"Position\"])\n",
    "tab_enu_v_sp = tab_enu_v_sp.get_columns([\"Position(s)\", \"Deviance\", \"df\", \"prob\"])\n",
    "tab_enu_v_sp = tab_enu_v_sp.with_new_header(\"prob\", \"p-value\")\n",
    "tab_enu_v_sp.format_column(\"p-value\", format_pvalue)\n",
    "tab_enu_v_sp.format_column(\"Deviance\", \"%.1f\")\n",
    "tab_enu_v_sp = tab_enu_v_sp.sorted(columns=[\"df\", \"Deviance\"])\n",
    "\n",
    "tab_enu_v_sp.legend = r\"Log-linear analysis of mutation motif comparison between mouse germline and ENU-induced \"\\\n",
    "+r\"A$\\rightarrow$G mutations. Deviance is from the log-linear model, with df degrees-of-freedom\"\\\n",
    "+r\"and corresponding p-value obtained from the $\\chi^2$ distribution. p-values below 0.025 are \"\\\n",
    "+r\"determined to be significant.\"\n",
    "\n",
    "print (tab_enu_v_sp)\n",
    "all_ms_tables.append(format_latex_table(tab_enu_v_sp, justify=\"rrrl\", label=\"table:enu_v_germline:a-g\"))"
   ]
  },
  {
   "cell_type": "markdown",
   "metadata": {},
   "source": [
    "## Figure: 7-mer learning curve indicates M+I+2D is sufficient"
   ]
  },
  {
   "cell_type": "code",
   "execution_count": 7,
   "metadata": {},
   "outputs": [
    {
     "name": "stdout",
     "output_type": "stream",
     "text": [
      "figs_n_tabs/7mer_learning_curve.pdf is saved!\n"
     ]
    },
    {
     "data": {
      "image/png": "[encoded data removed]",
      "text/plain": [
       "<Figure size 640x480 with 1 Axes>"
      ]
     },
     "metadata": {},
     "output_type": "display_data"
    },
    {
     "name": "stdout",
     "output_type": "stream",
     "text": [
      "<ggplot: (285359599)>\n"
     ]
    }
   ],
   "source": [
    "lc_aucs_7mer = []\n",
    "dims = [0,1,2,6]    \n",
    "\n",
    "for dim in dims:\n",
    "    data_dirs = glob.glob(\"classifier/results/chrom1/7-mer/data_ratio_1/direction_All/%s_way_samples/train_size_*/\" % dim)\n",
    "    \n",
    "    sample_aucs = []\n",
    "    for directory in data_dirs:\n",
    "        aucs = get_auc(directory, sample_aucs, 'LR')\n",
    "    sort_aucs = sorted(sample_aucs, key = lambda x: int(x[1]))\n",
    "    for r in sort_aucs:\n",
    "        dim = r[0]\n",
    "        train_size = r[1]\n",
    "        auc = float(r[2])\n",
    "        lc_aucs_7mer.append([model_nm_dict[dim], train_size, auc])\n",
    "\n",
    "models = set(r[0] for r in lc_aucs_7mer)\n",
    "train_sizes = set(r[1] for r in lc_aucs_7mer)\n",
    "n = 5\n",
    "\n",
    "lc_auc_records = []\n",
    "for model in models:\n",
    "    for train_size in train_sizes:\n",
    "        auc_list = []\n",
    "        for r in lc_aucs_7mer:\n",
    "            if model not in r:\n",
    "                continue\n",
    "            if train_size not in r:\n",
    "                continue\n",
    "            auc_list.append(r[2])\n",
    "            \n",
    "        auc_mean = np.array(auc_list).mean()\n",
    "        auc_se = np.array(auc_list).std(ddof=1)\n",
    "        \n",
    "        lc_auc_records.append([model, train_size, auc_mean, auc_se]) \n",
    "\n",
    "h = ['Classifier', 'Training_size', 'Mean_AUC', 'Std_error']\n",
    "lc_tab = LoadTable(header=h, rows=lc_auc_records).to_pandas_df()\n",
    "lc_fig = (ggplot(lc_tab) +\n",
    "     aes(x=\"Training_size\", y=\"Mean_AUC\", colour=\"Classifier\") +\n",
    "     geom_errorbar(aes(ymin=\"Mean_AUC-Std_error\", ymax=\"Mean_AUC+Std_error\"), width=.1, size=1) +\n",
    "     geom_line(size=1) +\n",
    "     geom_point(size=2) +\n",
    "     labs(x=\"Training size\", y=\"$\\overline{\\mathrm{AUC}}$\")\n",
    "       )\n",
    "\n",
    "outname = \"figs_n_tabs/7mer_learning_curve.pdf\"\n",
    "lc_fig.save(outname, units=\"cm\", width=20, height=16)\n",
    "print (\"%s is saved!\" % outname)\n",
    "print (lc_fig)       "
   ]
  },
  {
   "cell_type": "markdown",
   "metadata": {},
   "source": [
    "## Figure: faceted plot comparing mean AUC between k-mer samples"
   ]
  },
  {
   "cell_type": "code",
   "execution_count": 8,
   "metadata": {},
   "outputs": [
    {
     "name": "stdout",
     "output_type": "stream",
     "text": [
      "figs_n_tabs/kmer_comparison.pdf is saved!\n"
     ]
    },
    {
     "data": {
      "image/png": "[encoded data removed]",
      "text/plain": [
       "<Figure size 640x480 with 2 Axes>"
      ]
     },
     "metadata": {},
     "output_type": "display_data"
    },
    {
     "name": "stdout",
     "output_type": "stream",
     "text": [
      "<ggplot: (286130629)>\n"
     ]
    }
   ],
   "source": [
    "window_sizes = [3, 5, 7]\n",
    "dims = [0, 1, 2]\n",
    "train_sizes = [1009, 2050, 4101, 10255, 16408]\n",
    "\n",
    "plot_rows = []\n",
    "for dim in dims:\n",
    "    for ws in window_sizes:\n",
    "        for ts in train_sizes:\n",
    "            data_dirs = glob.glob(\"classifier/results/chrom1/%s-mer/data_ratio_1/direction_All/%s_way_samples/train_size_%s/\" % (ws, dim, ts))\n",
    "            for directory in data_dirs:\n",
    "                aucs = get_auc(directory, [], 'LR')\n",
    "                auc_list = [r[2] for r in aucs]\n",
    "                auc_mean = np.array(auc_list).mean()\n",
    "                auc_se = np.array(auc_list).std(ddof=1)\n",
    "                model_name = model_nm_dict[dim]\n",
    "                if model_name == \"M\":\n",
    "                    continue  # we ignore this since the results are identical for all k\n",
    "                plot_rows.append([model_name, '%s' % ws, ts, auc_mean, auc_se])\n",
    "\n",
    "plot_header = ['Classifier_design', 'k', 'Train_size', 'Mean_AUC', 'Std_error']\n",
    "faceted_tab = LoadTable(header=plot_header, rows=plot_rows).to_pandas_df()\n",
    "faceted_plot = (ggplot(faceted_tab) +\n",
    "                aes(x='Train_size', y='Mean_AUC', colour='k', group='k') + \n",
    "                geom_errorbar(aes(ymin=\"Mean_AUC-Std_error\", ymax=\"Mean_AUC+Std_error\"), width=.1, size=1) +\n",
    "                geom_line() + \n",
    "                labs(x=\"Training size\", y=\"$\\overline{\\mathrm{AUC}}$\") +\n",
    "                facet_wrap(' ~ Classifier_design')\n",
    "               )\n",
    "\n",
    "outname = \"figs_n_tabs/kmer_comparison.pdf\"\n",
    "faceted_plot.save(outname, units=\"cm\", width=20, height=9)\n",
    "print (\"%s is saved!\" % outname)\n",
    "print (faceted_plot)"
   ]
  },
  {
   "cell_type": "markdown",
   "metadata": {},
   "source": [
    "## Figure: Bar chart showing distributions of LR AUC from all chromosomes using M+I+2D with window size of 7 bp"
   ]
  },
  {
   "cell_type": "code",
   "execution_count": 9,
   "metadata": {},
   "outputs": [
    {
     "name": "stdout",
     "output_type": "stream",
     "text": [
      "figs_n_tabs/all_lr_aucs_bars.pdf is saved!\n"
     ]
    },
    {
     "data": {
      "image/png": "[encoded data removed]",
      "text/plain": [
       "<Figure size 640x480 with 1 Axes>"
      ]
     },
     "metadata": {},
     "output_type": "display_data"
    },
    {
     "name": "stdout",
     "output_type": "stream",
     "text": [
      "<ggplot: (286431559)>\n"
     ]
    }
   ],
   "source": [
    "all_chroms = [1, 2, 3, 4, 5, 6, 7, 8, 9,10, 11, 12, 13, 14, 15, 16, 17, 18, 19, 'XY']\n",
    "\n",
    "bar_chart_records = []\n",
    "for chrom in all_chroms:\n",
    "    if chrom is 1:\n",
    "        data_dirs = glob.glob(\"classifier/results/chrom1/7-mer/data_ratio_1/direction_All/2_way_samples/train_size_10255/\")\n",
    "        trained = 'Y'\n",
    "    else:\n",
    "        data_dirs = glob.glob(\"classifier/results/chrom%s/7-mer/data_ratio_1/direction_All/2_way_samples/train_size_0/\" % chrom)\n",
    "        trained = 'N'\n",
    "    sample_aucs = []\n",
    "    for directory in data_dirs:\n",
    "        aucs = get_auc(directory, sample_aucs, 'LR')\n",
    "    auc_list = [r[2] for r in aucs]\n",
    "    auc_mean = np.array(auc_list).mean()\n",
    "    #auc_se = np.array(auc_list).std(ddof=1)\n",
    "    bar_chart_records.append([auc_mean, chrom, trained, 'LR'])\n",
    "\n",
    "bar_chart_header = ['AUC_mean', 'Chromosome', 'Trained', 'Classifier']\n",
    "lr_bar_chart_tab = LoadTable(header=bar_chart_header, rows=bar_chart_records).to_pandas_df().sort_values('AUC_mean')\n",
    "lr_bar_chart = (ggplot(aes(x='Chromosome', y=\"AUC_mean\", fill=\"Trained\"), data=lr_bar_chart_tab) + \\\n",
    "                labs(x=\"Chromosomes\", y=\"AUC\") + \\\n",
    "                geom_bar(stat=\"identity\") + coord_cartesian(ylim=(0.78, 0.82)) + \\\n",
    "                scale_x_discrete(limit='AUC_mean'))\n",
    "outname = \"figs_n_tabs/all_lr_aucs_bars.pdf\"\n",
    "lr_bar_chart.save(outname, units=\"cm\", width=20, height=16)\n",
    "print (\"%s is saved!\" % outname)\n",
    "print (lr_bar_chart)"
   ]
  },
  {
   "cell_type": "markdown",
   "metadata": {},
   "source": [
    "## Figure: Bar chart showing one-class classification AUC for all chromosomes using M+I+2D with window size of 7 bp"
   ]
  },
  {
   "cell_type": "code",
   "execution_count": 10,
   "metadata": {},
   "outputs": [
    {
     "name": "stdout",
     "output_type": "stream",
     "text": [
      "figs_n_tabs/all_ocs_aucs_bars.pdf is saved!\n"
     ]
    },
    {
     "data": {
      "image/png": "[encoded data removed]",
      "text/plain": [
       "<Figure size 640x480 with 1 Axes>"
      ]
     },
     "metadata": {},
     "output_type": "display_data"
    },
    {
     "name": "stdout",
     "output_type": "stream",
     "text": [
      "<ggplot: (286682067)>\n"
     ]
    }
   ],
   "source": [
    "all_chroms = [1, 2, 3, 4, 5, 6, 7, 8, 9,10, 11, 12, 13, 14, 15, 16, 17, 18, 19, 'XY']\n",
    "\n",
    "bar_chart_records = []\n",
    "for chrom in all_chroms:\n",
    "    if chrom is 1:\n",
    "        data_dirs = glob.glob(\"classifier/results/chrom1/7-mer/data_ratio_1/direction_All/2_way_samples/train_size_10255/\")\n",
    "        trained = 'Y'\n",
    "    else:\n",
    "        data_dirs = glob.glob(\"classifier/results/chrom%s/7-mer/data_ratio_1/direction_All/2_way_samples/train_size_0/\" % chrom)\n",
    "        trained = 'N'\n",
    "    sample_aucs = []\n",
    "    for directory in data_dirs:\n",
    "        aucs = get_auc(directory, sample_aucs, 'OCS')\n",
    "    \n",
    "    auc_list = [r[2] for r in aucs]\n",
    "    auc_mean = np.array(auc_list).mean()\n",
    "    #auc_se = np.array(auc_list).std(ddof=1)\n",
    "    bar_chart_records.append([auc_mean, chrom, trained, 'OC'])\n",
    "\n",
    "\n",
    "bar_chart_header = ['AUC_mean', 'Chromosome', 'trained', 'Classifier']\n",
    "ocs_bar_chart_tab = LoadTable(header=bar_chart_header, rows=bar_chart_records).to_pandas_df()\n",
    "ocs_bar_chart = (ggplot(aes(x='Chromosome', y=\"AUC_mean\", fill=\"trained\"), data=ocs_bar_chart_tab) + \\\n",
    "             labs(x=\"Chromosomes\", y=\"AUC\") + \\\n",
    "             geom_bar(stat=\"identity\") + coord_cartesian(ylim=(0.65, 0.68))) \n",
    "\n",
    "outname = \"figs_n_tabs/all_ocs_aucs_bars.pdf\"\n",
    "ocs_bar_chart.save(outname, units=\"cm\", width=20, height=16)\n",
    "print (\"%s is saved!\" % outname)\n",
    "print (ocs_bar_chart)"
   ]
  },
  {
   "cell_type": "code",
   "execution_count": 11,
   "metadata": {},
   "outputs": [
    {
     "name": "stdout",
     "output_type": "stream",
     "text": [
      "figs_n_tabs/all_lr_vs_ocs_aucs.pdf is saved!\n"
     ]
    },
    {
     "data": {
      "image/png": "[encoded data removed]",
      "text/plain": [
       "<Figure size 640x480 with 1 Axes>"
      ]
     },
     "metadata": {},
     "output_type": "display_data"
    },
    {
     "name": "stdout",
     "output_type": "stream",
     "text": [
      "<ggplot: (286428364)>\n"
     ]
    }
   ],
   "source": [
    "merged_bar_chart_tab = pd.concat([lr_bar_chart_tab, ocs_bar_chart_tab])\n",
    "lvo_bar_chart = (ggplot(aes(x='Chromosome', y=\"AUC_mean\", fill=\"Classifier\"), data=merged_bar_chart_tab) + \\\n",
    "             labs(x=\"Chromosomes\", y=\"AUC\") + \\\n",
    "             geom_bar(stat=\"identity\", position = \"dodge\") + coord_cartesian(ylim=(0.64, 0.83)))\n",
    "\n",
    "outname = \"figs_n_tabs/all_lr_vs_ocs_aucs.pdf\"\n",
    "lvo_bar_chart.save(outname, units=\"cm\", width=20, height=16)\n",
    "print (\"%s is saved!\" % outname)\n",
    "print (lvo_bar_chart)"
   ]
  },
  {
   "cell_type": "markdown",
   "metadata": {},
   "source": [
    "## Figure: One class classification results summary for 7-mer experiments"
   ]
  },
  {
   "cell_type": "code",
   "execution_count": 12,
   "metadata": {},
   "outputs": [
    {
     "name": "stdout",
     "output_type": "stream",
     "text": [
      "figs_n_tabs/oc_learning_curve.pdf is saved!\n"
     ]
    },
    {
     "data": {
      "image/png": "[encoded data removed]",
      "text/plain": [
       "<Figure size 640x480 with 1 Axes>"
      ]
     },
     "metadata": {},
     "output_type": "display_data"
    },
    {
     "data": {
      "text/plain": [
       "<ggplot: (286666735)>"
      ]
     },
     "execution_count": 12,
     "metadata": {},
     "output_type": "execute_result"
    }
   ],
   "source": [
    "ocs_aucs_7mer = []\n",
    "dims = [0,1,2,6]    \n",
    "\n",
    "for dim in dims:\n",
    "    data_dirs = glob.glob(\"classifier/results/chrom1/7-mer/data_ratio_1/direction_All/%s_way_samples/train_size_*/\" % dim)\n",
    "    \n",
    "    sample_aucs = []\n",
    "    for directory in data_dirs:\n",
    "        aucs = get_auc(directory, sample_aucs, 'OCS')\n",
    "    sort_aucs = sorted(sample_aucs, key = lambda x: int(x[1]))\n",
    "    for r in sort_aucs:\n",
    "        dim = r[0]\n",
    "        train_size = r[1]\n",
    "        auc = float(r[2])\n",
    "        ocs_aucs_7mer.append(['OC : %s' % model_nm_dict[dim], train_size, auc])\n",
    "\n",
    "lr_dirs = glob.glob(\"classifier/results/chrom1/7-mer/data_ratio_1/direction_All/0_way_samples/train_size_*/\")\n",
    "sample_aucs = []\n",
    "for lr_dir in lr_dirs:\n",
    "    lr_aucs = get_auc(lr_dir, sample_aucs, 'LR')\n",
    "sort_lr_aucs = sorted(sample_aucs, key = lambda x: int(x[1]))\n",
    "for r in sort_lr_aucs:\n",
    "    dim = r[0]\n",
    "    train_size = r[1]\n",
    "    auc = float(r[2])\n",
    "    ocs_aucs_7mer.append(['LR : %s' % model_nm_dict[dim], train_size, auc])\n",
    "\n",
    "models = set(r[0] for r in ocs_aucs_7mer)\n",
    "train_sizes = set(r[1] for r in ocs_aucs_7mer)\n",
    "n = 5\n",
    "\n",
    "lc_auc_records = []\n",
    "for model in models:\n",
    "    for train_size in train_sizes:\n",
    "        auc_list = []\n",
    "        for r in ocs_aucs_7mer:\n",
    "            if model not in r:\n",
    "                continue\n",
    "            if train_size not in r:\n",
    "                continue\n",
    "            auc_list.append(r[2])\n",
    "            \n",
    "        auc_mean = np.array(auc_list).mean()\n",
    "        auc_se = np.array(auc_list).std(ddof=1)\n",
    "        \n",
    "        lc_auc_records.append([model, train_size, auc_mean, auc_se]) \n",
    "\n",
    "h = ['Classifier', 'Training_size', 'Mean_AUC', 'Std_error']\n",
    "oc_lc_tab = LoadTable(header=h, rows=lc_auc_records).to_pandas_df()\n",
    "lc_fig = (ggplot(oc_lc_tab) +\n",
    "     aes(x=\"Training_size\", y=\"Mean_AUC\", colour=\"Classifier\") +\n",
    "     geom_errorbar(aes(ymin=\"Mean_AUC-Std_error\", ymax=\"Mean_AUC+Std_error\"), width=.1, size=1) +\n",
    "     geom_line(size=1) +\n",
    "     geom_point(size=2) +\n",
    "     labs(x=\"Training size\", y=\"$\\overline{\\mathrm{AUC}}$\")\n",
    "       )\n",
    "\n",
    "outname = \"figs_n_tabs/oc_learning_curve.pdf\"\n",
    "lc_fig.save(outname, units=\"cm\", width=20, height=16)\n",
    "print (\"%s is saved!\" % outname)\n",
    "lc_fig"
   ]
  },
  {
   "cell_type": "markdown",
   "metadata": {},
   "source": [
    "#### Save all manuscript tables into a .tex file"
   ]
  },
  {
   "cell_type": "code",
   "execution_count": 13,
   "metadata": {
    "collapsed": true
   },
   "outputs": [],
   "source": [
    "with open(\"figs_n_tabs/ms_tables.tex\", \"w\") as out:\n",
    "    out.write(\"\\n\\n\".join(all_ms_tables))"
   ]
  },
  {
   "cell_type": "markdown",
   "metadata": {},
   "source": [
    "# Supplementary figures and tables"
   ]
  },
  {
   "cell_type": "code",
   "execution_count": 14,
   "metadata": {
    "collapsed": true
   },
   "outputs": [],
   "source": [
    "all_supp_tables = []"
   ]
  },
  {
   "cell_type": "markdown",
   "metadata": {},
   "source": [
    "## Supp. table: mutation sample counts summary"
   ]
  },
  {
   "cell_type": "code",
   "execution_count": 15,
   "metadata": {},
   "outputs": [
    {
     "name": "stdout",
     "output_type": "stream",
     "text": [
      "========================================\n",
      "Chromosome    ENU-induced    Spontaneous\n",
      "----------------------------------------\n",
      "         1          16977          17848\n",
      "         2          21100          20051\n",
      "         3          11228          11713\n",
      "         4          13973          16936\n",
      "         5          14509          16028\n",
      "         6          13039          12097\n",
      "         7          20864          19161\n",
      "         8          11232          13465\n",
      "         9          14010          15662\n",
      "        10          11315          12641\n",
      "        11          17101          19626\n",
      "        12           8022           8817\n",
      "        13           9085           8939\n",
      "        14           8395           8868\n",
      "        15           9342          11079\n",
      "        16           7266           8117\n",
      "        17          11981          12168\n",
      "        18           6356           7732\n",
      "        19           7529           8635\n",
      "        XY            853           5097\n",
      "----------------------------------------\n",
      "By-chromosome sample sizes of genetic variants from the ENU induced and spontaneous germline mutations.\n"
     ]
    }
   ],
   "source": [
    "chroms = [1, 2, 3, 4, 5, 6, 7, 8, 9,10, 11, 12, 13, 14, 15, 16, 17, 18, 19, 'XY']\n",
    "enu_size_dict = {1: 16977, 2: 21100, 3: 11228, 4: 13973, 5: 14509, 6: 13039, 7: 20864, 8: 11232, \n",
    "                 9: 14010, 10: 11315, 11: 17101, 12: 8022, 13: 9085, 14: 8395, 15: 9342, 16: 7266, \n",
    "                 17: 11981, 18: 6356, 19: 7529, 'XY': 853}\n",
    "sp_sizes_dict = {1: 17848, 2: 20051, 3: 11713, 4: 16936, 5: 16028, 6: 12097, 7: 19161, 8: 13465, \n",
    "                 9: 15662, 10: 12641, 11: 19626, 12: 8817, 13: 8939, 14: 8868, 15: 11079, 16: 8117, \n",
    "                 17: 12168, 18: 7732, 19: 8635, 'XY': 5097}\n",
    "\n",
    "rows = []\n",
    "for chrom in chroms:\n",
    "    num_enu = enu_size_dict[chrom]\n",
    "    num_sp = sp_sizes_dict[chrom]\n",
    "    rows.append([chrom, num_enu, num_sp])\n",
    "\n",
    "header = ['Chromosome', 'ENU-induced', 'Spontaneous']\n",
    "all_size_table = LoadTable(header=header, rows=rows)\n",
    "all_size_table.legend = r\"By-chromosome sample sizes of genetic variants from the ENU induced and spontaneous \"\\\n",
    "+r\"germline mutations.\"\n",
    "print (all_size_table)\n",
    "all_supp_tables.append(format_latex_table(all_size_table, justify=\"rrrl\", label=\"tab:all_chroms_size_summary\"))\n",
    "\n"
   ]
  },
  {
   "cell_type": "markdown",
   "metadata": {},
   "source": [
    "## Supp. table: ENU spectra analysis of p-values"
   ]
  },
  {
   "cell_type": "code",
   "execution_count": 16,
   "metadata": {},
   "outputs": [
    {
     "name": "stdout",
     "output_type": "stream",
     "text": [
      "==========================================================\n",
      "     Position(s)    Deviance    df                 p-value\n",
      "----------------------------------------------------------\n",
      "              +2       654.6     3                     0.0\n",
      "              -2       858.8     3                     0.0\n",
      "              -1      6221.4     3                     0.0\n",
      "              +1      7911.6     3                     0.0\n",
      "        (-1, +2)        39.6     9     $9.1\\times 10^{-6}$\n",
      "        (-2, +2)        58.9     9     $2.2\\times 10^{-9}$\n",
      "        (+1, +2)       137.1     9    $4.1\\times 10^{-25}$\n",
      "        (-2, +1)       154.0     9    $1.3\\times 10^{-28}$\n",
      "        (-2, -1)       232.4     9    $5.3\\times 10^{-45}$\n",
      "        (-1, +1)       757.2     9                     0.0\n",
      "    (-2, -1, +2)        36.0    27                  0.1164\n",
      "    (-2, +1, +2)        51.9    27                  0.0027\n",
      "    (-1, +1, +2)        95.0    27     $1.7\\times 10^{-9}$\n",
      "    (-2, -1, +1)       108.5    27    $1.0\\times 10^{-11}$\n",
      "(-2, -1, +1, +2)       133.6    81                  0.0002\n",
      "----------------------------------------------------------\n",
      "Log-linear analysis of ENU-induced A$\\rightarrow$G mutation. Position(s) are relative to the index position. Deviance is from the log-linear model, with df degrees-of-freedom and corresponding p-value obtained from the $\\chi^2$ distribution. p-values listed as 0.0 are below the limit of detection. See \\citet{zhu2017statistical} for a more detailed description of the log-linear models.\n"
     ]
    }
   ],
   "source": [
    "fns = !ls loglin/results/ENU_variants/autosomes/directions/AtoG/*.txt\n",
    "tab_enu = LoadTable(fns[0], sep=\"\\t\")\n",
    "tab_enu = tab_enu.with_new_column(\"Position(s)\", format_positions, columns=[\"Position\"])\n",
    "tab_enu = tab_enu.get_columns([\"Position(s)\", \"Deviance\", \"df\", \"prob\"])\n",
    "tab_enu = tab_enu.with_new_header(\"prob\", \"p-value\")\n",
    "tab_enu.format_column(\"p-value\", format_pvalue)\n",
    "tab_enu.format_column(\"Deviance\", \"%.1f\")\n",
    "tab_enu = tab_enu.sorted(columns=[\"df\", \"Deviance\"])\n",
    "\n",
    "tab_enu.legend = r\"Log-linear analysis of ENU-induced A$\\rightarrow$G mutation. \"\\\n",
    "+r\"Position(s) are relative to the index position. Deviance is from the log-linear model, \"\\\n",
    "+r\"with df degrees-of-freedom and corresponding p-value obtained from the $\\chi^2$ \"\\\n",
    "+r\"distribution. p-values listed as 0.0 are below the limit of detection. \"\\\n",
    "+r\"See \\citet{zhu2017statistical} for a more detailed description of the log-linear models.\"\n",
    "print (tab_enu)\n",
    "all_supp_tables.append(format_latex_table(tab_enu, justify=\"rrrl\", label=\"suptable:a-g:enu\"))"
   ]
  },
  {
   "cell_type": "markdown",
   "metadata": {},
   "source": [
    "## Supp. table: Neighbourhood effect analysis for spontaneous mutations"
   ]
  },
  {
   "cell_type": "code",
   "execution_count": 17,
   "metadata": {},
   "outputs": [
    {
     "name": "stdout",
     "output_type": "stream",
     "text": [
      "==========================================================\n",
      "     Position(s)    Deviance    df                 p-value\n",
      "----------------------------------------------------------\n",
      "              +2       130.8     3    $3.6\\times 10^{-28}$\n",
      "              -2       553.2     3                     0.0\n",
      "              +1      1140.0     3                     0.0\n",
      "              -1      1447.4     3                     0.0\n",
      "        (+1, +2)        49.9     9     $1.1\\times 10^{-7}$\n",
      "        (-2, +2)        60.4     9     $1.1\\times 10^{-9}$\n",
      "        (-1, +2)        72.9     9    $4.0\\times 10^{-12}$\n",
      "        (-2, +1)       123.2     9    $3.0\\times 10^{-22}$\n",
      "        (-2, -1)       330.3     9    $9.6\\times 10^{-66}$\n",
      "        (-1, +1)       341.5     9    $4.0\\times 10^{-68}$\n",
      "    (-2, +1, +2)        59.5    27                  0.0003\n",
      "    (-2, -1, +2)        60.2    27                  0.0002\n",
      "    (-1, +1, +2)        60.6    27                  0.0002\n",
      "    (-2, -1, +1)       125.6    27    $1.2\\times 10^{-14}$\n",
      "(-2, -1, +1, +2)       110.8    81                  0.0155\n",
      "----------------------------------------------------------\n",
      "Log-linear analysis of germline spontaneous A$\\rightarrow$G mutation. Position(s) are relative to the index position. Deviance is from the log-linear model, with df degrees-of-freedom and corresponding p-value obtained from the $\\chi^2$ distribution. p-values listed as 0.0 are below the limit of detection. See \\citet{zhu2017statistical} for a more detailed description of the log-linear models.\n"
     ]
    }
   ],
   "source": [
    "fns = !ls loglin/results/germline_variants/autosomes/directions/AtoG/*.txt\n",
    "tab_spontaneous = LoadTable(fns[0], sep=\"\\t\")\n",
    "tab_spontaneous = tab_spontaneous.with_new_column(\"Position(s)\", format_positions, columns=[\"Position\"])\n",
    "tab_spontaneous = tab_spontaneous.get_columns([\"Position(s)\", \"Deviance\", \"df\", \"prob\"])\n",
    "tab_spontaneous = tab_spontaneous.with_new_header(\"prob\", \"p-value\")\n",
    "tab_spontaneous.format_column(\"p-value\", format_pvalue)\n",
    "tab_spontaneous.format_column(\"Deviance\", \"%.1f\")\n",
    "tab_spontaneous = tab_spontaneous.sorted(columns=[\"df\", \"Deviance\"])\n",
    "\n",
    "tab_spontaneous.legend = r\"Log-linear analysis of germline spontaneous A$\\rightarrow$G mutation. \"\\\n",
    "+r\"Position(s) are relative to the index position. Deviance is from the log-linear model, \"\\\n",
    "+r\"with df degrees-of-freedom and corresponding p-value obtained from the $\\chi^2$ \"\\\n",
    "+r\"distribution. p-values listed as 0.0 are below the limit of detection. \"\\\n",
    "+r\"See \\citet{zhu2017statistical} for a more detailed description of the log-linear models.\"\n",
    "print (tab_spontaneous)\n",
    "all_supp_tables.append(format_latex_table(tab_spontaneous, justify=\"rrrl\", label=\"suptable:a-g:germline\"))"
   ]
  },
  {
   "cell_type": "markdown",
   "metadata": {},
   "source": [
    "## Supp. table: Number of positions showing significant differences between ENU and Spontaneous"
   ]
  },
  {
   "cell_type": "code",
   "execution_count": 18,
   "metadata": {},
   "outputs": [
    {
     "name": "stdout",
     "output_type": "stream",
     "text": [
      "======================================================================\n",
      "Mutation direction    1st-order    2nd-order    3rd-order    4th-order\n",
      "----------------------------------------------------------------------\n",
      "   A$\\rightarrow$C            4            5            3            0\n",
      "   A$\\rightarrow$G            4            5            4            1\n",
      "   A$\\rightarrow$T            4            5            2            1\n",
      "   C$\\rightarrow$A            4            6            4            1\n",
      "   C$\\rightarrow$T            4            5            4            1\n",
      "   G$\\rightarrow$A            4            5            4            1\n",
      "   G$\\rightarrow$T            4            5            2            1\n",
      "   T$\\rightarrow$A            4            6            2            0\n",
      "   T$\\rightarrow$C            4            6            4            0\n",
      "   T$\\rightarrow$G            4            5            3            1\n",
      "----------------------------------------------------------------------\n",
      "Number of positions showing significant differences between ENU-induced and spontaneous germline poiint mutations from analysis of 5-mers. p-values were from the log-linear analysis.\n"
     ]
    }
   ],
   "source": [
    "fns = !ls loglin/results/ENU_vs_germline/autosomes/directions/*/summary.txt\n",
    "\n",
    "p_sum_rows = []\n",
    "for fn in fns:\n",
    "    start, end = fn.split('/')[-2].split('to')\n",
    "    mut_dir = start + r'$\\rightarrow$' + end\n",
    "    \n",
    "    summary_tab = LoadTable(fn, sep=\"\\t\")\n",
    "    p_vals = summary_tab.get_columns([\"Position\", \"prob\"]).tolist()\n",
    "    \n",
    "    first_p_vals = []\n",
    "    second_p_vals = []\n",
    "    third_p_vals = []\n",
    "    forth_p_vals = []\n",
    "    for record in p_vals:\n",
    "        poses = record[0]\n",
    "        order = poses.count(':') + 1\n",
    "        if order == 1:\n",
    "            first_p_vals.append(record[1])\n",
    "        if order == 2:\n",
    "            second_p_vals.append(record[1])\n",
    "        if order == 3:\n",
    "            third_p_vals.append(record[1])\n",
    "        if order == 4:\n",
    "            forth_p_vals.append(record[1])\n",
    "    \n",
    "    first_p_num = sum(p < 0.05 for p in first_p_vals)\n",
    "    second_p_num = sum(p < 0.05 for p in second_p_vals)\n",
    "    third_p_num = sum(p < 0.05 for p in third_p_vals)\n",
    "    forth_p_num = sum(p < 0.05 for p in forth_p_vals)\n",
    "    p_sum_rows.append([mut_dir, first_p_num, second_p_num, third_p_num, forth_p_num])\n",
    "\n",
    "p_sum_header = [\"Mutation direction\", \"1st-order\", \"2nd-order\", \"3rd-order\", \"4th-order\"]\n",
    "p_sum_tab = LoadTable(header=p_sum_header, rows=p_sum_rows, sep='\\t')\n",
    "p_sum_tab.legend = r\"Number of positions showing significant differences between ENU-induced and \"\\\n",
    "+r\"spontaneous germline poiint mutations from analysis of 5-mers. p-values were \"\\\n",
    "+r\"from the log-linear analysis.\"\n",
    "print (p_sum_tab)\n",
    "all_supp_tables.append(p_sum_tab.tostring(format=\"latex\", justify=\"ccccc\", label=\"suptable:p_sum_tab\"))"
   ]
  },
  {
   "cell_type": "markdown",
   "metadata": {},
   "source": [
    "## Supp. table: mutation motif analysis of spectra difference"
   ]
  },
  {
   "cell_type": "code",
   "execution_count": 19,
   "metadata": {},
   "outputs": [
    {
     "name": "stdout",
     "output_type": "stream",
     "text": [
      "========================================\n",
      "      Direction          Class       RET\n",
      "----------------------------------------\n",
      "T$\\rightarrow$C            ENU    -0.047\n",
      "A$\\rightarrow$T    Spontaneous    -0.036\n",
      "G$\\rightarrow$T    Spontaneous    -0.036\n",
      "T$\\rightarrow$A    Spontaneous    -0.035\n",
      "A$\\rightarrow$G            ENU    -0.035\n",
      "C$\\rightarrow$A    Spontaneous    -0.034\n",
      "G$\\rightarrow$A            ENU    -0.025\n",
      "C$\\rightarrow$T            ENU    -0.021\n",
      "A$\\rightarrow$C            ENU    -0.018\n",
      "T$\\rightarrow$G            ENU    -0.007\n",
      "G$\\rightarrow$C            ENU    -0.001\n",
      "C$\\rightarrow$G            ENU    -0.001\n",
      "T$\\rightarrow$G    Spontaneous     0.009\n",
      "C$\\rightarrow$G    Spontaneous     0.022\n",
      "C$\\rightarrow$T    Spontaneous     0.022\n",
      "G$\\rightarrow$C    Spontaneous     0.023\n",
      "G$\\rightarrow$A    Spontaneous     0.027\n",
      "A$\\rightarrow$C    Spontaneous     0.027\n",
      "A$\\rightarrow$G    Spontaneous     0.039\n",
      "C$\\rightarrow$A            ENU     0.052\n",
      "T$\\rightarrow$C    Spontaneous     0.055\n",
      "G$\\rightarrow$T            ENU     0.063\n",
      "T$\\rightarrow$A            ENU     0.066\n",
      "A$\\rightarrow$T            ENU     0.067\n",
      "----------------------------------------\n",
      "Comparison of mutation spectra between Spontaneous and ENU-induced germline point mutations. RET values are proportional to deviance generated from the log-linear model \\citep{zhu2017statistical}, and p-value are obtained from the $\\chi^2$ distribution. All p-values were below the limit of detection.\n"
     ]
    }
   ],
   "source": [
    "fns = !ls loglin/results/ENU_vs_germline/autosomes/combined/spectra_summary.txt\n",
    "\n",
    "tab_spectra = LoadTable(fns[0], sep=\"\\t\")\n",
    "tab_spectra = tab_spectra.get_columns([\"direction\", \"group\", \"ret\"])\n",
    "tab_spectra = tab_spectra.with_new_header(\"direction\", \"Direction\")\n",
    "tab_spectra = tab_spectra.with_new_header(\"group\", \"Class\")\n",
    "tab_spectra = tab_spectra.with_new_header(\"ret\", \"RET\")\n",
    "tab_spectra.format_column(\"Direction\", format_direction)\n",
    "tab_spectra.format_column(\"Class\", format_group)\n",
    "tab_spectra.format_column(\"RET\", \"%.3f\")\n",
    "tab_spectra = tab_spectra.sorted(columns=[\"RET\"])\n",
    "\n",
    "tab_spectra.legend = r\"Comparison of mutation spectra between Spontaneous and ENU-induced \"\\\n",
    "+r\"germline point mutations. RET values are proportional to deviance generated from the log-linear model \\citep{zhu2017statistical}, and \"\\\n",
    "+r\"p-value are obtained from the $\\chi^2$ distribution. All p-values were below the limit of detection.\"\n",
    "print (tab_spectra)\n",
    "all_supp_tables.append(format_latex_table(tab_spectra, justify=\"rrrl\", label=\"suptable:spectra:enu_spontaneous\"))"
   ]
  },
  {
   "cell_type": "markdown",
   "metadata": {},
   "source": [
    "## Supp. table: Summarized 3-mer AUC results of different classifiers"
   ]
  },
  {
   "cell_type": "code",
   "execution_count": 20,
   "metadata": {},
   "outputs": [
    {
     "name": "stdout",
     "output_type": "stream",
     "text": [
      "========================================================\n",
      "Classifier design    Training size    max AUC    min AUC\n",
      "--------------------------------------------------------\n",
      "                M            1,009      0.738      0.711\n",
      "                M            2,050      0.735      0.723\n",
      "                M            4,101      0.730      0.720\n",
      "                M           10,255      0.735      0.725\n",
      "                M           16,408      0.731      0.727\n",
      "              M+I            1,009      0.777      0.737\n",
      "              M+I            2,050      0.772      0.763\n",
      "              M+I            4,101      0.777      0.762\n",
      "              M+I           10,255      0.775      0.764\n",
      "              M+I           16,408      0.773      0.766\n",
      "           M+I+2D            1,009      0.777      0.736\n",
      "           M+I+2D            2,050      0.767      0.755\n",
      "           M+I+2D            4,101      0.776      0.763\n",
      "           M+I+2D           10,255      0.775      0.766\n",
      "           M+I+2D           16,408      0.774      0.769\n",
      "--------------------------------------------------------\n",
      "Summary of AUC scores from LR classifiers using 3-mers.\n"
     ]
    }
   ],
   "source": [
    "lc_aucs_3mer = []\n",
    "dims = [0,1,2]\n",
    "train_sizes = [1009, 2050, 4101, 10255, 16408]\n",
    "\n",
    "\n",
    "for dim in dims:\n",
    "    for ts in train_sizes:\n",
    "        data_dirs = glob.glob(\"classifier/results/chrom1/3-mer/data_ratio_1/direction_All/%s_way_samples/train_size_%s/\" % (dim, ts))\n",
    "        sample_aucs = []\n",
    "        for directory in data_dirs:\n",
    "            get_auc(directory, sample_aucs, 'LR')\n",
    "        sort_aucs = sorted(sample_aucs, key = lambda x: int(x[1]))\n",
    "        \n",
    "        aucs = [r[2] for r in sort_aucs]\n",
    "        max_auc = max(aucs)\n",
    "        min_auc = min(aucs)\n",
    "        \n",
    "        lc_aucs_3mer.append([model_nm_dict[dim], ts, max_auc, min_auc])\n",
    "    \n",
    "lc_headers_3mer = [\"Classifier design\", \"Training size\", \"max AUC\", \"min AUC\"]\n",
    "lc_3mer = LoadTable(header=lc_headers_3mer, rows=lc_aucs_3mer, digits=3,\n",
    "                  column_templates={'Training size': \"{:,}\".format},\n",
    "                  legend=\"Summary of AUC scores from LR classifiers using 3-mers.\")\n",
    "\n",
    "print (lc_3mer)\n",
    "all_supp_tables.append(lc_3mer.tostring(format=\"latex\", justify=\"rrrc\", label=\"suptable:LR_aucs_3mer\"))"
   ]
  },
  {
   "cell_type": "markdown",
   "metadata": {},
   "source": [
    "## Supp. table: Summarized 5-mer AUC results of different classifiers"
   ]
  },
  {
   "cell_type": "code",
   "execution_count": 21,
   "metadata": {},
   "outputs": [
    {
     "name": "stdout",
     "output_type": "stream",
     "text": [
      "========================================================\n",
      "Classifier design    Training size    max AUC    min AUC\n",
      "--------------------------------------------------------\n",
      "                M            1,009      0.738      0.711\n",
      "                M            2,050      0.735      0.723\n",
      "                M            4,101      0.730      0.720\n",
      "                M           10,255      0.735      0.725\n",
      "                M           16,408      0.731      0.727\n",
      "              M+I            1,009      0.771      0.736\n",
      "              M+I            2,050      0.775      0.758\n",
      "              M+I            4,101      0.779      0.764\n",
      "              M+I           10,255      0.778      0.768\n",
      "              M+I           16,408      0.775      0.769\n",
      "           M+I+2D            1,009      0.774      0.735\n",
      "           M+I+2D            2,050      0.765      0.755\n",
      "           M+I+2D            4,101      0.779      0.769\n",
      "           M+I+2D           10,255      0.781      0.772\n",
      "           M+I+2D           16,408      0.781      0.775\n",
      "           M+I+4D            1,009      0.774      0.734\n",
      "           M+I+4D            2,050      0.771      0.756\n",
      "           M+I+4D            4,101      0.779      0.770\n",
      "           M+I+4D           10,255      0.782      0.773\n",
      "           M+I+4D           16,408      0.782      0.776\n",
      "--------------------------------------------------------\n",
      "Summary of AUC scores from LR classifiers using 5-mers.\n"
     ]
    }
   ],
   "source": [
    "lc_aucs_5mer = []\n",
    "dims = [0,1,2,4]    \n",
    "train_sizes = [1009, 2050, 4101, 10255, 16408]\n",
    "\n",
    "for dim in dims:\n",
    "    for ts in train_sizes:\n",
    "        data_dirs = glob.glob(\"classifier/results/chrom1/5-mer/data_ratio_1/direction_All/%s_way_samples/train_size_%s/\" % (dim, ts))\n",
    "    \n",
    "        sample_aucs = []\n",
    "        for directory in data_dirs:\n",
    "            aucs = get_auc(directory, sample_aucs, 'LR')\n",
    "        sort_aucs = sorted(sample_aucs, key = lambda x: int(x[1]))\n",
    "    \n",
    "        aucs = [r[2] for r in sort_aucs]\n",
    "        max_auc = max(aucs)\n",
    "        min_auc = min(aucs)\n",
    "        \n",
    "        lc_aucs_5mer.append([model_nm_dict[dim], ts, max_auc, min_auc])\n",
    "\n",
    "lc_headers_5mer = [\"Classifier design\", \"Training size\", \"max AUC\", \"min AUC\"]\n",
    "lc_5mer = LoadTable(header=lc_headers_5mer, rows=lc_aucs_5mer, digits=3,\n",
    "                  column_templates={'Training size': \"{:,}\".format},\n",
    "                  legend=\"Summary of AUC scores from LR classifiers using 5-mers.\")\n",
    "\n",
    "print (lc_5mer)\n",
    "all_supp_tables.append(lc_5mer.tostring(format=\"latex\", justify=\"rrrc\", label=\"suptable:LR_aucs_5mer\"))"
   ]
  },
  {
   "cell_type": "markdown",
   "metadata": {},
   "source": [
    "## Supp. table: Summarized 7-mer AUC results of different classifiers"
   ]
  },
  {
   "cell_type": "code",
   "execution_count": 22,
   "metadata": {},
   "outputs": [
    {
     "name": "stdout",
     "output_type": "stream",
     "text": [
      "========================================================\n",
      "Classifier design    Training size    max AUC    min AUC\n",
      "--------------------------------------------------------\n",
      "                M            1,009      0.738      0.711\n",
      "                M            2,050      0.735      0.723\n",
      "                M            4,101      0.730      0.720\n",
      "                M           10,255      0.735      0.725\n",
      "                M           16,408      0.731      0.727\n",
      "              M+I            1,009      0.781      0.737\n",
      "              M+I            2,050      0.778      0.755\n",
      "              M+I            4,101      0.785      0.771\n",
      "              M+I           10,255      0.784      0.774\n",
      "              M+I           16,408      0.780      0.774\n",
      "           M+I+2D            1,009      0.777      0.734\n",
      "           M+I+2D            2,050      0.771      0.755\n",
      "           M+I+2D            4,101      0.788      0.775\n",
      "           M+I+2D           10,255      0.788      0.778\n",
      "           M+I+2D           16,408      0.787      0.783\n",
      "               FS            1,009      0.777      0.733\n",
      "               FS            2,050      0.773      0.757\n",
      "               FS            4,101      0.784      0.773\n",
      "               FS           10,255      0.787      0.780\n",
      "               FS           16,408      0.790      0.784\n",
      "--------------------------------------------------------\n",
      "Summary of AUC scores from LR classifiers using 7-mers.\n"
     ]
    }
   ],
   "source": [
    "lc_aucs_7mer = []\n",
    "dims = [0,1,2,6]    \n",
    "train_sizes = [1009, 2050, 4101, 10255, 16408]\n",
    "\n",
    "for dim in dims:\n",
    "    for ts in train_sizes:\n",
    "        data_dirs = glob.glob(\"classifier/results/chrom1/7-mer/data_ratio_1/direction_All/%s_way_samples/train_size_%s/\" % (dim, ts))\n",
    "    \n",
    "        sample_aucs = []\n",
    "        for directory in data_dirs:\n",
    "            aucs = get_auc(directory, sample_aucs, 'LR')\n",
    "        sort_aucs = sorted(sample_aucs, key = lambda x: int(x[1]))\n",
    "    \n",
    "        aucs = [r[2] for r in sort_aucs]\n",
    "        max_auc = max(aucs)\n",
    "        min_auc = min(aucs)\n",
    "        lc_aucs_7mer.append([model_nm_dict[dim], ts, max_auc, min_auc])\n",
    "\n",
    "\n",
    "lc_headers_7mer = [\"Classifier design\", \"Training size\", \"max AUC\", \"min AUC\"]\n",
    "lc_7mer = LoadTable(header=lc_headers_7mer, rows=lc_aucs_7mer, digits=3,\n",
    "                  column_templates={'Training size': \"{:,}\".format},\n",
    "                  legend=\"Summary of AUC scores from LR classifiers using 7-mers.\")\n",
    "\n",
    "print (lc_7mer)\n",
    "all_supp_tables.append(lc_7mer.tostring(format=\"latex\", justify=\"rrrc\", label=\"suptable:LR_aucs_7mer\"))"
   ]
  },
  {
   "cell_type": "markdown",
   "metadata": {},
   "source": [
    "## Supp. table: Summarized 7-mer AUC results of different NB classifiers"
   ]
  },
  {
   "cell_type": "code",
   "execution_count": 23,
   "metadata": {},
   "outputs": [
    {
     "name": "stdout",
     "output_type": "stream",
     "text": [
      "========================================================\n",
      "Classifier design    Training size    max AUC    min AUC\n",
      "--------------------------------------------------------\n",
      "                M            1,009      0.738      0.714\n",
      "                M            2,050      0.737      0.720\n",
      "                M            4,101      0.730      0.720\n",
      "                M           10,255      0.735      0.725\n",
      "                M           16,408      0.731      0.727\n",
      "              M+I            1,009      0.782      0.745\n",
      "              M+I            2,050      0.777      0.746\n",
      "              M+I            4,101      0.784      0.770\n",
      "              M+I           10,255      0.781      0.770\n",
      "              M+I           16,408      0.777      0.769\n",
      "           M+I+2D            1,009      0.728      0.671\n",
      "           M+I+2D            2,050      0.720      0.668\n",
      "           M+I+2D            4,101      0.732      0.711\n",
      "           M+I+2D           10,255      0.725      0.712\n",
      "           M+I+2D           16,408      0.718      0.710\n",
      "               FS            1,009      0.677      0.625\n",
      "               FS            2,050      0.672      0.636\n",
      "               FS            4,101      0.679      0.669\n",
      "               FS           10,255      0.681      0.674\n",
      "               FS           16,408      0.682      0.677\n",
      "--------------------------------------------------------\n",
      "Summary of AUC scores from Na\"ive Bayes classifiers using 7-mers.\n"
     ]
    }
   ],
   "source": [
    "lc_aucs_7mer = []\n",
    "dims = [0,1,2,6]    \n",
    "train_sizes = [1009, 2050, 4101, 10255, 16408]\n",
    "\n",
    "for dim in dims:\n",
    "    for ts in train_sizes:\n",
    "        data_dirs = glob.glob(\"classifier/results/chrom1/7-mer/data_ratio_1/direction_All/%s_way_samples/train_size_%s/\" % (dim, ts))\n",
    "    \n",
    "        sample_aucs = []\n",
    "        for directory in data_dirs:\n",
    "            aucs = get_auc(directory, sample_aucs, 'NB')\n",
    "        sort_aucs = sorted(sample_aucs, key = lambda x: int(x[1]))\n",
    "    \n",
    "        aucs = [r[2] for r in sort_aucs]\n",
    "        max_auc = max(aucs)\n",
    "        min_auc = min(aucs)\n",
    "        lc_aucs_7mer.append([model_nm_dict[dim], ts, max_auc, min_auc])\n",
    "\n",
    "\n",
    "lc_headers_7mer = [\"Classifier design\", \"Training size\", \"max AUC\", \"min AUC\"]\n",
    "lc_7mer = LoadTable(header=lc_headers_7mer, rows=lc_aucs_7mer, digits=3,\n",
    "                  column_templates={'Training size': \"{:,}\".format},\n",
    "                  legend=\"Summary of AUC scores from Na\\\"ive Bayes classifiers using 7-mers.\")\n",
    "\n",
    "print (lc_7mer)\n",
    "all_supp_tables.append(lc_7mer.tostring(format=\"latex\", justify=\"rrrc\", label=\"suptable:NB_aucs_7mer\"))"
   ]
  },
  {
   "cell_type": "markdown",
   "metadata": {},
   "source": [
    "## Making compound A->G supp figure\n",
    "\n",
    "Copy the 1,2,3 plots and the summary and place them into `../compound_figures/`. They will be combined into a single multi-panel plot separately."
   ]
  },
  {
   "cell_type": "code",
   "execution_count": 24,
   "metadata": {},
   "outputs": [],
   "source": [
    "fns = !ls loglin/results/ENU_variants/autosomes/directions/AtoG/*.pdf\n",
    "for fn in fns:\n",
    "    if fn.endswith(\"4.pdf\"):\n",
    "        continue\n",
    "    bn = os.path.basename(fn)\n",
    "    bn = \"ENU-AtoG_%s\" % bn\n",
    "    ofn = os.path.join(\"compound_figures/\", bn)\n",
    "    shutil.copy(fn, ofn)"
   ]
  },
  {
   "cell_type": "markdown",
   "metadata": {},
   "source": [
    "## Make compound figures and copy into place"
   ]
  },
  {
   "cell_type": "code",
   "execution_count": 25,
   "metadata": {},
   "outputs": [],
   "source": [
    "!cd compound_figures/; pdflatex suppfig_enu_AtoG.tex > /dev/null 2>&1\n",
    "!mv compound_figures/suppfig_enu_AtoG.pdf figs_n_tabs/.\n",
    "!find compound_figures/ -name \"*.log\" -delete\n",
    "!find compound_figures/ -name \"*.aux\" -delete\n",
    "!find compound_figures/ -name \"*.pdf\" -delete"
   ]
  },
  {
   "cell_type": "markdown",
   "metadata": {},
   "source": [
    "## Supp. figure: large neighbourhood effect analysis on ENU-induced A->G mutations"
   ]
  },
  {
   "cell_type": "code",
   "execution_count": 26,
   "metadata": {},
   "outputs": [
    {
     "name": "stdout",
     "output_type": "stream",
     "text": [
      "figs_n_tabs/long_flank_AtoG_enu.pdf is saved!\n"
     ]
    }
   ],
   "source": [
    "fn = \"loglin/results/ENU_variants/long_flanks/autosomes/directions/AtoG/1.pdf\"\n",
    "bn = \"long_flank_AtoG_enu.pdf\"\n",
    "ofn = os.path.join(\"figs_n_tabs/\", bn)\n",
    "shutil.copy(fn, ofn)\n",
    "print (\"%s is saved!\" % ofn)"
   ]
  },
  {
   "cell_type": "markdown",
   "metadata": {},
   "source": [
    "## Supp. figure: large neighbourhood effect analysis on spontaneous A->G mutations"
   ]
  },
  {
   "cell_type": "code",
   "execution_count": 27,
   "metadata": {},
   "outputs": [
    {
     "name": "stdout",
     "output_type": "stream",
     "text": [
      "figs_n_tabs/long_flank_AtoG_germline.pdf is saved!\n"
     ]
    }
   ],
   "source": [
    "fn = \"loglin/results/germline_variants/long_flanks/autosomes/directions/AtoG/1.pdf\"\n",
    "bn = \"long_flank_AtoG_germline.pdf\"\n",
    "ofn = os.path.join(\"figs_n_tabs/\", bn)\n",
    "shutil.copy(fn, ofn)\n",
    "print (\"%s is saved!\" % ofn)"
   ]
  },
  {
   "cell_type": "markdown",
   "metadata": {},
   "source": [
    "## Supp. figure: mutation motif analysis of spectra difference"
   ]
  },
  {
   "cell_type": "code",
   "execution_count": 28,
   "metadata": {},
   "outputs": [
    {
     "name": "stdout",
     "output_type": "stream",
     "text": [
      "/Users/gavin/miniconda3/envs/py36/lib/python3.6/site-packages/matplotlib/cbook/deprecation.py:107: MatplotlibDeprecationWarning: Passing one of 'on', 'true', 'off', 'false' as a boolean is deprecated; use an actual boolean (True/False) instead.\n",
      "  warnings.warn(message, mplDeprecation, stacklevel=1)\n",
      "\u001b[32mWrote /Users/gavin/repos/ENUProject/loglin/results/ENU_vs_germline/autosomes/combined/spectra_grid.pdf\u001b[0m\n",
      "figs_n_tabs/ENU_v_spontaneous_spectra_grid.pdf is saved!\n"
     ]
    }
   ],
   "source": [
    "paths = !find loglin/results/ENU_vs_germline/autosomes/combined/spectra_analysis.json\n",
    "assert len(paths) == 1, paths\n",
    "path = paths[0]\n",
    "figpath = \"loglin/results/ENU_vs_germline/autosomes/combined/spectra_grid.pdf\"\n",
    "\n",
    "!mutation_draw spectra_grid --figpath=$figpath --json_path=$path --group_label=group\n",
    "\n",
    "###### Copy spectra_grid figure to figs_n_tabs/\n",
    "fns = !ls loglin/results/ENU_vs_germline/autosomes/combined/*.pdf\n",
    "for fn in fns:\n",
    "    bn = os.path.basename(fn)\n",
    "    bn = \"ENU_v_spontaneous_spectra_grid.pdf\"\n",
    "    ofn = os.path.join(\"figs_n_tabs/\", bn)\n",
    "    shutil.copy(fn, ofn)\n",
    "    print (\"%s is saved!\" % ofn)"
   ]
  },
  {
   "cell_type": "markdown",
   "metadata": {},
   "source": [
    "## Supp. figures: GC% does not improve classifier - chrom1"
   ]
  },
  {
   "cell_type": "code",
   "execution_count": 29,
   "metadata": {},
   "outputs": [
    {
     "name": "stdout",
     "output_type": "stream",
     "text": [
      "gc_vs_nogc_curve.pdf is saved!\n"
     ]
    },
    {
     "data": {
      "image/png": "[encoded data removed]",
      "text/plain": [
       "<Figure size 640x480 with 4 Axes>"
      ]
     },
     "metadata": {},
     "output_type": "display_data"
    },
    {
     "name": "stdout",
     "output_type": "stream",
     "text": [
      "<ggplot: (-9223372036567876643)>\n"
     ]
    }
   ],
   "source": [
    "clfs = {'LR':'N', 'LR_GC':'Y'}\n",
    "dims = [0, 1, 2, 6]\n",
    "\n",
    "gc_lc_aucs = []\n",
    "for dim in dims:\n",
    "    data_dirs = glob.glob(\"classifier/results/chrom1/7-mer/data_ratio_1/direction_All/%s_way_samples/train_size_*/\" % dim)\n",
    "    for clf in clfs:\n",
    "        sample_aucs = []\n",
    "        for directory in data_dirs:\n",
    "            aucs = get_auc(directory, sample_aucs, clf)\n",
    "        sort_aucs = sorted(sample_aucs, key = lambda x: int(x[1]))\n",
    "        \n",
    "        for r in sort_aucs:\n",
    "            dim = r[0]\n",
    "            train_size = r[1]\n",
    "            auc = float(r[2])\n",
    "            gc = r[3]\n",
    "            \n",
    "            gc_lc_aucs.append([model_nm_dict[dim], train_size, auc, clfs[gc]])\n",
    "\n",
    "models = set(r[0] for r in gc_lc_aucs)\n",
    "train_sizes = set(r[1] for r in gc_lc_aucs)\n",
    "gc_groups = set(r[3] for r in gc_lc_aucs)\n",
    "n = 5\n",
    "records = []\n",
    "for model in models:\n",
    "    for train_size in train_sizes:\n",
    "        for gc in gc_groups:\n",
    "            auc_list = []\n",
    "            for r in gc_lc_aucs:\n",
    "                if model not in r:\n",
    "                    continue\n",
    "                if train_size not in r:\n",
    "                    continue\n",
    "                if gc != r[3]:\n",
    "                    continue\n",
    "                auc_list.append(r[2])\n",
    "            \n",
    "            auc_mean = np.array(auc_list).mean()\n",
    "            auc_se = np.array(auc_list).std(ddof=1)\n",
    "            records.append([model, train_size, gc, auc_mean, auc_se])\n",
    "    \n",
    "h = ['Classifier', 'Training_size', '+GC%', 'Mean_AUC', 'Std_error']\n",
    "gc_lc_tab = LoadTable(header=h, rows=records)\n",
    "gc_lc_df = gc_lc_tab.to_pandas_df()\n",
    "faceted_gc_lc = (ggplot(gc_lc_df) +\n",
    "                aes(x=\"Training_size\", y=\"Mean_AUC\", colour='+GC%', group='+GC%') +\n",
    "                geom_errorbar(aes(ymin=\"Mean_AUC-Std_error\", ymax=\"Mean_AUC+Std_error\"), width=.1, size=1) +\n",
    "                geom_line(size=1) +\n",
    "                geom_point(size=2) +\n",
    "                labs(x=\"Training size\", y=\"$\\overline{\\mathrm{AUC}}$\") +\n",
    "                facet_wrap(' ~ Classifier'))\n",
    "\n",
    "outfig_name = \"gc_vs_nogc_curve.pdf\"\n",
    "faceted_gc_lc.save(\"figs_n_tabs/%s\" % outfig_name, units=\"cm\", width=20, height=16)\n",
    "print (\"%s is saved!\" % outfig_name)\n",
    "print (faceted_gc_lc)"
   ]
  },
  {
   "cell_type": "markdown",
   "metadata": {},
   "source": [
    "## Supp. figures: AUC scores comparison between the logistic regression classifier and the NB classifier - chrom1"
   ]
  },
  {
   "cell_type": "code",
   "execution_count": 30,
   "metadata": {},
   "outputs": [
    {
     "name": "stdout",
     "output_type": "stream",
     "text": [
      "M+I+2D_lr_v_nb_curve.pdf is saved!\n"
     ]
    },
    {
     "data": {
      "image/png": "[encoded data removed]",
      "text/plain": [
       "<Figure size 640x480 with 1 Axes>"
      ]
     },
     "metadata": {},
     "output_type": "display_data"
    },
    {
     "name": "stdout",
     "output_type": "stream",
     "text": [
      "<ggplot: (-9223372036568678421)>\n"
     ]
    }
   ],
   "source": [
    "clfs = {'LR', 'NB'}\n",
    "\n",
    "lr_v_nb_rows = []\n",
    "data_dirs = glob.glob(\"classifier/results/chrom1/7-mer/data_ratio_1/direction_All/2_way_samples/train_size_*/\")\n",
    "    \n",
    "for clf in clfs:\n",
    "    sample_aucs = []\n",
    "    for directory in data_dirs:\n",
    "        aucs = get_auc(directory, sample_aucs, clf)\n",
    "    sort_aucs = sorted(sample_aucs, key = lambda x: int(x[1]))\n",
    "    for r in sort_aucs:\n",
    "        dim = r[0]\n",
    "        train_size = r[1]\n",
    "        auc = float(r[2])\n",
    "        classifier = r[3]\n",
    "            \n",
    "        lr_v_nb_rows.append([model_nm_dict[dim], train_size, auc, classifier])\n",
    "\n",
    "models = set(r[0] for r in lr_v_nb_rows)\n",
    "train_sizes = set(r[1] for r in lr_v_nb_rows)\n",
    "clf_groups = set(r[3] for r in lr_v_nb_rows)\n",
    "n = 5\n",
    "\n",
    "chrom1_nb_dict = {}\n",
    "for model in models:\n",
    "    lr_v_nb_records = []\n",
    "    for train_size in train_sizes:\n",
    "        for clf in clf_groups:\n",
    "            auc_list = []\n",
    "            for r in lr_v_nb_rows:\n",
    "                if model not in r:\n",
    "                    continue\n",
    "                if train_size not in r:\n",
    "                    continue\n",
    "                if clf not in r:\n",
    "                    continue\n",
    "                auc_list.append(r[2])\n",
    "    \n",
    "            auc_mean = np.array(auc_list).mean()\n",
    "            auc_se = np.array(auc_list).std(ddof=1)\n",
    "            clf_nm = '%s : %s'%(clf, model)\n",
    "            \n",
    "            chrom1_nb_dict[model] = auc_mean\n",
    "            lr_v_nb_records.append([clf_nm, train_size, auc_mean, auc_se])\n",
    "    \n",
    "    lr_v_nb_h = ['Classifier', 'Training_size', 'Mean_AUC', 'Std_error']\n",
    "    lr_v_nb_tab = LoadTable(header=lr_v_nb_h, rows=lr_v_nb_records)\n",
    "    lr_v_nb_df = lr_v_nb_tab.to_pandas_df()\n",
    "    fig_lr_v_nb = (ggplot(lr_v_nb_df) + \n",
    "                   aes(x=\"Training_size\", y=\"Mean_AUC\", colour=\"Classifier\") +\n",
    "                   geom_errorbar(aes(ymin=\"Mean_AUC-Std_error\", ymax=\"Mean_AUC+Std_error\"), width=.1, size=1) +\n",
    "                   geom_line(size=0.5) +\n",
    "                   geom_point(size=2) +\n",
    "                   labs(x=\"Training size\", y=\"$\\overline{\\mathrm{AUC}}$\"))\n",
    "    \n",
    "    outfig_name = \"%s_lr_v_nb_curve.pdf\" % model\n",
    "    fig_lr_v_nb.save(\"figs_n_tabs/%s\" % outfig_name, units=\"cm\", width=20, height=16)\n",
    "    print (\"%s is saved!\" % outfig_name)\n",
    "    print (fig_lr_v_nb)"
   ]
  },
  {
   "cell_type": "markdown",
   "metadata": {},
   "source": [
    "#### Save all supplementary tables into a .tex file"
   ]
  },
  {
   "cell_type": "code",
   "execution_count": 31,
   "metadata": {
    "collapsed": true
   },
   "outputs": [],
   "source": [
    "with open(\"figs_n_tabs/supp_materials_tables.tex\", \"w\") as out:\n",
    "    out.write(\"\\n\\n\".join(all_supp_tables))"
   ]
  },
  {
   "cell_type": "markdown",
   "metadata": {},
   "source": [
    "## Figure plot learning curves for M+I model between k-mer samples with data from chromosome 1"
   ]
  },
  {
   "cell_type": "code",
   "execution_count": 32,
   "metadata": {
    "collapsed": true
   },
   "outputs": [
    {
     "name": "stdout",
     "output_type": "stream",
     "text": [
      "   AUC_mean Classifier_design  Std_error  Train_size  k\n",
      "0  0.768937               M+I   0.002508       16408  3\n",
      "1  0.771855               M+I   0.002595       16408  5\n",
      "2  0.777219               M+I   0.002822       16408  7\n",
      "figs_n_tabs/long_flanks_AUC.pdf is saved!\n"
     ]
    },
    {
     "data": {
      "image/png": "[encoded data removed]",
      "text/plain": [
       "<Figure size 640x480 with 1 Axes>"
      ]
     },
     "metadata": {},
     "output_type": "display_data"
    },
    {
     "name": "stdout",
     "output_type": "stream",
     "text": [
      "<ggplot: (-9223372036568454049)>\n"
     ]
    }
   ],
   "source": [
    "window_sizes = [3, 5, 7, 9, 17, 21, 41, 61, 81, 101]\n",
    "train_sizes = [1009, 2050, 4101, 10255, 16408]\n",
    "\n",
    "plot_rows = []\n",
    "for ws in window_sizes:\n",
    "    for ts in train_sizes:\n",
    "        if ts != 16408:\n",
    "            continue\n",
    "        data_dirs = glob.glob(\"classifier/results/chrom1/%s-mer/data_ratio_1/direction_All/1_way_samples/train_size_%s/\" % (ws, ts))\n",
    "        for directory in data_dirs:\n",
    "            aucs = get_auc(directory, [], 'LR')\n",
    "            auc_list = [r[2] for r in aucs]\n",
    "            auc_mean = np.array(auc_list).mean()\n",
    "            auc_se = np.array(auc_list).std(ddof=1)\n",
    "            plot_rows.append([model_nm_dict[1], ws, ts, auc_mean, auc_se])\n",
    "\n",
    "plot_header = ['Classifier_design', 'k', 'Train_size', 'AUC_mean', 'Std_error']\n",
    "long_flanks_tab = LoadTable(header=plot_header, rows=plot_rows).to_pandas_df()\n",
    "print (long_flanks_tab)\n",
    "long_flanks_plot = (ggplot(long_flanks_tab) +\n",
    "                aes(x='k', y='AUC_mean') + \n",
    "                geom_errorbar(aes(ymin=\"AUC_mean-Std_error\", ymax=\"AUC_mean+Std_error\"), width=.1, size=1) +\n",
    "                geom_point() + \n",
    "                labs(x=\"$k$\", y=\"$\\overline{\\mathrm{AUC}}$\"))\n",
    "\n",
    "outname = \"figs_n_tabs/long_flanks_AUC.pdf\"    \n",
    "long_flanks_plot.save(outname, units=\"cm\", width=20, height=15)\n",
    "print (\"%s is saved!\" % outname)\n",
    "print (long_flanks_plot)"
   ]
  },
  {
   "cell_type": "code",
   "execution_count": null,
   "metadata": {},
   "outputs": [],
   "source": []
  }
 ],
 "metadata": {
  "anaconda-cloud": {},
  "kernelspec": {
   "display_name": "Python (py36)",
   "language": "python",
   "name": "py36"
  },
  "language_info": {
   "codemirror_mode": {
    "name": "ipython",
    "version": 3
   },
   "file_extension": ".py",
   "mimetype": "text/x-python",
   "name": "python",
   "nbconvert_exporter": "python",
   "pygments_lexer": "ipython3",
   "version": "3.6.3"
  }
 },
 "nbformat": 4,
 "nbformat_minor": 2
}
