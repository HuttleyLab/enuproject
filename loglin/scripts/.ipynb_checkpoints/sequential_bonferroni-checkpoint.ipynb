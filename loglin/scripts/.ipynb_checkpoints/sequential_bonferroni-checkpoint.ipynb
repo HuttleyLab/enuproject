{
 "cells": [
  {
   "cell_type": "code",
   "execution_count": 9,
   "metadata": {},
   "outputs": [
    {
     "name": "stderr",
     "output_type": "stream",
     "text": [
      "test_bonferroni (__main__.TestBonferroni)\n",
      "an example table is constructed according to BIOMETRY 3rd edition, pp241, with known ... ok\n",
      "\n",
      "----------------------------------------------------------------------\n",
      "Ran 1 test in 0.002s\n",
      "\n",
      "OK\n"
     ]
    },
    {
     "name": "stdout",
     "output_type": "stream",
     "text": [
      "12\n",
      "[['../results/ENU_variants/autosomes/directions/TtoG/summary.txt', '../results/ENU_variants/autosomes/directions/TtoA/summary.txt', '../results/ENU_variants/autosomes/directions/AtoC/summary.txt', '../results/ENU_variants/autosomes/directions/GtoA/summary.txt', '../results/ENU_variants/autosomes/directions/GtoT/summary.txt', '../results/ENU_variants/autosomes/directions/CtoA/summary.txt', '../results/ENU_variants/autosomes/directions/CtoT/summary.txt', '../results/ENU_variants/autosomes/directions/TtoC/summary.txt', '../results/ENU_variants/autosomes/directions/AtoT/summary.txt', '../results/ENU_variants/autosomes/directions/AtoG/summary.txt'], ['../results/ENU_variants/sex_chroms/directions/TtoG/summary.txt', '../results/ENU_variants/sex_chroms/directions/TtoA/summary.txt', '../results/ENU_variants/sex_chroms/directions/AtoC/summary.txt', '../results/ENU_variants/sex_chroms/directions/GtoA/summary.txt', '../results/ENU_variants/sex_chroms/directions/GtoT/summary.txt', '../results/ENU_variants/sex_chroms/directions/CtoA/summary.txt', '../results/ENU_variants/sex_chroms/directions/CtoT/summary.txt', '../results/ENU_variants/sex_chroms/directions/TtoC/summary.txt', '../results/ENU_variants/sex_chroms/directions/AtoT/summary.txt', '../results/ENU_variants/sex_chroms/directions/AtoG/summary.txt'], ['../results/ENU_variants/long_flanks/autosomes/directions/TtoG/summary.txt', '../results/ENU_variants/long_flanks/autosomes/directions/TtoA/summary.txt', '../results/ENU_variants/long_flanks/autosomes/directions/AtoC/summary.txt', '../results/ENU_variants/long_flanks/autosomes/directions/GtoA/summary.txt', '../results/ENU_variants/long_flanks/autosomes/directions/GtoT/summary.txt', '../results/ENU_variants/long_flanks/autosomes/directions/CtoA/summary.txt', '../results/ENU_variants/long_flanks/autosomes/directions/CtoT/summary.txt', '../results/ENU_variants/long_flanks/autosomes/directions/TtoC/summary.txt', '../results/ENU_variants/long_flanks/autosomes/directions/AtoT/summary.txt', '../results/ENU_variants/long_flanks/autosomes/directions/AtoG/summary.txt'], ['../results/ENU_variants/long_flanks/sex_chroms/directions/TtoG/summary.txt', '../results/ENU_variants/long_flanks/sex_chroms/directions/TtoA/summary.txt', '../results/ENU_variants/long_flanks/sex_chroms/directions/AtoC/summary.txt', '../results/ENU_variants/long_flanks/sex_chroms/directions/GtoA/summary.txt', '../results/ENU_variants/long_flanks/sex_chroms/directions/GtoT/summary.txt', '../results/ENU_variants/long_flanks/sex_chroms/directions/CtoA/summary.txt', '../results/ENU_variants/long_flanks/sex_chroms/directions/CtoT/summary.txt', '../results/ENU_variants/long_flanks/sex_chroms/directions/TtoC/summary.txt', '../results/ENU_variants/long_flanks/sex_chroms/directions/AtoT/summary.txt', '../results/ENU_variants/long_flanks/sex_chroms/directions/AtoG/summary.txt'], ['../results/ENU_vs_germline/autosomes/directions/TtoG/summary.txt', '../results/ENU_vs_germline/autosomes/directions/TtoA/summary.txt', '../results/ENU_vs_germline/autosomes/directions/AtoC/summary.txt', '../results/ENU_vs_germline/autosomes/directions/GtoA/summary.txt', '../results/ENU_vs_germline/autosomes/directions/GtoT/summary.txt', '../results/ENU_vs_germline/autosomes/directions/CtoA/summary.txt', '../results/ENU_vs_germline/autosomes/directions/CtoT/summary.txt', '../results/ENU_vs_germline/autosomes/directions/TtoC/summary.txt', '../results/ENU_vs_germline/autosomes/directions/AtoT/summary.txt', '../results/ENU_vs_germline/autosomes/directions/AtoG/summary.txt'], ['../results/ENU_vs_germline/sex_chroms/directions/TtoG/summary.txt', '../results/ENU_vs_germline/sex_chroms/directions/TtoA/summary.txt', '../results/ENU_vs_germline/sex_chroms/directions/AtoC/summary.txt', '../results/ENU_vs_germline/sex_chroms/directions/GtoA/summary.txt', '../results/ENU_vs_germline/sex_chroms/directions/GtoT/summary.txt', '../results/ENU_vs_germline/sex_chroms/directions/CtoA/summary.txt', '../results/ENU_vs_germline/sex_chroms/directions/CtoT/summary.txt', '../results/ENU_vs_germline/sex_chroms/directions/TtoC/summary.txt', '../results/ENU_vs_germline/sex_chroms/directions/AtoT/summary.txt', '../results/ENU_vs_germline/sex_chroms/directions/AtoG/summary.txt'], ['../results/germline_variants/autosomes/directions/TtoG/summary.txt', '../results/germline_variants/autosomes/directions/TtoA/summary.txt', '../results/germline_variants/autosomes/directions/AtoC/summary.txt', '../results/germline_variants/autosomes/directions/CtoG/summary.txt', '../results/germline_variants/autosomes/directions/GtoA/summary.txt', '../results/germline_variants/autosomes/directions/GtoT/summary.txt', '../results/germline_variants/autosomes/directions/CtoA/summary.txt', '../results/germline_variants/autosomes/directions/CtoT/summary.txt', '../results/germline_variants/autosomes/directions/TtoC/summary.txt', '../results/germline_variants/autosomes/directions/AtoT/summary.txt', '../results/germline_variants/autosomes/directions/AtoG/summary.txt', '../results/germline_variants/autosomes/directions/GtoC/summary.txt'], ['../results/germline_variants/sex_chroms/directions/TtoG/summary.txt', '../results/germline_variants/sex_chroms/directions/TtoA/summary.txt', '../results/germline_variants/sex_chroms/directions/AtoC/summary.txt', '../results/germline_variants/sex_chroms/directions/CtoG/summary.txt', '../results/germline_variants/sex_chroms/directions/GtoA/summary.txt', '../results/germline_variants/sex_chroms/directions/GtoT/summary.txt', '../results/germline_variants/sex_chroms/directions/CtoA/summary.txt', '../results/germline_variants/sex_chroms/directions/CtoT/summary.txt', '../results/germline_variants/sex_chroms/directions/TtoC/summary.txt', '../results/germline_variants/sex_chroms/directions/AtoT/summary.txt', '../results/germline_variants/sex_chroms/directions/AtoG/summary.txt', '../results/germline_variants/sex_chroms/directions/GtoC/summary.txt'], ['../results/germline_variants/long_flanks/autosomes/directions/TtoG/summary.txt', '../results/germline_variants/long_flanks/autosomes/directions/TtoA/summary.txt', '../results/germline_variants/long_flanks/autosomes/directions/AtoC/summary.txt', '../results/germline_variants/long_flanks/autosomes/directions/GtoA/summary.txt', '../results/germline_variants/long_flanks/autosomes/directions/GtoT/summary.txt', '../results/germline_variants/long_flanks/autosomes/directions/CtoA/summary.txt', '../results/germline_variants/long_flanks/autosomes/directions/CtoT/summary.txt', '../results/germline_variants/long_flanks/autosomes/directions/TtoC/summary.txt', '../results/germline_variants/long_flanks/autosomes/directions/AtoT/summary.txt', '../results/germline_variants/long_flanks/autosomes/directions/AtoG/summary.txt'], ['../results/germline_variants/long_flanks/sex_chroms/directions/TtoG/summary.txt', '../results/germline_variants/long_flanks/sex_chroms/directions/TtoA/summary.txt', '../results/germline_variants/long_flanks/sex_chroms/directions/AtoC/summary.txt', '../results/germline_variants/long_flanks/sex_chroms/directions/GtoA/summary.txt', '../results/germline_variants/long_flanks/sex_chroms/directions/GtoT/summary.txt', '../results/germline_variants/long_flanks/sex_chroms/directions/CtoA/summary.txt', '../results/germline_variants/long_flanks/sex_chroms/directions/CtoT/summary.txt', '../results/germline_variants/long_flanks/sex_chroms/directions/TtoC/summary.txt', '../results/germline_variants/long_flanks/sex_chroms/directions/AtoT/summary.txt', '../results/germline_variants/long_flanks/sex_chroms/directions/AtoG/summary.txt'], ['../results/ENU_A_vs_X/directions/TtoG/summary.txt', '../results/ENU_A_vs_X/directions/TtoA/summary.txt', '../results/ENU_A_vs_X/directions/AtoC/summary.txt', '../results/ENU_A_vs_X/directions/GtoA/summary.txt', '../results/ENU_A_vs_X/directions/GtoT/summary.txt', '../results/ENU_A_vs_X/directions/CtoA/summary.txt', '../results/ENU_A_vs_X/directions/CtoT/summary.txt', '../results/ENU_A_vs_X/directions/TtoC/summary.txt', '../results/ENU_A_vs_X/directions/AtoT/summary.txt', '../results/ENU_A_vs_X/directions/AtoG/summary.txt'], ['../results/germline_A_vs_X/directions/TtoG/summary.txt', '../results/germline_A_vs_X/directions/TtoA/summary.txt', '../results/germline_A_vs_X/directions/AtoC/summary.txt', '../results/germline_A_vs_X/directions/CtoG/summary.txt', '../results/germline_A_vs_X/directions/GtoA/summary.txt', '../results/germline_A_vs_X/directions/GtoT/summary.txt', '../results/germline_A_vs_X/directions/CtoA/summary.txt', '../results/germline_A_vs_X/directions/CtoT/summary.txt', '../results/germline_A_vs_X/directions/TtoC/summary.txt', '../results/germline_A_vs_X/directions/AtoT/summary.txt', '../results/germline_A_vs_X/directions/AtoG/summary.txt', '../results/germline_A_vs_X/directions/GtoC/summary.txt']]\n"
     ]
    },
    {
     "ename": "NameError",
     "evalue": "name 'fdjskl' is not defined",
     "output_type": "error",
     "traceback": [
      "\u001b[0;31m\u001b[0m",
      "\u001b[0;31mNameError\u001b[0mTraceback (most recent call last)",
      "\u001b[0;32m<ipython-input-9-58921f081150>\u001b[0m in \u001b[0;36m<module>\u001b[0;34m()\u001b[0m\n\u001b[1;32m     60\u001b[0m \u001b[0;32mprint\u001b[0m \u001b[0;34m(\u001b[0m\u001b[0mlen\u001b[0m\u001b[0;34m(\u001b[0m\u001b[0msummary_paths\u001b[0m\u001b[0;34m)\u001b[0m\u001b[0;34m)\u001b[0m\u001b[0;34m\u001b[0m\u001b[0m\n\u001b[1;32m     61\u001b[0m \u001b[0;32mprint\u001b[0m \u001b[0;34m(\u001b[0m\u001b[0msummary_paths\u001b[0m\u001b[0;34m)\u001b[0m\u001b[0;34m\u001b[0m\u001b[0m\n\u001b[0;32m---> 62\u001b[0;31m \u001b[0mfdjskl\u001b[0m\u001b[0;34m\u001b[0m\u001b[0m\n\u001b[0m\u001b[1;32m     63\u001b[0m \u001b[0;32mfor\u001b[0m \u001b[0mpaths\u001b[0m \u001b[0;32min\u001b[0m \u001b[0msummary_paths\u001b[0m\u001b[0;34m:\u001b[0m\u001b[0;34m\u001b[0m\u001b[0m\n\u001b[1;32m     64\u001b[0m     \u001b[0moutput_dir\u001b[0m \u001b[0;34m=\u001b[0m \u001b[0mos\u001b[0m\u001b[0;34m.\u001b[0m\u001b[0mpath\u001b[0m\u001b[0;34m.\u001b[0m\u001b[0mcommonprefix\u001b[0m\u001b[0;34m(\u001b[0m\u001b[0mpaths\u001b[0m\u001b[0;34m)\u001b[0m\u001b[0;34m\u001b[0m\u001b[0m\n",
      "\u001b[0;31mNameError\u001b[0m: name 'fdjskl' is not defined"
     ]
    }
   ],
   "source": [
    "#!/usr/bin/env python\n",
    "import os\n",
    "import unittest\n",
    "from unittest import TestCase\n",
    "from cogent import LoadTable\n",
    "\n",
    "def bonferroni_correction(table, alpha):\n",
    "    \"\"\"apply bonferroni correction to summary.txt file, the p-adjusted value is calculated as 0.05/n, where n is \n",
    "    number of total tests\"\"\"\n",
    "    \n",
    "    # this should be the sequential Bonferroni method -- CHECK!!\n",
    "    sig_results = []\n",
    "    num_rows = table.Shape[0]\n",
    "    prob_index = table.Header.index('prob')\n",
    "    table = table.sorted(columns='prob')\n",
    "    \n",
    "    #compare the smallest probability p_1 to p_adjusted (alpha / n). If p is greater than p_adjusted, declare \n",
    "    #all tests not significant; if p is samller than p_adjusted, declare this test is significant, \n",
    "    #and compare the second smallest p_2...\n",
    "    \n",
    "    for row in table.getRawData():\n",
    "        p_adjusted = alpha / (num_rows - len(sig_results))\n",
    "        if row[prob_index] > p_adjusted:\n",
    "            break\n",
    "        sig_results.append(row)\n",
    "    \n",
    "    if not sig_results:\n",
    "        return None\n",
    "    \n",
    "    sub_table = LoadTable(header=table.Header, rows=sig_results)\n",
    "    \n",
    "    \n",
    "    return sub_table\n",
    "\n",
    "class TestBonferroni(TestCase):\n",
    "    table_data = LoadTable('test_bonferroni.txt', sep='\\t')\n",
    "    alpha = 0.05\n",
    "    \n",
    "    def test_bonferroni(self):\n",
    "        \"\"\"an example table is constructed according to BIOMETRY 3rd edition, pp241, with known\n",
    "        probs and significant results; raise the AssertionError when significant results \n",
    "        are not correctly produces after Bonferroni correction\"\"\"\n",
    "        bon_adj_tbl = bonferroni_correction(self.table_data, self.alpha)\n",
    "        sig_results = bon_adj_tbl.getRawData('prob')\n",
    "        expect_results = [1e-06, 1e-06, 0.000002, 0.004765]\n",
    "        self.assertEqual(sig_results, expect_results)\n",
    "\n",
    "unittest.TextTestRunner(verbosity=2).run(TestBonferroni('test_bonferroni'))\n",
    "\n",
    "seq_classes = ['ENU_variants/autosomes', 'ENU_variants/sex_chroms', 'ENU_variants/long_flanks/autosomes', 'ENU_variants/long_flanks/sex_chroms', \n",
    "               'ENU_vs_germline/autosomes', 'ENU_vs_germline/sex_chroms', \n",
    "               'germline_variants/autosomes', 'germline_variants/sex_chroms', 'germline_variants/long_flanks/autosomes', 'germline_variants/long_flanks/sex_chroms', \n",
    "               'ENU_A_vs_X', 'germline_A_vs_X']\n",
    "\n",
    "\n",
    "summary_paths = []\n",
    "for seq_class in seq_classes:\n",
    "    seq_paths = !find ../results/$seq_class/* -name \"summary.txt\"\n",
    "    summary_paths.append(seq_paths)\n",
    "\n",
    "for paths in summary_paths:\n",
    "    output_dir = os.path.commonprefix(paths)\n",
    "    output_filename = output_dir + \"bonferroni.txt\"\n",
    "    \n",
    "    header = ['directions', 'positions', 'probs']\n",
    "    rows = []\n",
    "    for path in paths:\n",
    "        direction = path.split('/')[-2]\n",
    "        table = LoadTable(path, sep='\\t')\n",
    "        alpha = 0.05\n",
    "        adjusted_tbl = bonferroni_correction(table, alpha)\n",
    "\n",
    "        if adjusted_tbl is None:\n",
    "            print \"all tests in %s are not significant\" % path\n",
    "            continue\n",
    "\n",
    "        adjusted_tbl_ncol = adjusted_tbl.withNewColumn('direction', lambda x: direction, columns=adjusted_tbl.Header[0])\n",
    "        \n",
    "        for row in adjusted_tbl_ncol.getRawData(['direction', 'Position', 'prob']):\n",
    "            rows.append(row)\n",
    "            \n",
    "    summary_tbl = LoadTable(header=header, rows=rows, sep='\\t')\n",
    "    summary_tbl.writeToFile(output_filename, sep='\\t')\n",
    "    print \"bonferroni corrected table %s is saved\" % output_filename\n"
   ]
  },
  {
   "cell_type": "markdown",
   "metadata": {},
   "source": [
    "A sequential Bonferroni correction involves dividing the significance level (0.05) by the total number of hypothesis tests. If the most \"significant\" test passes that criteria, we remove it and repeat the process.\n",
    "\n",
    "We want another cogent Table that has the following columns:\n",
    "\n",
    "* direction\n",
    "* Position (see the summary.txt tables)\n",
    "* prob\n",
    "\n",
    "From these we will produce synopses of broad patterns, e.g. significant interactions are always between adjacent positions in sequence."
   ]
  },
  {
   "cell_type": "code",
   "execution_count": 2,
   "metadata": {},
   "outputs": [
    {
     "name": "stdout",
     "output_type": "stream",
     "text": [
      "====================================================\n",
      "                                 Contrasts      prob\n",
      "----------------------------------------------------\n",
      "       Sugars vs. control (C)(G,F,F + F,S)    0.0000\n",
      "      Mixed vs. pure sugars (G + F)(G,F,S)    0.0048\n",
      "               Among pure sugars (G)(F)(S)    0.0000\n",
      "   Mixed ns. average of G and F (G+F)(G,F)    0.4187\n",
      "Monosaccharides vs. disaccharides (G,F)(S)    0.0000\n",
      "----------------------------------------------------\n"
     ]
    }
   ],
   "source": [
    "from cogent import LoadTable\n",
    "##constructed a testing sample tbale with known probs and seq bonf sigc\n",
    "header = ['Contrasts', 'prob']\n",
    "rows = [['Sugars vs. control (C)(G,F,F + F,S)', 1e-6],\n",
    "        ['Mixed vs. pure sugars (G + F)(G,F,S)', 0.004765],\n",
    "        ['Among pure sugars (G)(F)(S)', 0.000002],\n",
    "        ['Mixed ns. average of G and F (G+F)(G,F)', 0.418749],\n",
    "        ['Monosaccharides vs. disaccharides (G,F)(S)', 1e-6]]\n",
    "\n",
    "table = LoadTable(header = header, rows = rows)\n",
    "print(table)\n",
    "table.writeToFile('test_bonferroni.txt', sep='\\t')"
   ]
  },
  {
   "cell_type": "code",
   "execution_count": 3,
   "metadata": {},
   "outputs": [
    {
     "ename": "NameError",
     "evalue": "name 'a' is not defined",
     "output_type": "error",
     "traceback": [
      "\u001b[0;31m\u001b[0m",
      "\u001b[0;31mNameError\u001b[0mTraceback (most recent call last)",
      "\u001b[0;32m<ipython-input-3-ec95aeada132>\u001b[0m in \u001b[0;36m<module>\u001b[0;34m()\u001b[0m\n\u001b[0;32m----> 1\u001b[0;31m \u001b[0ma\u001b[0m \u001b[0;34m<=\u001b[0m \u001b[0;36m1e-6\u001b[0m\u001b[0;34m\u001b[0m\u001b[0m\n\u001b[0m\u001b[1;32m      2\u001b[0m \u001b[0;32mprint\u001b[0m \u001b[0;34m(\u001b[0m\u001b[0ma\u001b[0m\u001b[0;34m)\u001b[0m\u001b[0;34m\u001b[0m\u001b[0m\n",
      "\u001b[0;31mNameError\u001b[0m: name 'a' is not defined"
     ]
    }
   ],
   "source": [
    "a <= 1e-6\n",
    "print (a)"
   ]
  },
  {
   "cell_type": "code",
   "execution_count": null,
   "metadata": {
    "collapsed": true
   },
   "outputs": [],
   "source": []
  }
 ],
 "metadata": {
  "anaconda-cloud": {},
  "kernelspec": {
   "display_name": "Python 2",
   "language": "python",
   "name": "python2"
  },
  "language_info": {
   "codemirror_mode": {
    "name": "ipython",
    "version": 2
   },
   "file_extension": ".py",
   "mimetype": "text/x-python",
   "name": "python",
   "nbconvert_exporter": "python",
   "pygments_lexer": "ipython2",
   "version": "2.7.10"
  }
 },
 "nbformat": 4,
 "nbformat_minor": 1
}
