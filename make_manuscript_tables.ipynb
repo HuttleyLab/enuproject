{
 "cells": [
  {
   "cell_type": "markdown",
   "metadata": {},
   "source": [
    "# Generates tables for the manuscript\n",
    "\n",
    "**Authored by:** Yicheng Zhu, Cheng Soon Ong and Gavin Huttley\n",
    "\n",
    "This notebook produces the tables for the main manuscript and the supplementary material. It assumes the directory containing the manuscript latex is named `mutation_classifier_manuscript` and is a sister directory to the one containing this file.\n",
    "\n",
    "The notebook further assumes installation of numerous python libraries. Those are defined in the top level imports below."
   ]
  },
  {
   "cell_type": "code",
   "execution_count": 1,
   "metadata": {
    "collapsed": false,
    "inputHidden": false,
    "jupyter": {
     "outputs_hidden": false
    },
    "outputHidden": false
   },
   "outputs": [],
   "source": [
    "import os\n",
    "import re\n",
    "import textwrap\n",
    "import numpy\n",
    "from tqdm import tqdm\n",
    "from cogent3.util.misc import open_\n",
    "from cogent3 import LoadTable\n",
    "\n",
    "from ms_scripts.makefig import MakeMatch\n",
    "from ms_scripts.getrefs import get_ms_supp_labels\n",
    "from ms_scripts.maketab import (classifier_summary_stats, format_latex_table,\n",
    "                     format_positions, format_pvalue, format_direction,\n",
    "                    format_group)\n",
    "\n",
    "os.makedirs('figs_n_tabs', exist_ok=True)\n",
    "\n",
    "kwargs = dict(category=\"name\", order=[\"M\", \"M+I\", \"M+I+2D\", \"M+I+2Dp\", \"FS\"])\n",
    "\n",
    "\n",
    "def clean_latex(latex):\n",
    "    latex = latex.splitlines()\n",
    "    result = []\n",
    "    for line in latex:\n",
    "        if line.rstrip().endswith(r'\\\\'):\n",
    "            result.append(line)\n",
    "            continue\n",
    "\n",
    "        line = line.strip()\n",
    "        result.extend(textwrap.wrap(line.strip(), break_long_words=False, break_on_hyphens=False))\n",
    "    latex = '\\n'.join(result)\n",
    "    return latex\n",
    "\n",
    "\n",
    "def get_relative_dir(path):\n",
    "    relative_dir = os.path.basename(os.path.dirname(path))\n",
    "    return relative_dir\n",
    "\n",
    "def get_summary_stats(table, stat, k):\n",
    "    matcher = MakeMatch({0: lambda x: x == \"lr\",\n",
    "                         1: lambda x: x == k,\n",
    "                         2: lambda x: x in kwargs[\"order\"]})\n",
    "    selected = collated.filtered(matcher, columns=[\"algorithm\", \"k\", \"name\"])\n",
    "    t = classifier_summary_stats(selected, 'auc', ['name', 'size'])\n",
    "    return t\n",
    "\n",
    "def is_tab(val):\n",
    "    bits = val.split(':')\n",
    "    result = bits[0].endswith('tab')\n",
    "    return result"
   ]
  },
  {
   "cell_type": "code",
   "execution_count": 2,
   "metadata": {},
   "outputs": [
    {
     "name": "stdout",
     "output_type": "stream",
     "text": [
      "\n",
      "\n",
      "Working on labels\n",
      "\n",
      "\n",
      "Working on refs\n"
     ]
    }
   ],
   "source": [
    "outdir_ms = \"../mutation_classifier_manuscript\"\n",
    "\n",
    "all_ms_tables = {}\n",
    "all_supp_tables = {}\n",
    "\n",
    "all_floats = {}  # for storing all latex float text (figs, tables)\n",
    "unused_labels = []\n",
    "ms_labels, supp_labels = get_ms_supp_labels(is_tab, texdir=outdir_ms)"
   ]
  },
  {
   "cell_type": "markdown",
   "metadata": {},
   "source": [
    "## Sample sizes"
   ]
  },
  {
   "cell_type": "code",
   "execution_count": 3,
   "metadata": {},
   "outputs": [],
   "source": [
    "label = \"suptab:sample-sizes\"\n",
    "if label in supp_labels:\n",
    "    chroms = [1, 2, 3, 4, 5, 6, 7, 8, 9,10, 11, 12, 13, 14, 15, 16, 17, 18, 19, 'XY']\n",
    "    enu_size_dict = {1: 16977, 2: 21100, 3: 11228, 4: 13973, 5: 14509, 6: 13039, 7: 20864, 8: 11232, \n",
    "                     9: 14010, 10: 11315, 11: 17101, 12: 8022, 13: 9085, 14: 8395, 15: 9342, 16: 7266, \n",
    "                     17: 11981, 18: 6356, 19: 7529, 'XY': 853}\n",
    "    sp_sizes_dict = {1: 17848, 2: 20051, 3: 11713, 4: 16936, 5: 16028, 6: 12097, 7: 19161, 8: 13465, \n",
    "                     9: 15662, 10: 12641, 11: 19626, 12: 8817, 13: 8939, 14: 8868, 15: 11079, 16: 8117, \n",
    "                     17: 12168, 18: 7732, 19: 8635, 'XY': 5097}\n",
    "\n",
    "    rows = []\n",
    "    for chrom in chroms:\n",
    "        num_enu = enu_size_dict[chrom]\n",
    "        num_sp = sp_sizes_dict[chrom]\n",
    "        rows.append([chrom, num_enu, num_sp])\n",
    "\n",
    "    header = ['Chromosome', 'ENU-induced', 'Spontaneous']\n",
    "    all_size_table = LoadTable(header=header, rows=rows, column_templates={\"ENU-induced\": \"{:,}\".format, \"Spontaneous\": \"{:,}\".format})\n",
    "    all_size_table.title = r\"By-chromosome sample sizes of genetic variants from the ENU induced and spontaneous \"\\\n",
    "    +r\"germline mutations.\"\n",
    "    all_supp_tables[label] = format_latex_table(all_size_table, justify=\"rrrl\", label=label)\n",
    "    all_size_table\n",
    "else:\n",
    "    unused_labels.append(label)"
   ]
  },
  {
   "cell_type": "markdown",
   "metadata": {},
   "source": [
    "# Log-linear"
   ]
  },
  {
   "cell_type": "markdown",
   "metadata": {},
   "source": [
    "### For manuscript"
   ]
  },
  {
   "cell_type": "code",
   "execution_count": 4,
   "metadata": {
    "collapsed": false,
    "inputHidden": false,
    "jupyter": {
     "outputs_hidden": false
    },
    "outputHidden": false
   },
   "outputs": [
    {
     "name": "stdout",
     "output_type": "stream",
     "text": [
      "==========================================================\n",
      "     Position(s)    Deviance    df                 p-value\n",
      "----------------------------------------------------------\n",
      "              +2        88.6     3    $4.4\\times 10^{-19}$\n",
      "              -2      1105.6     3                     0.0\n",
      "              +1      1393.7     3                     0.0\n",
      "              -1      5693.3     3                     0.0\n",
      "        (-2, +2)        12.0     9                  0.2145\n",
      "        (-1, +2)        50.3     9     $9.4\\times 10^{-8}$\n",
      "        (+1, +2)        96.1     9    $9.5\\times 10^{-17}$\n",
      "        (-2, +1)       123.0     9    $3.3\\times 10^{-22}$\n",
      "        (-2, -1)       284.1     9    $6.2\\times 10^{-56}$\n",
      "        (-1, +1)       353.1     9    $1.3\\times 10^{-70}$\n",
      "    (-2, -1, +2)        41.2    27                  0.0396\n",
      "    (-1, +1, +2)        46.9    27                  0.0100\n",
      "    (-2, +1, +2)        55.1    27                  0.0011\n",
      "    (-2, -1, +1)        62.2    27                  0.0001\n",
      "(-2, -1, +1, +2)       118.6    81                  0.0042\n",
      "----------------------------------------------------------\n"
     ]
    }
   ],
   "source": [
    "label = \"tab:enu_v_germline:a-g\"\n",
    "\n",
    "if label in ms_labels:\n",
    "    fns = !ls loglin/results/ENU_vs_germline/autosomes/directions/AtoG/summary.txt\n",
    "    fns\n",
    "    tab_enu_v_sp = LoadTable(fns[0], sep=\"\\t\")\n",
    "    tab_enu_v_sp = tab_enu_v_sp.with_new_column(\"Position(s)\", format_positions, columns=[\"Position\"])\n",
    "    tab_enu_v_sp = tab_enu_v_sp.get_columns([\"Position(s)\", \"Deviance\", \"df\", \"prob\"])\n",
    "    tab_enu_v_sp = tab_enu_v_sp.with_new_header(\"prob\", \"p-value\")\n",
    "    tab_enu_v_sp.format_column(\"p-value\", format_pvalue)\n",
    "    tab_enu_v_sp.format_column(\"Deviance\", \"%.1f\")\n",
    "    tab_enu_v_sp = tab_enu_v_sp.sorted(columns=[\"df\", \"Deviance\"])\n",
    "\n",
    "    tab_enu_v_sp.title = r\"Log-linear analysis of mutation motif comparison between mouse germline and ENU-induced \"\\\n",
    "    +r\"A$\\rightarrow$G mutations. Deviance is from the log-linear model, with df degrees-of-freedom \"\\\n",
    "    +r\"and corresponding $p$-value obtained from the $\\chi^2$ distribution.\"\n",
    "\n",
    "\n",
    "    all_ms_tables[label] = format_latex_table(tab_enu_v_sp, justify=\"rrrl\", label=label)\n",
    "    print(tab_enu_v_sp)\n",
    "else:\n",
    "    unused_labels.append(labels)"
   ]
  },
  {
   "cell_type": "markdown",
   "metadata": {},
   "source": [
    "# For supplementary"
   ]
  },
  {
   "cell_type": "markdown",
   "metadata": {},
   "source": [
    "## Log-linear"
   ]
  },
  {
   "cell_type": "code",
   "execution_count": 5,
   "metadata": {
    "collapsed": false,
    "inputHidden": false,
    "jupyter": {
     "outputs_hidden": false
    },
    "outputHidden": false
   },
   "outputs": [],
   "source": [
    "label = \"suptab:spectra:enu_spontaneous\"\n",
    "if label in supp_labels:\n",
    "    fns = !ls loglin/results/ENU_vs_germline/autosomes/combined/spectra_summary.txt\n",
    "\n",
    "    tab_spectra = LoadTable(fns[0], sep=\"\\t\")\n",
    "    tab_spectra = tab_spectra.get_columns([\"direction\", \"group\", \"ret\"])\n",
    "    tab_spectra = tab_spectra.with_new_header(\"direction\", \"Direction\")\n",
    "    tab_spectra = tab_spectra.with_new_header(\"group\", \"Class\")\n",
    "    tab_spectra = tab_spectra.with_new_header(\"ret\", \"RET\")\n",
    "    tab_spectra.format_column(\"Direction\", format_direction)\n",
    "    tab_spectra.format_column(\"Class\", format_group)\n",
    "    tab_spectra.format_column(\"RET\", \"%.3f\")\n",
    "    tab_spectra = tab_spectra.sorted(columns=[\"RET\"])\n",
    "\n",
    "    tab_spectra.title = r\"Comparison of mutation spectra between Spontaneous and ENU-induced \"\\\n",
    "    +r\"germline point mutations. RET values are proportional to deviance generated from the log-linear model \\citep{zhu2017statistical}, and \"\\\n",
    "    +r\"$p$-value are obtained from the $\\chi^2$ distribution. All $p$-values were below the limit of detection.\"\n",
    "    all_supp_tables[label] = format_latex_table(tab_spectra, justify=\"rrrl\", label=label)\n",
    "    tab_spectra\n",
    "else:\n",
    "    unused_labels.append(labels)"
   ]
  },
  {
   "cell_type": "code",
   "execution_count": 6,
   "metadata": {
    "collapsed": false,
    "inputHidden": false,
    "jupyter": {
     "outputs_hidden": false
    },
    "outputHidden": false
   },
   "outputs": [],
   "source": [
    "label = \"suptab:a-g:enu\"\n",
    "if label in supp_labels:\n",
    "    fns = !ls loglin/results/ENU_variants/autosomes/directions/AtoG/*.txt\n",
    "    tab_enu = LoadTable(fns[0], sep=\"\\t\")\n",
    "    tab_enu = tab_enu.with_new_column(\"Position(s)\", format_positions, columns=[\"Position\"])\n",
    "    tab_enu = tab_enu.get_columns([\"Position(s)\", \"Deviance\", \"df\", \"prob\"])\n",
    "    tab_enu = tab_enu.with_new_header(\"prob\", \"p-value\")\n",
    "    tab_enu.format_column(\"p-value\", format_pvalue)\n",
    "    tab_enu.format_column(\"Deviance\", \"%.1f\")\n",
    "    tab_enu = tab_enu.sorted(columns=[\"df\", \"Deviance\"])\n",
    "\n",
    "    tab_enu.title = r\"Log-linear analysis of ENU-induced A$\\rightarrow$G mutation. \"\\\n",
    "    +r\"Position(s) are relative to the index position. Deviance is from the log-linear model, \"\\\n",
    "    +r\"with df degrees-of-freedom and corresponding $p$-value obtained from the $\\chi^2$ \"\\\n",
    "    +r\"distribution. $p$-values listed as 0.0 are below the limit of detection. \"\\\n",
    "    +r\"See \\citet{zhu2017statistical} for a more detailed description of the log-linear models.\"\n",
    "\n",
    "\n",
    "    all_supp_tables[label] = format_latex_table(tab_enu, justify=\"rrrl\", label=label)\n",
    "    tab_enu\n",
    "else:\n",
    "    unused_labels.append(label)"
   ]
  },
  {
   "cell_type": "code",
   "execution_count": 7,
   "metadata": {
    "collapsed": false,
    "inputHidden": false,
    "jupyter": {
     "outputs_hidden": false
    },
    "outputHidden": false
   },
   "outputs": [],
   "source": [
    "label = \"suptab:p_sum_tab\"\n",
    "if label in supp_labels:\n",
    "    fns = !ls loglin/results/ENU_vs_germline/autosomes/directions/*/summary.txt\n",
    "\n",
    "    p_sum_rows = []\n",
    "    for fn in fns:\n",
    "        start, end = fn.split('/')[-2].split('to')\n",
    "        mut_dir = start + r'$\\rightarrow$' + end\n",
    "\n",
    "        summary_tab = LoadTable(fn, sep=\"\\t\")\n",
    "        p_vals = summary_tab.get_columns([\"Position\", \"prob\"]).tolist()\n",
    "\n",
    "        first_p_vals = []\n",
    "        second_p_vals = []\n",
    "        third_p_vals = []\n",
    "        forth_p_vals = []\n",
    "        for record in p_vals:\n",
    "            poses = record[0]\n",
    "            order = poses.count(':') + 1\n",
    "            if order == 1:\n",
    "                first_p_vals.append(record[1])\n",
    "            if order == 2:\n",
    "                second_p_vals.append(record[1])\n",
    "            if order == 3:\n",
    "                third_p_vals.append(record[1])\n",
    "            if order == 4:\n",
    "                forth_p_vals.append(record[1])\n",
    "\n",
    "        first_p_num = sum(p < 0.05 for p in first_p_vals)\n",
    "        second_p_num = sum(p < 0.05 for p in second_p_vals)\n",
    "        third_p_num = sum(p < 0.05 for p in third_p_vals)\n",
    "        forth_p_num = sum(p < 0.05 for p in forth_p_vals)\n",
    "        p_sum_rows.append([mut_dir, first_p_num, second_p_num, third_p_num, forth_p_num])\n",
    "\n",
    "    p_sum_header = [\"Mutation direction\", \"1st-order\", \"2nd-order\", \"3rd-order\", \"4th-order\"]\n",
    "    p_sum_tab = LoadTable(header=p_sum_header, rows=p_sum_rows, sep='\\t')\n",
    "    p_sum_tab.title = r\"Number of positions showing significant differences between ENU-induced and \"\\\n",
    "    +r\"spontaneous germline point mutations from analysis of 5-mers. A $p$-value $\\le 0.05$ was classified as significant. \"\\\n",
    "    +r\"$p$-values were from the log-linear analysis.\"\n",
    "\n",
    "\n",
    "    all_supp_tables[label] = format_latex_table(p_sum_tab, justify=\"ccccc\", label=label)\n",
    "    p_sum_tab\n",
    "else:\n",
    "    unused_labels.append(label)"
   ]
  },
  {
   "cell_type": "code",
   "execution_count": 8,
   "metadata": {
    "collapsed": false,
    "inputHidden": false,
    "jupyter": {
     "outputs_hidden": false
    },
    "outputHidden": false
   },
   "outputs": [],
   "source": [
    "def convert_to_subtable(table):\n",
    "    table = table.splitlines()\n",
    "    table[0] = r\"\\begin{subtable}[t]{1.0\\textwidth}\"\n",
    "    table[-1] = r\"\\end{subtable}\"\n",
    "    table = \"\\n\".join(table)\n",
    "    return table\n",
    "\n",
    "label = \"suptab:long-flank\"\n",
    "if label in supp_labels:\n",
    "    header = ['Direction', 'RE$_{max}(1)$', 'RE Dist.', 'p-val Dist.']\n",
    "    rows =[['A$\\\\rightarrow$C', '0.0374', '6', '10'],\n",
    "     ['A$\\\\rightarrow$G', '0.0402', '4', '10'],\n",
    "     ['A$\\\\rightarrow$T', '0.0638', '2', '10'],\n",
    "     ['C$\\\\rightarrow$A', '0.0632', '2', '10'],\n",
    "     ['C$\\\\rightarrow$T', '0.0703', '2', '10'],\n",
    "     ['G$\\\\rightarrow$A', '0.0710', '2', '10'],\n",
    "     ['G$\\\\rightarrow$T', '0.0624', '2', '10'],\n",
    "     ['T$\\\\rightarrow$A', '0.0606', '2', '10'],\n",
    "     ['T$\\\\rightarrow$C', '0.0395', '4', '10'],\n",
    "     ['T$\\\\rightarrow$G', '0.0373', '6', '10']]\n",
    "    lflank_enu = LoadTable(header=header, rows=rows, title=\"ENU-induced\")\n",
    "    lflank_enu = format_latex_table(lflank_enu, \"rrrc\", label=\"suptab:long-flank-nbrsize:enu\")\n",
    "    lflank_enu = convert_to_subtable(lflank_enu)\n",
    "\n",
    "    d = r\"\"\"Direction,RE$_{max}(1)$,RE Dist.,p-val Dist.\n",
    "    A$\\rightarrow$C,0.0047,8,10\n",
    "    A$\\rightarrow$G,0.0118,3,10\n",
    "    A$\\rightarrow$T,0.0194,3,10\n",
    "    C$\\rightarrow$A,0.0332,4,10\n",
    "    C$\\rightarrow$T,0.0505,1,10\n",
    "    G$\\rightarrow$A,0.0508,1,10\n",
    "    G$\\rightarrow$T,0.0351,3,10\n",
    "    T$\\rightarrow$A,0.0117,2,10\n",
    "    T$\\rightarrow$C,0.0152,2,10\n",
    "    T$\\rightarrow$G,0.0148,2,10\"\"\".splitlines()\n",
    "    header = d.pop(0).split(\",\")\n",
    "    rows = [r.split(\",\") for r in d]\n",
    "    lflank_spontab = LoadTable(header=header, rows=rows, title=\"Spontaneous\")\n",
    "    lflank_spon = format_latex_table(lflank_spontab, \"rrrc\")\n",
    "    lflank_spon = convert_to_subtable(lflank_spon)\n",
    "\n",
    "    lflank_tmp = '\\n'.join([r\"\\begin{table}\",\n",
    "                  r\"\\centering\", \"\", \"%s\", \"\", \"%s\",\n",
    "                  r\"\\caption{Longer range neighbourhood effect log-linear analyses results of (a) ENU-induced \"\n",
    "                  \"mutations and (b) germline spontaneous mutations. For both subtables, the most distant \"\n",
    "                  \"positions from the mutation with RE$(1)\\ge10\\%%$ of RE$_{max}(1)$. RE$(1)$ is the\"\n",
    "                  \" first order RE for the position, and RE$_{max}(1)$ the largest RE from a first \"\n",
    "                  \"order effect  for the surveyed positions. RE Dist. is the furthest position with \"\n",
    "                  \"an RE value $\\ge 0.1\\times\\mathrm{RE}_{max}$. p-val Dist. is the corresponding\"\n",
    "                  \" distance based on the $p$-value$\\le 0.05$. As the analysis was limited to \"\n",
    "                  \"a flank  size of 10bp either side of the mutating base, the maximum possible distance is 10.}\",\n",
    "                r\"\\label{%s}\",\n",
    "                r\"\\end{table}\"])\n",
    "\n",
    "    all_supp_tables[label] = lflank_tmp % (lflank_enu, lflank_spon, label)\n",
    "    lflank_spontab\n",
    "else:\n",
    "    unused_labels.append(label)"
   ]
  },
  {
   "cell_type": "markdown",
   "metadata": {},
   "source": [
    "## Data properties"
   ]
  },
  {
   "cell_type": "code",
   "execution_count": 9,
   "metadata": {
    "collapsed": false,
    "inputHidden": false,
    "jupyter": {
     "outputs_hidden": false
    },
    "outputHidden": false
   },
   "outputs": [],
   "source": [
    "auto_xy = lambda x: re.search(r'chrom([0-9]{1,2}|XY)\\.', x)\n",
    "get_chrom = lambda x: re.findall(r'(?<=chrom).{1,2}(?=\\.)', x)[0]\n",
    "\n",
    "def get_chrom_paths(paths):\n",
    "    result = {}\n",
    "    for path in paths:\n",
    "        if not auto_xy(path):\n",
    "            continue\n",
    "    \n",
    "        chrom = get_chrom(path)\n",
    "        try:\n",
    "            chrom = int(chrom)\n",
    "        except ValueError:\n",
    "            pass\n",
    "        result[chrom] = path\n",
    "    return result\n",
    "\n",
    "def get_num_records(path):\n",
    "    data = LoadTable(path)\n",
    "    return data.shape[0]\n",
    "\n",
    "enu_fns = !ls ../variant_data/ENU/*.tsv.gz\n",
    "enu_fns = get_chrom_paths(enu_fns)\n",
    "\n",
    "spn_fns = !ls ../variant_data/Germline/*.tsv.gz\n",
    "spn_fns = get_chrom_paths(spn_fns)\n",
    "\n",
    "rows = []\n",
    "for chrom in enu_fns:\n",
    "    enu_count = get_num_records(enu_fns[chrom])\n",
    "    spn_count = get_num_records(spn_fns[chrom])\n",
    "    rows.append([chrom, enu_count, spn_count])\n",
    "\n",
    "rows = sorted(rows, key=lambda x: ({True: 100}.get(type(x[0]) == str, x[0]), x))\n",
    "data_sizes = LoadTable(header=['Chromosome', 'ENU-induced', 'Spontaneous'], rows=rows)\n",
    "data_sizes.format_column('ENU-induced', '{:,}'.format)\n",
    "data_sizes.format_column('Spontaneous', '{:,}'.format)\n",
    "data_sizes.title = 'By-chromosome sample sizes of genetic variants from the ENU induced and spon-taneous germline mutations.'"
   ]
  },
  {
   "cell_type": "markdown",
   "metadata": {},
   "source": [
    "# Classifier"
   ]
  },
  {
   "cell_type": "code",
   "execution_count": 10,
   "metadata": {
    "collapsed": false,
    "inputHidden": false,
    "jupyter": {
     "outputs_hidden": false
    },
    "outputHidden": false
   },
   "outputs": [],
   "source": [
    "collated = LoadTable(\"classifier/chrom1_train/collated/collated.tsv.gz\",\n",
    "                    static_column_types=True)\n",
    "collated = collated.with_new_column('k', lambda x: 2 * x + 1, columns='flank_size')\n",
    "\n",
    "stat = 'auc'\n",
    "columns = ['algorithm', stat, 'k', 'name', 'size', 'flank_size', 'feature_dim', 'usegc', 'proximal']\n",
    "collated = collated.get_columns(columns)"
   ]
  },
  {
   "cell_type": "code",
   "execution_count": 11,
   "metadata": {
    "collapsed": false,
    "inputHidden": false,
    "jupyter": {
     "outputs_hidden": false
    },
    "outputHidden": false
   },
   "outputs": [],
   "source": [
    "three = get_summary_stats(collated, 'auc', 3)\n",
    "three.title = \"Summary of AUC scores from LR classifiers using 3-mers.\""
   ]
  },
  {
   "cell_type": "code",
   "execution_count": 12,
   "metadata": {
    "collapsed": false,
    "inputHidden": false,
    "jupyter": {
     "outputs_hidden": false
    },
    "outputHidden": false
   },
   "outputs": [],
   "source": [
    "five = get_summary_stats(collated, 'auc', 5)\n",
    "five.title = \"Summary of AUC scores from LR classifiers using 5-mers.\""
   ]
  },
  {
   "cell_type": "code",
   "execution_count": 13,
   "metadata": {
    "collapsed": false,
    "inputHidden": false,
    "jupyter": {
     "outputs_hidden": false
    },
    "outputHidden": false
   },
   "outputs": [],
   "source": [
    "seven = get_summary_stats(collated, 'auc', 7)\n",
    "seven.title = \"Summary of AUC scores from LR classifiers using 7-mers.\""
   ]
  },
  {
   "cell_type": "code",
   "execution_count": 14,
   "metadata": {
    "collapsed": false,
    "inputHidden": false,
    "jupyter": {
     "outputs_hidden": false
    },
    "outputHidden": false
   },
   "outputs": [],
   "source": [
    "fifty_nine = get_summary_stats(collated, 'auc', 59)\n",
    "fifty_nine.title = \"Summary of AUC scores from LR classifiers using 59-mers.\""
   ]
  },
  {
   "cell_type": "code",
   "execution_count": 15,
   "metadata": {
    "collapsed": false,
    "inputHidden": false,
    "jupyter": {
     "outputs_hidden": false
    },
    "outputHidden": false
   },
   "outputs": [],
   "source": [
    "tables = []\n",
    "for t, l in [(three, 'suptab:LR_aucs_3mer'), (five, 'suptab:LR_aucs_5mer'),\n",
    "             (seven, 'suptab:LR_aucs_7mer'),\n",
    "             (fifty_nine, 'suptab:LR_aucs_59mer')]:\n",
    "    all_supp_tables[l] = format_latex_table(t, 'rrcccc', label=l)"
   ]
  },
  {
   "cell_type": "markdown",
   "metadata": {
    "inputHidden": false,
    "outputHidden": false
   },
   "source": [
    "# Writing ms tables"
   ]
  },
  {
   "cell_type": "code",
   "execution_count": 16,
   "metadata": {},
   "outputs": [
    {
     "name": "stdout",
     "output_type": "stream",
     "text": [
      "../mutation_classifier_manuscript/tab-enu_v_germline-a-g.tex\n",
      "ms label missing tab:encoding-process\n"
     ]
    }
   ],
   "source": [
    "for label in ms_labels:\n",
    "    if label not in all_ms_tables:\n",
    "        print('ms label missing', label)\n",
    "        continue\n",
    "    \n",
    "    opath = os.path.join(outdir_ms, label.replace(':', '-') + '.tex')\n",
    "    print(opath)\n",
    "    with open(opath, 'w') as outfile:\n",
    "        table = all_ms_tables[label]\n",
    "        outfile.write(clean_latex(table) + '\\n\\n\\n')"
   ]
  },
  {
   "cell_type": "markdown",
   "metadata": {},
   "source": [
    "# Writing supp tables"
   ]
  },
  {
   "cell_type": "code",
   "execution_count": 17,
   "metadata": {},
   "outputs": [],
   "source": [
    "with open(os.path.join(outdir_ms, 'sup_tables.tex'), 'w') as outfile:\n",
    "    for label in supp_labels:\n",
    "        if label not in all_supp_tables:\n",
    "            print('ms label missing', label)\n",
    "            continue\n",
    "\n",
    "        table = all_supp_tables[label]\n",
    "        outfile.write(clean_latex(table) + '\\n\\n\\n')"
   ]
  }
 ],
 "metadata": {
  "kernel_info": {
   "name": "enu"
  },
  "kernelspec": {
   "display_name": "ENU",
   "language": "python",
   "name": "enu"
  },
  "language_info": {
   "codemirror_mode": {
    "name": "ipython",
    "version": 3
   },
   "file_extension": ".py",
   "mimetype": "text/x-python",
   "name": "python",
   "nbconvert_exporter": "python",
   "pygments_lexer": "ipython3",
   "version": "3.6.3"
  },
  "nteract": {
   "version": "0.12.3"
  },
  "widgets": {
   "application/vnd.jupyter.widget-state+json": {
    "state": {},
    "version_major": 2,
    "version_minor": 0
   }
  }
 },
 "nbformat": 4,
 "nbformat_minor": 4
}
